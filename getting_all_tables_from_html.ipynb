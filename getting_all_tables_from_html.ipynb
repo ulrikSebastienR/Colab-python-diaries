{
  "nbformat": 4,
  "nbformat_minor": 0,
  "metadata": {
    "colab": {
      "name": "getting all tables from html",
      "provenance": [],
      "collapsed_sections": [],
      "authorship_tag": "ABX9TyNarR911arRoVLv/o7ZeSUX",
      "include_colab_link": true
    },
    "kernelspec": {
      "name": "python3",
      "display_name": "Python 3"
    }
  },
  "cells": [
    {
      "cell_type": "markdown",
      "metadata": {
        "id": "view-in-github",
        "colab_type": "text"
      },
      "source": [
        "<a href=\"https://colab.research.google.com/github/ulrikSebastienR/Colab-python-diaries/blob/master/getting_all_tables_from_html.ipynb\" target=\"_parent\"><img src=\"https://colab.research.google.com/assets/colab-badge.svg\" alt=\"Open In Colab\"/></a>"
      ]
    },
    {
      "cell_type": "code",
      "metadata": {
        "id": "1QEt467Wp3_K",
        "colab_type": "code",
        "colab": {}
      },
      "source": [
        "import pandas as pd\n",
        "import html5lib"
      ],
      "execution_count": 0,
      "outputs": []
    },
    {
      "cell_type": "code",
      "metadata": {
        "id": "PvCWO82KTf6_",
        "colab_type": "code",
        "colab": {}
      },
      "source": [
        "url = \"https://www.moneycontrol.com/mutual-funds/nav/franklin-india-feeder-franklin-u-s-opportunities-fund-direct-dividend/MTE306\""
      ],
      "execution_count": 0,
      "outputs": []
    },
    {
      "cell_type": "code",
      "metadata": {
        "id": "isr-wUKZUip8",
        "colab_type": "code",
        "colab": {}
      },
      "source": [
        "values = pd.read_html(url)"
      ],
      "execution_count": 0,
      "outputs": []
    },
    {
      "cell_type": "code",
      "metadata": {
        "id": "ZEU9mdnJU3ci",
        "colab_type": "code",
        "colab": {
          "base_uri": "https://localhost:8080/",
          "height": 891
        },
        "outputId": "9b2d56cb-d362-45a2-abe9-713f1312288b"
      },
      "source": [
        "print(values)"
      ],
      "execution_count": 5,
      "outputs": [
        {
          "output_type": "stream",
          "text": [
            "[                                                   0                                                 1\n",
            "0  Fund Size  : ₹ 1306.64 Cr  (8.91% of Investmen...  Expense Ratio  : 0.76%  (0.73% Category average)\n",
            "1                                                NaN                                               NaN,   Period Invested for ₹10000 Invested on  ...  Category Avg Rank within Category\n",
            "0              1 Week          25-Mar-20  ...        -0.24%                61/70\n",
            "1             1 Month          28-Feb-20  ...       -12.00%                37/70\n",
            "2             3 Month          31-Dec-19  ...       -14.02%                27/68\n",
            "3             6 Month          01-Oct-19  ...        -7.35%                19/67\n",
            "4                 YTD          31-Dec-19  ...       -13.20%                27/68\n",
            "5              1 Year          01-Apr-19  ...        -3.84%                19/67\n",
            "6              2 Year          28-Mar-18  ...         0.15%                11/64\n",
            "7              3 Year          31-Mar-17  ...         3.15%                10/64\n",
            "8              5 Year          31-Mar-15  ...         4.17%                 6/63\n",
            "9     Since Inception          02-Jan-13  ...         3.99%                 2/71\n",
            "\n",
            "[10 rows x 7 columns],   Period Invested for ₹1000 SIP Started on  ...  Absolute Returns  Annualised Returns\n",
            "0              1 Year            01-Apr-19  ...           -6.42 %            -11.65 %\n",
            "1              2 Year            28-Mar-18  ...             0.3 %              0.29 %\n",
            "2              3 Year            31-Mar-17  ...           10.95 %              6.86 %\n",
            "3              5 Year            31-Mar-15  ...           28.58 %              9.99 %\n",
            "\n",
            "[4 rows x 6 columns],               Name Type of Instrument Weight (%)\n",
            "0         MF Units           MF Units     99.52%\n",
            "1  Net Receivables    Net Receivables      0.48%,                                          Scheme Name  Crisil Rank  ...     1Y     3Y\n",
            "0             Kotak Gold Fund - Direct Plan - Growth          NaN  ...  43.38  16.02\n",
            "1                       HDFC Gold Fund - Direct Plan          NaN  ...  39.49  14.59\n",
            "2              Axis Gold Fund - Direct Plan - Growth          NaN  ...  39.08  14.25\n",
            "3  Nippon India Gold Savings Fund - Direct Plan -...          NaN  ...  39.04  14.06\n",
            "4            Quantum Gold Savings Fund - Direct Plan          NaN  ...  38.73  13.54\n",
            "5  Aditya Birla Sun Life Gold Fund - Direct Plan ...          NaN  ...  38.65  13.86\n",
            "6              IDBI Gold Fund - Direct Plan - Growth          NaN  ...  38.53  13.18\n",
            "7  ICICI Prudential Regular Gold Savings Fund (FO...          NaN  ...  35.29  13.01\n",
            "8     Invesco India Gold Fund - Direct Plan - Growth          NaN  ...  35.27  12.61\n",
            "9  Edelweiss Greater China Equity Off-shore Fund ...          NaN  ...  13.64  16.01\n",
            "\n",
            "[10 rows x 8 columns],                                          Scheme Name  Crisil Rank  ...     1Y     3Y\n",
            "0  Franklin India Ultra Short Bond Fund - Super I...            2  ...   4.71   7.39\n",
            "1       Franklin India Liquid Fund - Direct - Growth            2  ...   6.58   7.04\n",
            "2  Franklin India Short Term Income Plan - Direct...            2  ...  -3.69   4.92\n",
            "3       Franklin India Equity Fund - Direct - Growth            1  ... -33.71  -8.03\n",
            "4  Franklin India Focused Equity Fund - Direct - ...            3  ... -30.94  -5.93\n",
            "5        Franklin India Prima Fund - Direct - Growth            3  ... -30.46  -7.53\n",
            "6  Franklin India Smaller Companies Fund - Direct...            3  ... -39.37 -13.44\n",
            "7     Franklin India Bluechip Fund - Direct - Growth            1  ... -31.07  -7.05\n",
            "8  Franklin India Credit Risk Fund - Direct - Growth            3  ...  -3.93   4.53\n",
            "9      Franklin India Savings Fund - Direct - Growth            4  ...   7.75   7.78\n",
            "\n",
            "[10 rows x 8 columns]]\n"
          ],
          "name": "stdout"
        }
      ]
    },
    {
      "cell_type": "code",
      "metadata": {
        "id": "yKiltU7IZASc",
        "colab_type": "code",
        "colab": {
          "base_uri": "https://localhost:8080/",
          "height": 35
        },
        "outputId": "34dc5544-ca36-40cb-b680-37767069749f"
      },
      "source": [
        "type(values)"
      ],
      "execution_count": 19,
      "outputs": [
        {
          "output_type": "execute_result",
          "data": {
            "text/plain": [
              "list"
            ]
          },
          "metadata": {
            "tags": []
          },
          "execution_count": 19
        }
      ]
    },
    {
      "cell_type": "code",
      "metadata": {
        "id": "N1o8xw0xVDjZ",
        "colab_type": "code",
        "colab": {}
      },
      "source": [
        "sheet1 = values[0],values[2],values[3],values[4]"
      ],
      "execution_count": 0,
      "outputs": []
    },
    {
      "cell_type": "code",
      "metadata": {
        "id": "YqxV0SNRZZvx",
        "colab_type": "code",
        "colab": {
          "base_uri": "https://localhost:8080/",
          "height": 35
        },
        "outputId": "74044c8c-de14-4dfc-d301-299fbd9a7018"
      },
      "source": [
        "type(sheet1)"
      ],
      "execution_count": 21,
      "outputs": [
        {
          "output_type": "execute_result",
          "data": {
            "text/plain": [
              "tuple"
            ]
          },
          "metadata": {
            "tags": []
          },
          "execution_count": 21
        }
      ]
    },
    {
      "cell_type": "code",
      "metadata": {
        "id": "CtafVV7rZJqx",
        "colab_type": "code",
        "colab": {}
      },
      "source": [
        "# Now values we extracted from html are list but we accidentally converted them to tuple. "
      ],
      "execution_count": 0,
      "outputs": []
    },
    {
      "cell_type": "code",
      "metadata": {
        "id": "bn495d9mXfAu",
        "colab_type": "code",
        "colab": {
          "base_uri": "https://localhost:8080/",
          "height": 455
        },
        "outputId": "f4c22475-d6a2-420e-c366-2fd5fabd5c05"
      },
      "source": [
        "print(sheet1)"
      ],
      "execution_count": 14,
      "outputs": [
        {
          "output_type": "stream",
          "text": [
            "(                                                   0                                                 1\n",
            "0  Fund Size  : ₹ 1306.64 Cr  (8.91% of Investmen...  Expense Ratio  : 0.76%  (0.73% Category average)\n",
            "1                                                NaN                                               NaN,   Period Invested for ₹1000 SIP Started on  ...  Absolute Returns  Annualised Returns\n",
            "0              1 Year            01-Apr-19  ...           -6.42 %            -11.65 %\n",
            "1              2 Year            28-Mar-18  ...             0.3 %              0.29 %\n",
            "2              3 Year            31-Mar-17  ...           10.95 %              6.86 %\n",
            "3              5 Year            31-Mar-15  ...           28.58 %              9.99 %\n",
            "\n",
            "[4 rows x 6 columns],               Name Type of Instrument Weight (%)\n",
            "0         MF Units           MF Units     99.52%\n",
            "1  Net Receivables    Net Receivables      0.48%,                                          Scheme Name  Crisil Rank  ...     1Y     3Y\n",
            "0             Kotak Gold Fund - Direct Plan - Growth          NaN  ...  43.38  16.02\n",
            "1                       HDFC Gold Fund - Direct Plan          NaN  ...  39.49  14.59\n",
            "2              Axis Gold Fund - Direct Plan - Growth          NaN  ...  39.08  14.25\n",
            "3  Nippon India Gold Savings Fund - Direct Plan -...          NaN  ...  39.04  14.06\n",
            "4            Quantum Gold Savings Fund - Direct Plan          NaN  ...  38.73  13.54\n",
            "5  Aditya Birla Sun Life Gold Fund - Direct Plan ...          NaN  ...  38.65  13.86\n",
            "6              IDBI Gold Fund - Direct Plan - Growth          NaN  ...  38.53  13.18\n",
            "7  ICICI Prudential Regular Gold Savings Fund (FO...          NaN  ...  35.29  13.01\n",
            "8     Invesco India Gold Fund - Direct Plan - Growth          NaN  ...  35.27  12.61\n",
            "9  Edelweiss Greater China Equity Off-shore Fund ...          NaN  ...  13.64  16.01\n",
            "\n",
            "[10 rows x 8 columns])\n"
          ],
          "name": "stdout"
        }
      ]
    },
    {
      "cell_type": "code",
      "metadata": {
        "id": "InNYOTi8Z8lo",
        "colab_type": "code",
        "colab": {
          "base_uri": "https://localhost:8080/",
          "height": 35
        },
        "outputId": "f8cadae0-6065-4ed7-d47b-ad07a6d498c9"
      },
      "source": [
        "type(sheet1)"
      ],
      "execution_count": 23,
      "outputs": [
        {
          "output_type": "execute_result",
          "data": {
            "text/plain": [
              "tuple"
            ]
          },
          "metadata": {
            "tags": []
          },
          "execution_count": 23
        }
      ]
    },
    {
      "cell_type": "code",
      "metadata": {
        "id": "KlKt8TKxZ83v",
        "colab_type": "code",
        "colab": {}
      },
      "source": [
        "table1 = list(sheet1)"
      ],
      "execution_count": 0,
      "outputs": []
    },
    {
      "cell_type": "code",
      "metadata": {
        "id": "18jvLb4tZkjZ",
        "colab_type": "code",
        "colab": {}
      },
      "source": [
        "#Now we will convert this tuple to a list as to_excel method doesn't work on lists"
      ],
      "execution_count": 0,
      "outputs": []
    },
    {
      "cell_type": "code",
      "metadata": {
        "id": "VqlzY4p6aQxw",
        "colab_type": "code",
        "colab": {
          "base_uri": "https://localhost:8080/",
          "height": 35
        },
        "outputId": "78718374-481a-4cc0-90d0-227eec303da0"
      },
      "source": [
        "type(table1)"
      ],
      "execution_count": 25,
      "outputs": [
        {
          "output_type": "execute_result",
          "data": {
            "text/plain": [
              "list"
            ]
          },
          "metadata": {
            "tags": []
          },
          "execution_count": 25
        }
      ]
    },
    {
      "cell_type": "code",
      "metadata": {
        "id": "_aYFzqS4cIJN",
        "colab_type": "code",
        "colab": {}
      },
      "source": [
        "#to_excel method requires the class 'pandas.core.frame.DataFrame' and table1 is a list so we still can't write an .xlsx from it. "
      ],
      "execution_count": 0,
      "outputs": []
    },
    {
      "cell_type": "code",
      "metadata": {
        "id": "eH9VCu-3dAyU",
        "colab_type": "code",
        "colab": {}
      },
      "source": [
        "#https://www.geeksforgeeks.org/creating-a-pandas-dataframe-using-list-of-tuples/"
      ],
      "execution_count": 0,
      "outputs": []
    },
    {
      "cell_type": "code",
      "metadata": {
        "id": "8xybzx_YaRDk",
        "colab_type": "code",
        "colab": {
          "base_uri": "https://localhost:8080/",
          "height": 455
        },
        "outputId": "00604e09-8f86-4be4-9827-d72fd4872d5f"
      },
      "source": [
        "print(table1)"
      ],
      "execution_count": 26,
      "outputs": [
        {
          "output_type": "stream",
          "text": [
            "[                                                   0                                                 1\n",
            "0  Fund Size  : ₹ 1306.64 Cr  (8.91% of Investmen...  Expense Ratio  : 0.76%  (0.73% Category average)\n",
            "1                                                NaN                                               NaN,   Period Invested for ₹1000 SIP Started on  ...  Absolute Returns  Annualised Returns\n",
            "0              1 Year            01-Apr-19  ...           -6.42 %            -11.65 %\n",
            "1              2 Year            28-Mar-18  ...             0.3 %              0.29 %\n",
            "2              3 Year            31-Mar-17  ...           10.95 %              6.86 %\n",
            "3              5 Year            31-Mar-15  ...           28.58 %              9.99 %\n",
            "\n",
            "[4 rows x 6 columns],               Name Type of Instrument Weight (%)\n",
            "0         MF Units           MF Units     99.52%\n",
            "1  Net Receivables    Net Receivables      0.48%,                                          Scheme Name  Crisil Rank  ...     1Y     3Y\n",
            "0             Kotak Gold Fund - Direct Plan - Growth          NaN  ...  43.38  16.02\n",
            "1                       HDFC Gold Fund - Direct Plan          NaN  ...  39.49  14.59\n",
            "2              Axis Gold Fund - Direct Plan - Growth          NaN  ...  39.08  14.25\n",
            "3  Nippon India Gold Savings Fund - Direct Plan -...          NaN  ...  39.04  14.06\n",
            "4            Quantum Gold Savings Fund - Direct Plan          NaN  ...  38.73  13.54\n",
            "5  Aditya Birla Sun Life Gold Fund - Direct Plan ...          NaN  ...  38.65  13.86\n",
            "6              IDBI Gold Fund - Direct Plan - Growth          NaN  ...  38.53  13.18\n",
            "7  ICICI Prudential Regular Gold Savings Fund (FO...          NaN  ...  35.29  13.01\n",
            "8     Invesco India Gold Fund - Direct Plan - Growth          NaN  ...  35.27  12.61\n",
            "9  Edelweiss Greater China Equity Off-shore Fund ...          NaN  ...  13.64  16.01\n",
            "\n",
            "[10 rows x 8 columns]]\n"
          ],
          "name": "stdout"
        }
      ]
    },
    {
      "cell_type": "code",
      "metadata": {
        "id": "W6aFzgxCdDIh",
        "colab_type": "code",
        "colab": {
          "base_uri": "https://localhost:8080/",
          "height": 144
        },
        "outputId": "1f73e3c5-6a48-4a03-dcc1-8990e7bfbe3a"
      },
      "source": [
        "df = pd.DataFrame.from_records(sheet1)\n",
        "print(df)"
      ],
      "execution_count": 30,
      "outputs": [
        {
          "output_type": "stream",
          "text": [
            "                     0                     1  ...     6     7\n",
            "0                    0                     1  ...  None  None\n",
            "1  Period Invested for  ₹1000 SIP Started on  ...  None  None\n",
            "2                 Name    Type of Instrument  ...  None  None\n",
            "3          Scheme Name           Crisil Rank  ...    1Y    3Y\n",
            "\n",
            "[4 rows x 8 columns]\n"
          ],
          "name": "stdout"
        }
      ]
    },
    {
      "cell_type": "code",
      "metadata": {
        "id": "wvq8bbb4YCvL",
        "colab_type": "code",
        "colab": {}
      },
      "source": [
        "df.to_excel('table1.xlsx')"
      ],
      "execution_count": 0,
      "outputs": []
    },
    {
      "cell_type": "code",
      "metadata": {
        "id": "cTivj1CfYYNR",
        "colab_type": "code",
        "colab": {}
      },
      "source": [
        "output1 = 'table1.xlsx'"
      ],
      "execution_count": 0,
      "outputs": []
    },
    {
      "cell_type": "code",
      "metadata": {
        "id": "GQyDiNMod__c",
        "colab_type": "code",
        "colab": {
          "base_uri": "https://localhost:8080/",
          "height": 35
        },
        "outputId": "15edac66-05a8-499f-eefa-50e7fd8f729e"
      },
      "source": [
        "print(type(output1)\n",
        "print(output1)"
      ],
      "execution_count": 42,
      "outputs": [
        {
          "output_type": "stream",
          "text": [
            "table1.xlsx\n"
          ],
          "name": "stdout"
        }
      ]
    },
    {
      "cell_type": "code",
      "metadata": {
        "id": "ZcDB5NgEep9e",
        "colab_type": "code",
        "colab": {
          "base_uri": "https://localhost:8080/",
          "height": 175
        },
        "outputId": "2003d5d9-4059-4e52-ebc1-73986b200627"
      },
      "source": [
        "pd.read_excel(output1)"
      ],
      "execution_count": 44,
      "outputs": [
        {
          "output_type": "execute_result",
          "data": {
            "text/html": [
              "<div>\n",
              "<style scoped>\n",
              "    .dataframe tbody tr th:only-of-type {\n",
              "        vertical-align: middle;\n",
              "    }\n",
              "\n",
              "    .dataframe tbody tr th {\n",
              "        vertical-align: top;\n",
              "    }\n",
              "\n",
              "    .dataframe thead th {\n",
              "        text-align: right;\n",
              "    }\n",
              "</style>\n",
              "<table border=\"1\" class=\"dataframe\">\n",
              "  <thead>\n",
              "    <tr style=\"text-align: right;\">\n",
              "      <th></th>\n",
              "      <th>Unnamed: 0</th>\n",
              "      <th>0</th>\n",
              "      <th>1</th>\n",
              "      <th>2</th>\n",
              "      <th>3</th>\n",
              "      <th>4</th>\n",
              "      <th>5</th>\n",
              "      <th>6</th>\n",
              "      <th>7</th>\n",
              "    </tr>\n",
              "  </thead>\n",
              "  <tbody>\n",
              "    <tr>\n",
              "      <th>0</th>\n",
              "      <td>0</td>\n",
              "      <td>0</td>\n",
              "      <td>1</td>\n",
              "      <td>NaN</td>\n",
              "      <td>NaN</td>\n",
              "      <td>NaN</td>\n",
              "      <td>NaN</td>\n",
              "      <td>NaN</td>\n",
              "      <td>NaN</td>\n",
              "    </tr>\n",
              "    <tr>\n",
              "      <th>1</th>\n",
              "      <td>1</td>\n",
              "      <td>Period Invested for</td>\n",
              "      <td>₹1000 SIP Started on</td>\n",
              "      <td>Investments</td>\n",
              "      <td>Latest Value</td>\n",
              "      <td>Absolute Returns</td>\n",
              "      <td>Annualised Returns</td>\n",
              "      <td>NaN</td>\n",
              "      <td>NaN</td>\n",
              "    </tr>\n",
              "    <tr>\n",
              "      <th>2</th>\n",
              "      <td>2</td>\n",
              "      <td>Name</td>\n",
              "      <td>Type of Instrument</td>\n",
              "      <td>Weight (%)</td>\n",
              "      <td>NaN</td>\n",
              "      <td>NaN</td>\n",
              "      <td>NaN</td>\n",
              "      <td>NaN</td>\n",
              "      <td>NaN</td>\n",
              "    </tr>\n",
              "    <tr>\n",
              "      <th>3</th>\n",
              "      <td>3</td>\n",
              "      <td>Scheme Name</td>\n",
              "      <td>Crisil Rank</td>\n",
              "      <td>Asset Size (Cr)</td>\n",
              "      <td>1M</td>\n",
              "      <td>3M</td>\n",
              "      <td>6M</td>\n",
              "      <td>1Y</td>\n",
              "      <td>3Y</td>\n",
              "    </tr>\n",
              "  </tbody>\n",
              "</table>\n",
              "</div>"
            ],
            "text/plain": [
              "   Unnamed: 0                    0  ...    6    7\n",
              "0           0                    0  ...  NaN  NaN\n",
              "1           1  Period Invested for  ...  NaN  NaN\n",
              "2           2                 Name  ...  NaN  NaN\n",
              "3           3          Scheme Name  ...   1Y   3Y\n",
              "\n",
              "[4 rows x 9 columns]"
            ]
          },
          "metadata": {
            "tags": []
          },
          "execution_count": 44
        }
      ]
    },
    {
      "cell_type": "code",
      "metadata": {
        "id": "eSN4cvkyfIW5",
        "colab_type": "code",
        "colab": {}
      },
      "source": [
        ""
      ],
      "execution_count": 0,
      "outputs": []
    }
  ]
}