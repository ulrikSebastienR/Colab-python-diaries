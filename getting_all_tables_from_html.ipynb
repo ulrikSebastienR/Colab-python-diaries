{
  "nbformat": 4,
  "nbformat_minor": 0,
  "metadata": {
    "colab": {
      "name": "getting all tables from html",
      "provenance": [],
      "collapsed_sections": [],
      "authorship_tag": "ABX9TyNE2ZxwTCBFVBPoQ3jkQejE",
      "include_colab_link": true
    },
    "kernelspec": {
      "name": "python3",
      "display_name": "Python 3"
    }
  },
  "cells": [
    {
      "cell_type": "markdown",
      "metadata": {
        "id": "view-in-github",
        "colab_type": "text"
      },
      "source": [
        "<a href=\"https://colab.research.google.com/github/ulrikSebastienR/Colab-python-diaries/blob/master/getting_all_tables_from_html.ipynb\" target=\"_parent\"><img src=\"https://colab.research.google.com/assets/colab-badge.svg\" alt=\"Open In Colab\"/></a>"
      ]
    },
    {
      "cell_type": "code",
      "metadata": {
        "id": "1QEt467Wp3_K",
        "colab_type": "code",
        "colab": {}
      },
      "source": [
        "import pandas as pd\n",
        "import html5lib"
      ],
      "execution_count": 0,
      "outputs": []
    },
    {
      "cell_type": "code",
      "metadata": {
        "id": "PvCWO82KTf6_",
        "colab_type": "code",
        "colab": {}
      },
      "source": [
        "url = \"https://www.moneycontrol.com/mutual-funds/nav/franklin-india-feeder-franklin-u-s-opportunities-fund-direct-dividend/MTE306\""
      ],
      "execution_count": 0,
      "outputs": []
    },
    {
      "cell_type": "code",
      "metadata": {
        "id": "isr-wUKZUip8",
        "colab_type": "code",
        "colab": {}
      },
      "source": [
        "values = pd.read_html(url)"
      ],
      "execution_count": 0,
      "outputs": []
    },
    {
      "cell_type": "code",
      "metadata": {
        "id": "ZEU9mdnJU3ci",
        "colab_type": "code",
        "colab": {
          "base_uri": "https://localhost:8080/",
          "height": 891
        },
        "outputId": "9b2d56cb-d362-45a2-abe9-713f1312288b"
      },
      "source": [
        "print(values)"
      ],
      "execution_count": 5,
      "outputs": [
        {
          "output_type": "stream",
          "text": [
            "[                                                   0                                                 1\n",
            "0  Fund Size  : ₹ 1306.64 Cr  (8.91% of Investmen...  Expense Ratio  : 0.76%  (0.73% Category average)\n",
            "1                                                NaN                                               NaN,   Period Invested for ₹10000 Invested on  ...  Category Avg Rank within Category\n",
            "0              1 Week          25-Mar-20  ...        -0.24%                61/70\n",
            "1             1 Month          28-Feb-20  ...       -12.00%                37/70\n",
            "2             3 Month          31-Dec-19  ...       -14.02%                27/68\n",
            "3             6 Month          01-Oct-19  ...        -7.35%                19/67\n",
            "4                 YTD          31-Dec-19  ...       -13.20%                27/68\n",
            "5              1 Year          01-Apr-19  ...        -3.84%                19/67\n",
            "6              2 Year          28-Mar-18  ...         0.15%                11/64\n",
            "7              3 Year          31-Mar-17  ...         3.15%                10/64\n",
            "8              5 Year          31-Mar-15  ...         4.17%                 6/63\n",
            "9     Since Inception          02-Jan-13  ...         3.99%                 2/71\n",
            "\n",
            "[10 rows x 7 columns],   Period Invested for ₹1000 SIP Started on  ...  Absolute Returns  Annualised Returns\n",
            "0              1 Year            01-Apr-19  ...           -6.42 %            -11.65 %\n",
            "1              2 Year            28-Mar-18  ...             0.3 %              0.29 %\n",
            "2              3 Year            31-Mar-17  ...           10.95 %              6.86 %\n",
            "3              5 Year            31-Mar-15  ...           28.58 %              9.99 %\n",
            "\n",
            "[4 rows x 6 columns],               Name Type of Instrument Weight (%)\n",
            "0         MF Units           MF Units     99.52%\n",
            "1  Net Receivables    Net Receivables      0.48%,                                          Scheme Name  Crisil Rank  ...     1Y     3Y\n",
            "0             Kotak Gold Fund - Direct Plan - Growth          NaN  ...  43.38  16.02\n",
            "1                       HDFC Gold Fund - Direct Plan          NaN  ...  39.49  14.59\n",
            "2              Axis Gold Fund - Direct Plan - Growth          NaN  ...  39.08  14.25\n",
            "3  Nippon India Gold Savings Fund - Direct Plan -...          NaN  ...  39.04  14.06\n",
            "4            Quantum Gold Savings Fund - Direct Plan          NaN  ...  38.73  13.54\n",
            "5  Aditya Birla Sun Life Gold Fund - Direct Plan ...          NaN  ...  38.65  13.86\n",
            "6              IDBI Gold Fund - Direct Plan - Growth          NaN  ...  38.53  13.18\n",
            "7  ICICI Prudential Regular Gold Savings Fund (FO...          NaN  ...  35.29  13.01\n",
            "8     Invesco India Gold Fund - Direct Plan - Growth          NaN  ...  35.27  12.61\n",
            "9  Edelweiss Greater China Equity Off-shore Fund ...          NaN  ...  13.64  16.01\n",
            "\n",
            "[10 rows x 8 columns],                                          Scheme Name  Crisil Rank  ...     1Y     3Y\n",
            "0  Franklin India Ultra Short Bond Fund - Super I...            2  ...   4.71   7.39\n",
            "1       Franklin India Liquid Fund - Direct - Growth            2  ...   6.58   7.04\n",
            "2  Franklin India Short Term Income Plan - Direct...            2  ...  -3.69   4.92\n",
            "3       Franklin India Equity Fund - Direct - Growth            1  ... -33.71  -8.03\n",
            "4  Franklin India Focused Equity Fund - Direct - ...            3  ... -30.94  -5.93\n",
            "5        Franklin India Prima Fund - Direct - Growth            3  ... -30.46  -7.53\n",
            "6  Franklin India Smaller Companies Fund - Direct...            3  ... -39.37 -13.44\n",
            "7     Franklin India Bluechip Fund - Direct - Growth            1  ... -31.07  -7.05\n",
            "8  Franklin India Credit Risk Fund - Direct - Growth            3  ...  -3.93   4.53\n",
            "9      Franklin India Savings Fund - Direct - Growth            4  ...   7.75   7.78\n",
            "\n",
            "[10 rows x 8 columns]]\n"
          ],
          "name": "stdout"
        }
      ]
    },
    {
      "cell_type": "code",
      "metadata": {
        "id": "yKiltU7IZASc",
        "colab_type": "code",
        "colab": {
          "base_uri": "https://localhost:8080/",
          "height": 35
        },
        "outputId": "34dc5544-ca36-40cb-b680-37767069749f"
      },
      "source": [
        "type(values)"
      ],
      "execution_count": 19,
      "outputs": [
        {
          "output_type": "execute_result",
          "data": {
            "text/plain": [
              "list"
            ]
          },
          "metadata": {
            "tags": []
          },
          "execution_count": 19
        }
      ]
    },
    {
      "cell_type": "code",
      "metadata": {
        "id": "N1o8xw0xVDjZ",
        "colab_type": "code",
        "colab": {}
      },
      "source": [
        "sheet1 = values[0],values[2],values[3],values[4]"
      ],
      "execution_count": 0,
      "outputs": []
    },
    {
      "cell_type": "code",
      "metadata": {
        "id": "YqxV0SNRZZvx",
        "colab_type": "code",
        "colab": {
          "base_uri": "https://localhost:8080/",
          "height": 35
        },
        "outputId": "74044c8c-de14-4dfc-d301-299fbd9a7018"
      },
      "source": [
        "type(sheet1)"
      ],
      "execution_count": 21,
      "outputs": [
        {
          "output_type": "execute_result",
          "data": {
            "text/plain": [
              "tuple"
            ]
          },
          "metadata": {
            "tags": []
          },
          "execution_count": 21
        }
      ]
    },
    {
      "cell_type": "code",
      "metadata": {
        "id": "CtafVV7rZJqx",
        "colab_type": "code",
        "colab": {}
      },
      "source": [
        "# Now values we extracted from html are list but we accidentally converted them to tuple. "
      ],
      "execution_count": 0,
      "outputs": []
    },
    {
      "cell_type": "code",
      "metadata": {
        "id": "bn495d9mXfAu",
        "colab_type": "code",
        "colab": {
          "base_uri": "https://localhost:8080/",
          "height": 455
        },
        "outputId": "f4c22475-d6a2-420e-c366-2fd5fabd5c05"
      },
      "source": [
        "print(sheet1)"
      ],
      "execution_count": 14,
      "outputs": [
        {
          "output_type": "stream",
          "text": [
            "(                                                   0                                                 1\n",
            "0  Fund Size  : ₹ 1306.64 Cr  (8.91% of Investmen...  Expense Ratio  : 0.76%  (0.73% Category average)\n",
            "1                                                NaN                                               NaN,   Period Invested for ₹1000 SIP Started on  ...  Absolute Returns  Annualised Returns\n",
            "0              1 Year            01-Apr-19  ...           -6.42 %            -11.65 %\n",
            "1              2 Year            28-Mar-18  ...             0.3 %              0.29 %\n",
            "2              3 Year            31-Mar-17  ...           10.95 %              6.86 %\n",
            "3              5 Year            31-Mar-15  ...           28.58 %              9.99 %\n",
            "\n",
            "[4 rows x 6 columns],               Name Type of Instrument Weight (%)\n",
            "0         MF Units           MF Units     99.52%\n",
            "1  Net Receivables    Net Receivables      0.48%,                                          Scheme Name  Crisil Rank  ...     1Y     3Y\n",
            "0             Kotak Gold Fund - Direct Plan - Growth          NaN  ...  43.38  16.02\n",
            "1                       HDFC Gold Fund - Direct Plan          NaN  ...  39.49  14.59\n",
            "2              Axis Gold Fund - Direct Plan - Growth          NaN  ...  39.08  14.25\n",
            "3  Nippon India Gold Savings Fund - Direct Plan -...          NaN  ...  39.04  14.06\n",
            "4            Quantum Gold Savings Fund - Direct Plan          NaN  ...  38.73  13.54\n",
            "5  Aditya Birla Sun Life Gold Fund - Direct Plan ...          NaN  ...  38.65  13.86\n",
            "6              IDBI Gold Fund - Direct Plan - Growth          NaN  ...  38.53  13.18\n",
            "7  ICICI Prudential Regular Gold Savings Fund (FO...          NaN  ...  35.29  13.01\n",
            "8     Invesco India Gold Fund - Direct Plan - Growth          NaN  ...  35.27  12.61\n",
            "9  Edelweiss Greater China Equity Off-shore Fund ...          NaN  ...  13.64  16.01\n",
            "\n",
            "[10 rows x 8 columns])\n"
          ],
          "name": "stdout"
        }
      ]
    },
    {
      "cell_type": "code",
      "metadata": {
        "id": "InNYOTi8Z8lo",
        "colab_type": "code",
        "colab": {
          "base_uri": "https://localhost:8080/",
          "height": 35
        },
        "outputId": "f8cadae0-6065-4ed7-d47b-ad07a6d498c9"
      },
      "source": [
        "type(sheet1)"
      ],
      "execution_count": 23,
      "outputs": [
        {
          "output_type": "execute_result",
          "data": {
            "text/plain": [
              "tuple"
            ]
          },
          "metadata": {
            "tags": []
          },
          "execution_count": 23
        }
      ]
    },
    {
      "cell_type": "code",
      "metadata": {
        "id": "KlKt8TKxZ83v",
        "colab_type": "code",
        "colab": {}
      },
      "source": [
        "table1 = list(sheet1)"
      ],
      "execution_count": 0,
      "outputs": []
    },
    {
      "cell_type": "code",
      "metadata": {
        "id": "18jvLb4tZkjZ",
        "colab_type": "code",
        "colab": {}
      },
      "source": [
        "#Now we will convert this tuple to a list as to_excel method doesn't work on lists"
      ],
      "execution_count": 0,
      "outputs": []
    },
    {
      "cell_type": "code",
      "metadata": {
        "id": "VqlzY4p6aQxw",
        "colab_type": "code",
        "colab": {
          "base_uri": "https://localhost:8080/",
          "height": 35
        },
        "outputId": "78718374-481a-4cc0-90d0-227eec303da0"
      },
      "source": [
        "type(table1)"
      ],
      "execution_count": 25,
      "outputs": [
        {
          "output_type": "execute_result",
          "data": {
            "text/plain": [
              "list"
            ]
          },
          "metadata": {
            "tags": []
          },
          "execution_count": 25
        }
      ]
    },
    {
      "cell_type": "code",
      "metadata": {
        "id": "_aYFzqS4cIJN",
        "colab_type": "code",
        "colab": {}
      },
      "source": [
        "#to_excel method requires the class 'pandas.core.frame.DataFrame' and table1 is a list so we still can't write an .xlsx from it."
      ],
      "execution_count": 0,
      "outputs": []
    },
    {
      "cell_type": "code",
      "metadata": {
        "id": "8xybzx_YaRDk",
        "colab_type": "code",
        "colab": {
          "base_uri": "https://localhost:8080/",
          "height": 455
        },
        "outputId": "00604e09-8f86-4be4-9827-d72fd4872d5f"
      },
      "source": [
        "print(table1)"
      ],
      "execution_count": 26,
      "outputs": [
        {
          "output_type": "stream",
          "text": [
            "[                                                   0                                                 1\n",
            "0  Fund Size  : ₹ 1306.64 Cr  (8.91% of Investmen...  Expense Ratio  : 0.76%  (0.73% Category average)\n",
            "1                                                NaN                                               NaN,   Period Invested for ₹1000 SIP Started on  ...  Absolute Returns  Annualised Returns\n",
            "0              1 Year            01-Apr-19  ...           -6.42 %            -11.65 %\n",
            "1              2 Year            28-Mar-18  ...             0.3 %              0.29 %\n",
            "2              3 Year            31-Mar-17  ...           10.95 %              6.86 %\n",
            "3              5 Year            31-Mar-15  ...           28.58 %              9.99 %\n",
            "\n",
            "[4 rows x 6 columns],               Name Type of Instrument Weight (%)\n",
            "0         MF Units           MF Units     99.52%\n",
            "1  Net Receivables    Net Receivables      0.48%,                                          Scheme Name  Crisil Rank  ...     1Y     3Y\n",
            "0             Kotak Gold Fund - Direct Plan - Growth          NaN  ...  43.38  16.02\n",
            "1                       HDFC Gold Fund - Direct Plan          NaN  ...  39.49  14.59\n",
            "2              Axis Gold Fund - Direct Plan - Growth          NaN  ...  39.08  14.25\n",
            "3  Nippon India Gold Savings Fund - Direct Plan -...          NaN  ...  39.04  14.06\n",
            "4            Quantum Gold Savings Fund - Direct Plan          NaN  ...  38.73  13.54\n",
            "5  Aditya Birla Sun Life Gold Fund - Direct Plan ...          NaN  ...  38.65  13.86\n",
            "6              IDBI Gold Fund - Direct Plan - Growth          NaN  ...  38.53  13.18\n",
            "7  ICICI Prudential Regular Gold Savings Fund (FO...          NaN  ...  35.29  13.01\n",
            "8     Invesco India Gold Fund - Direct Plan - Growth          NaN  ...  35.27  12.61\n",
            "9  Edelweiss Greater China Equity Off-shore Fund ...          NaN  ...  13.64  16.01\n",
            "\n",
            "[10 rows x 8 columns]]\n"
          ],
          "name": "stdout"
        }
      ]
    },
    {
      "cell_type": "code",
      "metadata": {
        "id": "wvq8bbb4YCvL",
        "colab_type": "code",
        "colab": {
          "base_uri": "https://localhost:8080/",
          "height": 171
        },
        "outputId": "7f690d4c-0e1c-4f5a-800b-77f19f0b153d"
      },
      "source": [
        "table1.to_excel('table1.xlsx')"
      ],
      "execution_count": 27,
      "outputs": [
        {
          "output_type": "error",
          "ename": "AttributeError",
          "evalue": "ignored",
          "traceback": [
            "\u001b[0;31m---------------------------------------------------------------------------\u001b[0m",
            "\u001b[0;31mAttributeError\u001b[0m                            Traceback (most recent call last)",
            "\u001b[0;32m<ipython-input-27-93f85fa14e2a>\u001b[0m in \u001b[0;36m<module>\u001b[0;34m()\u001b[0m\n\u001b[0;32m----> 1\u001b[0;31m \u001b[0mtable1\u001b[0m\u001b[0;34m.\u001b[0m\u001b[0mto_excel\u001b[0m\u001b[0;34m(\u001b[0m\u001b[0;34m'table1.xlsx'\u001b[0m\u001b[0;34m)\u001b[0m\u001b[0;34m\u001b[0m\u001b[0;34m\u001b[0m\u001b[0m\n\u001b[0m",
            "\u001b[0;31mAttributeError\u001b[0m: 'list' object has no attribute 'to_excel'"
          ]
        }
      ]
    },
    {
      "cell_type": "code",
      "metadata": {
        "id": "cTivj1CfYYNR",
        "colab_type": "code",
        "colab": {}
      },
      "source": [
        ""
      ],
      "execution_count": 0,
      "outputs": []
    }
  ]
}