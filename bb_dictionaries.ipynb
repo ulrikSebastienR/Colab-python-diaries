{
  "nbformat": 4,
  "nbformat_minor": 0,
  "metadata": {
    "colab": {
      "name": "bb dictionaries.ipynb",
      "provenance": [],
      "authorship_tag": "ABX9TyOwZUXkMqqxbBDItKSYCmlP",
      "include_colab_link": true
    },
    "kernelspec": {
      "name": "python3",
      "display_name": "Python 3"
    }
  },
  "cells": [
    {
      "cell_type": "markdown",
      "metadata": {
        "id": "view-in-github",
        "colab_type": "text"
      },
      "source": [
        "<a href=\"https://colab.research.google.com/github/ulrikSebastienR/Colab-python-diaries/blob/master/bb_dictionaries.ipynb\" target=\"_parent\"><img src=\"https://colab.research.google.com/assets/colab-badge.svg\" alt=\"Open In Colab\"/></a>"
      ]
    },
    {
      "cell_type": "code",
      "metadata": {
        "id": "JN3HBuoSHT53",
        "colab_type": "code",
        "colab": {}
      },
      "source": [
        "# https://www.w3schools.com/python/python_dictionaries.asp\n",
        "# unordered, changable and indexed. Represented in {}, Elements accessed by square brackets. counts[label]\n",
        "# lists [], ordered, mutable(changable) and indexed. elements accessed by square brackets. list[-1]\n",
        "# array and tuples (), ordered, immutable and indexed. elments accessed by ().\n",
        "# if you know a particular element and you want to pass it through a function, use function(element)."
      ],
      "execution_count": 0,
      "outputs": []
    },
    {
      "cell_type": "code",
      "metadata": {
        "id": "23S9MoqRMwb8",
        "colab_type": "code",
        "colab": {}
      },
      "source": [
        "thisdict = {\n",
        "            \"brand\" : \"ford\",\n",
        "            \"color\" : \"red\",\n",
        "            \"model\" : \"Mustang\",\n",
        "            \"year\"  : \"1964\"          \n",
        "            }"
      ],
      "execution_count": 0,
      "outputs": []
    },
    {
      "cell_type": "code",
      "metadata": {
        "id": "x6l9QgyjNP8a",
        "colab_type": "code",
        "colab": {
          "base_uri": "https://localhost:8080/",
          "height": 35
        },
        "outputId": "c5f78ae3-8aa4-4da4-bad6-06b4e1aa80f1"
      },
      "source": [
        "print(type(thisdict))"
      ],
      "execution_count": 2,
      "outputs": [
        {
          "output_type": "stream",
          "text": [
            "<class 'dict'>\n"
          ],
          "name": "stdout"
        }
      ]
    },
    {
      "cell_type": "code",
      "metadata": {
        "id": "1JiqX79dNU2g",
        "colab_type": "code",
        "colab": {
          "base_uri": "https://localhost:8080/",
          "height": 35
        },
        "outputId": "7d02ea93-fc60-4854-9401-9a06bbecbdcb"
      },
      "source": [
        "print(thisdict)"
      ],
      "execution_count": 3,
      "outputs": [
        {
          "output_type": "stream",
          "text": [
            "{'brand': 'ford', 'color': 'red', 'model': 'Mustang', 'year': '1964'}\n"
          ],
          "name": "stdout"
        }
      ]
    },
    {
      "cell_type": "code",
      "metadata": {
        "id": "AW-Vr995NYd-",
        "colab_type": "code",
        "colab": {}
      },
      "source": [
        ""
      ],
      "execution_count": 0,
      "outputs": []
    }
  ]
}