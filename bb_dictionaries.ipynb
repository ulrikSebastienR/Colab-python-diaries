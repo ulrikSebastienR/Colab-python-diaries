{
  "nbformat": 4,
  "nbformat_minor": 0,
  "metadata": {
    "colab": {
      "name": "bb dictionaries.ipynb",
      "provenance": [],
      "authorship_tag": "ABX9TyMUTV9bR1RXqSUfXR27qHBH",
      "include_colab_link": true
    },
    "kernelspec": {
      "name": "python3",
      "display_name": "Python 3"
    }
  },
  "cells": [
    {
      "cell_type": "markdown",
      "metadata": {
        "id": "view-in-github",
        "colab_type": "text"
      },
      "source": [
        "<a href=\"https://colab.research.google.com/github/ulrikSebastienR/Colab-python-diaries/blob/master/bb_dictionaries.ipynb\" target=\"_parent\"><img src=\"https://colab.research.google.com/assets/colab-badge.svg\" alt=\"Open In Colab\"/></a>"
      ]
    },
    {
      "cell_type": "code",
      "metadata": {
        "id": "JN3HBuoSHT53",
        "colab_type": "code",
        "colab": {}
      },
      "source": [
        "# https://www.w3schools.com/python/python_dictionaries.asp\n",
        "# unordered, changable and indexed. Represented in {}, Elements accessed by square brackets. counts[label]\n",
        "# lists [], ordered, mutable(changable) and indexed. elements accessed by square brackets. list[-1]\n",
        "# array and tuples (), ordered, immutable and indexed. elments accessed by ().\n",
        "# if you know a particular element and you want to pass it through a function, use function(element)."
      ],
      "execution_count": 0,
      "outputs": []
    },
    {
      "cell_type": "code",
      "metadata": {
        "id": "23S9MoqRMwb8",
        "colab_type": "code",
        "colab": {}
      },
      "source": [
        "thisdict = {\n",
        "            \"brand\" : \"ford\",\n",
        "            \"color\" : \"red\",\n",
        "            \"model\" : \"Mustang\",\n",
        "            \"year\"  : \"1964\"          \n",
        "            }"
      ],
      "execution_count": 0,
      "outputs": []
    },
    {
      "cell_type": "code",
      "metadata": {
        "id": "x6l9QgyjNP8a",
        "colab_type": "code",
        "outputId": "335832da-367b-4e1a-b3ff-2d7c7ed7af68",
        "colab": {
          "base_uri": "https://localhost:8080/",
          "height": 35
        }
      },
      "source": [
        "print(type(thisdict))"
      ],
      "execution_count": 3,
      "outputs": [
        {
          "output_type": "stream",
          "text": [
            "<class 'dict'>\n"
          ],
          "name": "stdout"
        }
      ]
    },
    {
      "cell_type": "code",
      "metadata": {
        "id": "1JiqX79dNU2g",
        "colab_type": "code",
        "outputId": "1d25d099-9117-443f-b12d-64be002e409b",
        "colab": {
          "base_uri": "https://localhost:8080/",
          "height": 35
        }
      },
      "source": [
        "print(thisdict)"
      ],
      "execution_count": 4,
      "outputs": [
        {
          "output_type": "stream",
          "text": [
            "{'brand': 'ford', 'color': 'red', 'model': 'Mustang', 'year': '1964'}\n"
          ],
          "name": "stdout"
        }
      ]
    },
    {
      "cell_type": "code",
      "metadata": {
        "id": "AW-Vr995NYd-",
        "colab_type": "code",
        "colab": {
          "base_uri": "https://localhost:8080/",
          "height": 90
        },
        "outputId": "b82e8eb5-826b-4585-9a88-3c64986a648a"
      },
      "source": [
        "for key in thisdict:\n",
        "  print(key)"
      ],
      "execution_count": 6,
      "outputs": [
        {
          "output_type": "stream",
          "text": [
            "brand\n",
            "color\n",
            "model\n",
            "year\n"
          ],
          "name": "stdout"
        }
      ]
    },
    {
      "cell_type": "code",
      "metadata": {
        "id": "sB31w8UkSYlp",
        "colab_type": "code",
        "colab": {
          "base_uri": "https://localhost:8080/",
          "height": 162
        },
        "outputId": "d7bba37a-a183-4c25-ba77-b2eddb547aa3"
      },
      "source": [
        "for key in thisdict:\n",
        "  print(key)\n",
        "  print(thisdict[key])"
      ],
      "execution_count": 7,
      "outputs": [
        {
          "output_type": "stream",
          "text": [
            "brand\n",
            "ford\n",
            "color\n",
            "red\n",
            "model\n",
            "Mustang\n",
            "year\n",
            "1964\n"
          ],
          "name": "stdout"
        }
      ]
    },
    {
      "cell_type": "code",
      "metadata": {
        "id": "dn3Tm0j8Skhp",
        "colab_type": "code",
        "colab": {
          "base_uri": "https://localhost:8080/",
          "height": 90
        },
        "outputId": "1acdb5d2-66c2-4ccd-da60-29613262d040"
      },
      "source": [
        "for key in thisdict:\n",
        "  print(key,\":\", thisdict[key])"
      ],
      "execution_count": 9,
      "outputs": [
        {
          "output_type": "stream",
          "text": [
            "brand : ford\n",
            "color : red\n",
            "model : Mustang\n",
            "year : 1964\n"
          ],
          "name": "stdout"
        }
      ]
    },
    {
      "cell_type": "code",
      "metadata": {
        "id": "PGnsiXciStzb",
        "colab_type": "code",
        "colab": {}
      },
      "source": [
        ""
      ],
      "execution_count": 0,
      "outputs": []
    }
  ]
}