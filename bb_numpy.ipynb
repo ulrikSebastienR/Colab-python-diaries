{
  "nbformat": 4,
  "nbformat_minor": 0,
  "metadata": {
    "colab": {
      "name": "bb numpy.ipynb",
      "provenance": [],
      "collapsed_sections": [],
      "authorship_tag": "ABX9TyNFfBP0/8VNWi2z8Jr5M012",
      "include_colab_link": true
    },
    "kernelspec": {
      "name": "python3",
      "display_name": "Python 3"
    }
  },
  "cells": [
    {
      "cell_type": "markdown",
      "metadata": {
        "id": "view-in-github",
        "colab_type": "text"
      },
      "source": [
        "<a href=\"https://colab.research.google.com/github/ulrikSebastienR/Colab-python-diaries/blob/master/bb_numpy.ipynb\" target=\"_parent\"><img src=\"https://colab.research.google.com/assets/colab-badge.svg\" alt=\"Open In Colab\"/></a>"
      ]
    },
    {
      "cell_type": "code",
      "metadata": {
        "id": "W3pyIz5V0D1G",
        "colab_type": "code",
        "colab": {}
      },
      "source": [
        "# Blackboard Numpy\n",
        "# python cheatsheet numpy\n",
        "#      ndim: The number of axes or rank of the array (https://www.mantidproject.org/Numpy_Functions)\n",
        "# shape: A tuple containing the length in each dimension\n",
        "# size: The total number of elements\n",
        "import numpy as np\n",
        "import matplotlib.pyplot as plt"
      ],
      "execution_count": 0,
      "outputs": []
    },
    {
      "cell_type": "code",
      "metadata": {
        "id": "QfvtRDtG0boD",
        "colab_type": "code",
        "outputId": "90f51cb9-a9d1-4b89-f4eb-b5fff47d3afd",
        "colab": {
          "base_uri": "https://localhost:8080/",
          "height": 35
        }
      },
      "source": [
        "a = [1,2,3]\n",
        "b = [4,5,6]\n",
        "c = [7,8,9]\n",
        "d = [10,11,12]\n",
        "e = [13,14,15]\n",
        "f = [16,17,18]\n",
        "g = [19,20,21]\n",
        "h = [22,23,24]\n",
        "print(type(a))"
      ],
      "execution_count": 29,
      "outputs": [
        {
          "output_type": "stream",
          "text": [
            "<class 'list'>\n"
          ],
          "name": "stdout"
        }
      ]
    },
    {
      "cell_type": "code",
      "metadata": {
        "id": "CCpDg1HV0oMf",
        "colab_type": "code",
        "outputId": "675bec77-c49a-4cb7-a4b8-21bce860f662",
        "colab": {
          "base_uri": "https://localhost:8080/",
          "height": 392
        }
      },
      "source": [
        "a1 = np.array(a)\n",
        "print(a1)\n",
        "print(type(a1))\n",
        "print(a1.shape)\n",
        "print(a1.ndim)\n",
        "print(a1.size)\n",
        "x = a1[0]\n",
        "print(x)\n",
        "y = a1[1]\n",
        "print(y)\n",
        "plt.plot(x,y)\n",
        "plt.show()"
      ],
      "execution_count": 12,
      "outputs": [
        {
          "output_type": "stream",
          "text": [
            "[1 2 3]\n",
            "<class 'numpy.ndarray'>\n",
            "(3,)\n",
            "1\n",
            "3\n",
            "1\n",
            "2\n"
          ],
          "name": "stdout"
        },
        {
          "output_type": "display_data",
          "data": {
            "image/png": "[encoded data removed]",
            "text/plain": [
              "<Figure size 432x288 with 1 Axes>"
            ]
          },
          "metadata": {
            "tags": [],
            "needs_background": "light"
          }
        }
      ]
    },
    {
      "cell_type": "code",
      "metadata": {
        "id": "N2fjU4wr1OWw",
        "colab_type": "code",
        "outputId": "f560803b-3f4d-4ada-d7d2-8f1423c4fac9",
        "colab": {
          "base_uri": "https://localhost:8080/",
          "height": 677
        }
      },
      "source": [
        "a2 = np.array([a,b]) #can't initiate numpy array without passing it as list of lists i.e. with a2 = np.array(a,b)\n",
        "print(a2)\n",
        "print(type(a2))\n",
        "print(a2.shape)\n",
        "print(\"dim\", a2.ndim)\n",
        "print(a2.size)\n",
        "print(a2.dtype)\n",
        "x = a2[0]\n",
        "print(x)\n",
        "y = a2[1]\n",
        "print(y)\n",
        "plt.plot(x,y)\n",
        "plt.show()\n",
        "plt.plot(x,y,\"ob\") #circles representing points, instead of the line in the above example, use “ob” as the format string in plot() function\n",
        "                   #https://www.tutorialspoint.com/numpy/numpy_matplotlib.htm\n",
        "plt.show()"
      ],
      "execution_count": 24,
      "outputs": [
        {
          "output_type": "stream",
          "text": [
            "[[1 2 3]\n",
            " [4 5 6]]\n",
            "<class 'numpy.ndarray'>\n",
            "(2, 3)\n",
            "dim 2\n",
            "6\n",
            "int64\n",
            "[1 2 3]\n",
            "[4 5 6]\n"
          ],
          "name": "stdout"
        },
        {
          "output_type": "display_data",
          "data": {
            "image/png": "[encoded data removed]",
            "text/plain": [
              "<Figure size 432x288 with 1 Axes>"
            ]
          },
          "metadata": {
            "tags": [],
            "needs_background": "light"
          }
        },
        {
          "output_type": "display_data",
          "data": {
            "image/png": "[encoded data removed]",
            "text/plain": [
              "<Figure size 432x288 with 1 Axes>"
            ]
          },
          "metadata": {
            "tags": [],
            "needs_background": "light"
          }
        }
      ]
    },
    {
      "cell_type": "code",
      "metadata": {
        "id": "iFu25BOP2BOy",
        "colab_type": "code",
        "outputId": "b7f73d4c-cdfc-43c7-ecfb-66dbfb2d07ac",
        "colab": {
          "base_uri": "https://localhost:8080/",
          "height": 55
        }
      },
      "source": [
        "\"\"\"a3 = np.array([[a,b],[c,d]])\n",
        "print(a3)\n",
        "print(type(a3))\n",
        "print(\"dimenstion\", a3.ndim) #this is a 3-D array\n",
        "print(a3.shape)\n",
        "print(a3.size)\n",
        "print(a3.dtype)\n",
        "x = a3[0]\n",
        "print(x)\n",
        "y = a3[1]\n",
        "print(y)\n",
        "z = a3[2]\n",
        "print(z)\n",
        "plt.plot(x,y,z)\n",
        "plt.show()\n",
        "\n",
        " the output of this code was\n",
        "[[ 1  2  3]\n",
        "  [ 4  5  6]]\n",
        "\n",
        " [[ 7  8  9]\n",
        "  [10 11 12]]]\n",
        "<class 'numpy.ndarray'>\n",
        "dimenstion 3\n",
        "(2, 2, 3)\n",
        "12\n",
        "int64\n",
        "[[1 2 3]\n",
        " [4 5 6]]\n",
        "[[ 7  8  9]\n",
        " [10 11 12]]\n",
        "\n",
        "---------------------------------------------------------------------------\n",
        "\n",
        "IndexError                                Traceback (most recent call last)\n",
        "\n",
        "<ipython-input-18-173de4b7f67c> in <module>()\n",
        "     10 y = a3[1]\n",
        "     11 print(y)\n",
        "---> 12 z = a3[2]\n",
        "     13 print(z)\n",
        "     14 plt.plot(x,y,z)\n",
        "\n",
        "IndexError: index 2 is out of bounds for axis 0 with size 2\"\"\""
      ],
      "execution_count": 22,
      "outputs": [
        {
          "output_type": "execute_result",
          "data": {
            "text/plain": [
              "'a3 = np.array([[a,b],[c,d]])\\nprint(a3)\\nprint(type(a3))\\nprint(\"dimenstion\", a3.ndim) #this is a 3-D array\\nprint(a3.shape)\\nprint(a3.size)\\nprint(a3.dtype)\\nx = a3[0]\\nprint(x)\\ny = a3[1]\\nprint(y)\\nz = a3[2]\\nprint(z)\\nplt.plot(x,y,z)\\nplt.show()\\n\\n the output of this code was\\n[[ 1  2  3]\\n  [ 4  5  6]]\\n\\n [[ 7  8  9]\\n  [10 11 12]]]\\n<class \\'numpy.ndarray\\'>\\ndimenstion 3\\n(2, 2, 3)\\n12\\nint64\\n[[1 2 3]\\n [4 5 6]]\\n[[ 7  8  9]\\n [10 11 12]]\\n\\n---------------------------------------------------------------------------\\n\\nIndexError                                Traceback (most recent call last)\\n\\n<ipython-input-18-173de4b7f67c> in <module>()\\n     10 y = a3[1]\\n     11 print(y)\\n---> 12 z = a3[2]\\n     13 print(z)\\n     14 plt.plot(x,y,z)\\n\\nIndexError: index 2 is out of bounds for axis 0 with size 2'"
            ]
          },
          "metadata": {
            "tags": []
          },
          "execution_count": 22
        }
      ]
    },
    {
      "cell_type": "code",
      "metadata": {
        "id": "pXhDZFY722CZ",
        "colab_type": "code",
        "colab": {
          "base_uri": "https://localhost:8080/",
          "height": 858
        },
        "outputId": "7ccae603-591d-4b0c-9a0c-5154d538a605"
      },
      "source": [
        "a3 = np.array([[a,b],[c,d],[e,f]])\n",
        "print(a3)\n",
        "print(type(a3))\n",
        "print(\"dimenstion\", a3.ndim) #this is a 3-D array\n",
        "print(a3.shape)\n",
        "print(a3.size)\n",
        "print(a3.dtype)\n",
        "x = a3[0]\n",
        "print(x)\n",
        "y = a3[1]\n",
        "print(y)\n",
        "z = a3[2]\n",
        "print(z)\n",
        "plt.plot(x,y,z)\n",
        "plt.show()\n",
        "plt.plot(x,y,z,\"ob\")\n",
        "plt.show()"
      ],
      "execution_count": 28,
      "outputs": [
        {
          "output_type": "stream",
          "text": [
            "[[[ 1  2  3]\n",
            "  [ 4  5  6]]\n",
            "\n",
            " [[ 7  8  9]\n",
            "  [10 11 12]]\n",
            "\n",
            " [[13 14 15]\n",
            "  [16 17 18]]]\n",
            "<class 'numpy.ndarray'>\n",
            "dimenstion 3\n",
            "(3, 2, 3)\n",
            "18\n",
            "int64\n",
            "[[1 2 3]\n",
            " [4 5 6]]\n",
            "[[ 7  8  9]\n",
            " [10 11 12]]\n",
            "[[13 14 15]\n",
            " [16 17 18]]\n"
          ],
          "name": "stdout"
        },
        {
          "output_type": "display_data",
          "data": {
            "image/png": "[encoded data removed]",
            "text/plain": [
              "<Figure size 432x288 with 1 Axes>"
            ]
          },
          "metadata": {
            "tags": [],
            "needs_background": "light"
          }
        },
        {
          "output_type": "display_data",
          "data": {
            "image/png": "[encoded data removed]",
            "text/plain": [
              "<Figure size 432x288 with 1 Axes>"
            ]
          },
          "metadata": {
            "tags": [],
            "needs_background": "light"
          }
        }
      ]
    },
    {
      "cell_type": "code",
      "metadata": {
        "id": "OOtt-Np4szxV",
        "colab_type": "code",
        "colab": {
          "base_uri": "https://localhost:8080/",
          "height": 967
        },
        "outputId": "c4d8a340-e344-45f9-bcb7-7e4fe3f87224"
      },
      "source": [
        "a3 = np.array([[a,b,c],[c,d,e],[f,g,h]])\n",
        "print(a3)\n",
        "print(type(a3))\n",
        "print(\"dimenstion\", a3.ndim) #this is a 3-D array\n",
        "print(a3.shape)\n",
        "print(a3.size)\n",
        "print(a3.dtype)\n",
        "x = a3[0]\n",
        "print(x)\n",
        "y = a3[1]\n",
        "print(y)\n",
        "z = a3[2]\n",
        "print(z)\n",
        "plt.plot(x,y,z)\n",
        "plt.show()\n",
        "plt.plot(x,y,z,\"ob\")\n",
        "plt.show()"
      ],
      "execution_count": 30,
      "outputs": [
        {
          "output_type": "stream",
          "text": [
            "[[[ 1  2  3]\n",
            "  [ 4  5  6]\n",
            "  [ 7  8  9]]\n",
            "\n",
            " [[ 7  8  9]\n",
            "  [10 11 12]\n",
            "  [13 14 15]]\n",
            "\n",
            " [[16 17 18]\n",
            "  [19 20 21]\n",
            "  [22 23 24]]]\n",
            "<class 'numpy.ndarray'>\n",
            "dimenstion 3\n",
            "(3, 3, 3)\n",
            "27\n",
            "int64\n",
            "[[1 2 3]\n",
            " [4 5 6]\n",
            " [7 8 9]]\n",
            "[[ 7  8  9]\n",
            " [10 11 12]\n",
            " [13 14 15]]\n",
            "[[16 17 18]\n",
            " [19 20 21]\n",
            " [22 23 24]]\n"
          ],
          "name": "stdout"
        },
        {
          "output_type": "display_data",
          "data": {
            "image/png": "[encoded data removed]",
            "text/plain": [
              "<Figure size 432x288 with 1 Axes>"
            ]
          },
          "metadata": {
            "tags": [],
            "needs_background": "light"
          }
        },
        {
          "output_type": "display_data",
          "data": {
            "image/png": "[encoded data removed]",
            "text/plain": [
              "<Figure size 432x288 with 1 Axes>"
            ]
          },
          "metadata": {
            "tags": [],
            "needs_background": "light"
          }
        }
      ]
    },
    {
      "cell_type": "code",
      "metadata": {
        "id": "RqxeI7bDtACm",
        "colab_type": "code",
        "colab": {}
      },
      "source": [
        ""
      ],
      "execution_count": 0,
      "outputs": []
    }
  ]
}