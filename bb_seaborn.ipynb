{
  "nbformat": 4,
  "nbformat_minor": 0,
  "metadata": {
    "colab": {
      "name": "bb seaborn.ipynb",
      "provenance": [],
      "authorship_tag": "ABX9TyM/XUQkJJAgjfxKwCgjtXNS",
      "include_colab_link": true
    },
    "kernelspec": {
      "name": "python3",
      "display_name": "Python 3"
    }
  },
  "cells": [
    {
      "cell_type": "markdown",
      "metadata": {
        "id": "view-in-github",
        "colab_type": "text"
      },
      "source": [
        "<a href=\"https://colab.research.google.com/github/ulrikSebastienR/Colab-python-diaries/blob/master/bb_seaborn.ipynb\" target=\"_parent\"><img src=\"https://colab.research.google.com/assets/colab-badge.svg\" alt=\"Open In Colab\"/></a>"
      ]
    },
    {
      "cell_type": "code",
      "metadata": {
        "id": "pAumOQMwztrq",
        "colab_type": "code",
        "colab": {}
      },
      "source": [
        "#https://towardsdatascience.com/linear-regression-on-boston-housing-dataset-f409b7e4a155\n",
        "#https://ostwalprasad.github.io/machine-learning/PCA-using-python.html\n",
        "#https://www.kaggle.com/agnihotri/linear-regression-and-pca-boston-housing\n",
        "import pandas as pd\n",
        "from sklearn import datasets, decomposition\n",
        "import numpy as np\n",
        "import matplotlib.pyplot as plt\n",
        "import seaborn as sns"
      ],
      "execution_count": 23,
      "outputs": []
    },
    {
      "cell_type": "code",
      "metadata": {
        "id": "gFirfP690CJS",
        "colab_type": "code",
        "colab": {
          "base_uri": "https://localhost:8080/",
          "height": 35
        },
        "outputId": "79df3862-2f95-437b-e3a9-110ae8bcee58"
      },
      "source": [
        "boston_ds = datasets.load_boston()\n",
        "print(dir(boston_ds))"
      ],
      "execution_count": 24,
      "outputs": [
        {
          "output_type": "stream",
          "text": [
            "['DESCR', 'data', 'feature_names', 'filename', 'target']\n"
          ],
          "name": "stdout"
        }
      ]
    },
    {
      "cell_type": "code",
      "metadata": {
        "id": "6rqQertQ0Kug",
        "colab_type": "code",
        "colab": {
          "base_uri": "https://localhost:8080/",
          "height": 311
        },
        "outputId": "744dd7e5-7f4a-4c12-9a8d-7a8e8d37518a"
      },
      "source": [
        "boston = pd.DataFrame(boston_ds.data)\n",
        "print(boston)\n",
        "print(boston_ds.feature_names)"
      ],
      "execution_count": 25,
      "outputs": [
        {
          "output_type": "stream",
          "text": [
            "          0     1      2    3      4   ...   8      9     10      11    12\n",
            "0    0.00632  18.0   2.31  0.0  0.538  ...  1.0  296.0  15.3  396.90  4.98\n",
            "1    0.02731   0.0   7.07  0.0  0.469  ...  2.0  242.0  17.8  396.90  9.14\n",
            "2    0.02729   0.0   7.07  0.0  0.469  ...  2.0  242.0  17.8  392.83  4.03\n",
            "3    0.03237   0.0   2.18  0.0  0.458  ...  3.0  222.0  18.7  394.63  2.94\n",
            "4    0.06905   0.0   2.18  0.0  0.458  ...  3.0  222.0  18.7  396.90  5.33\n",
            "..       ...   ...    ...  ...    ...  ...  ...    ...   ...     ...   ...\n",
            "501  0.06263   0.0  11.93  0.0  0.573  ...  1.0  273.0  21.0  391.99  9.67\n",
            "502  0.04527   0.0  11.93  0.0  0.573  ...  1.0  273.0  21.0  396.90  9.08\n",
            "503  0.06076   0.0  11.93  0.0  0.573  ...  1.0  273.0  21.0  396.90  5.64\n",
            "504  0.10959   0.0  11.93  0.0  0.573  ...  1.0  273.0  21.0  393.45  6.48\n",
            "505  0.04741   0.0  11.93  0.0  0.573  ...  1.0  273.0  21.0  396.90  7.88\n",
            "\n",
            "[506 rows x 13 columns]\n",
            "['CRIM' 'ZN' 'INDUS' 'CHAS' 'NOX' 'RM' 'AGE' 'DIS' 'RAD' 'TAX' 'PTRATIO'\n",
            " 'B' 'LSTAT']\n"
          ],
          "name": "stdout"
        }
      ]
    },
    {
      "cell_type": "code",
      "metadata": {
        "id": "JaCYuoVb0SgY",
        "colab_type": "code",
        "colab": {
          "base_uri": "https://localhost:8080/",
          "height": 274
        },
        "outputId": "45d3d29f-5db5-4e45-a9c3-45f55bf6473b"
      },
      "source": [
        "boston = pd.DataFrame(boston_ds.data, columns=[boston_ds.feature_names],)\n",
        "print(boston)"
      ],
      "execution_count": 26,
      "outputs": [
        {
          "output_type": "stream",
          "text": [
            "        CRIM    ZN  INDUS CHAS    NOX  ...  RAD    TAX PTRATIO       B LSTAT\n",
            "0    0.00632  18.0   2.31  0.0  0.538  ...  1.0  296.0    15.3  396.90  4.98\n",
            "1    0.02731   0.0   7.07  0.0  0.469  ...  2.0  242.0    17.8  396.90  9.14\n",
            "2    0.02729   0.0   7.07  0.0  0.469  ...  2.0  242.0    17.8  392.83  4.03\n",
            "3    0.03237   0.0   2.18  0.0  0.458  ...  3.0  222.0    18.7  394.63  2.94\n",
            "4    0.06905   0.0   2.18  0.0  0.458  ...  3.0  222.0    18.7  396.90  5.33\n",
            "..       ...   ...    ...  ...    ...  ...  ...    ...     ...     ...   ...\n",
            "501  0.06263   0.0  11.93  0.0  0.573  ...  1.0  273.0    21.0  391.99  9.67\n",
            "502  0.04527   0.0  11.93  0.0  0.573  ...  1.0  273.0    21.0  396.90  9.08\n",
            "503  0.06076   0.0  11.93  0.0  0.573  ...  1.0  273.0    21.0  396.90  5.64\n",
            "504  0.10959   0.0  11.93  0.0  0.573  ...  1.0  273.0    21.0  393.45  6.48\n",
            "505  0.04741   0.0  11.93  0.0  0.573  ...  1.0  273.0    21.0  396.90  7.88\n",
            "\n",
            "[506 rows x 13 columns]\n"
          ],
          "name": "stdout"
        }
      ]
    },
    {
      "cell_type": "code",
      "metadata": {
        "id": "f22YFoVD00ki",
        "colab_type": "code",
        "colab": {
          "base_uri": "https://localhost:8080/",
          "height": 274
        },
        "outputId": "81ce7bf0-112f-4eed-9dbc-bdafcdbf134e"
      },
      "source": [
        "boston['MEDV'] = boston_ds.target\n",
        "print(boston)"
      ],
      "execution_count": 27,
      "outputs": [
        {
          "output_type": "stream",
          "text": [
            "        CRIM    ZN  INDUS CHAS    NOX  ...    TAX PTRATIO       B LSTAT  MEDV\n",
            "0    0.00632  18.0   2.31  0.0  0.538  ...  296.0    15.3  396.90  4.98  24.0\n",
            "1    0.02731   0.0   7.07  0.0  0.469  ...  242.0    17.8  396.90  9.14  21.6\n",
            "2    0.02729   0.0   7.07  0.0  0.469  ...  242.0    17.8  392.83  4.03  34.7\n",
            "3    0.03237   0.0   2.18  0.0  0.458  ...  222.0    18.7  394.63  2.94  33.4\n",
            "4    0.06905   0.0   2.18  0.0  0.458  ...  222.0    18.7  396.90  5.33  36.2\n",
            "..       ...   ...    ...  ...    ...  ...    ...     ...     ...   ...   ...\n",
            "501  0.06263   0.0  11.93  0.0  0.573  ...  273.0    21.0  391.99  9.67  22.4\n",
            "502  0.04527   0.0  11.93  0.0  0.573  ...  273.0    21.0  396.90  9.08  20.6\n",
            "503  0.06076   0.0  11.93  0.0  0.573  ...  273.0    21.0  396.90  5.64  23.9\n",
            "504  0.10959   0.0  11.93  0.0  0.573  ...  273.0    21.0  393.45  6.48  22.0\n",
            "505  0.04741   0.0  11.93  0.0  0.573  ...  273.0    21.0  396.90  7.88  11.9\n",
            "\n",
            "[506 rows x 14 columns]\n"
          ],
          "name": "stdout"
        }
      ]
    },
    {
      "cell_type": "code",
      "metadata": {
        "id": "Ao7o8hwEcD_M",
        "colab_type": "code",
        "colab": {
          "base_uri": "https://localhost:8080/",
          "height": 274
        },
        "outputId": "a15e6d82-1ecf-4596-ade6-2c93f85fc818"
      },
      "source": [
        "print(boston.isna())"
      ],
      "execution_count": 28,
      "outputs": [
        {
          "output_type": "stream",
          "text": [
            "      CRIM     ZN  INDUS   CHAS    NOX  ...    TAX PTRATIO      B  LSTAT   MEDV\n",
            "0    False  False  False  False  False  ...  False   False  False  False  False\n",
            "1    False  False  False  False  False  ...  False   False  False  False  False\n",
            "2    False  False  False  False  False  ...  False   False  False  False  False\n",
            "3    False  False  False  False  False  ...  False   False  False  False  False\n",
            "4    False  False  False  False  False  ...  False   False  False  False  False\n",
            "..     ...    ...    ...    ...    ...  ...    ...     ...    ...    ...    ...\n",
            "501  False  False  False  False  False  ...  False   False  False  False  False\n",
            "502  False  False  False  False  False  ...  False   False  False  False  False\n",
            "503  False  False  False  False  False  ...  False   False  False  False  False\n",
            "504  False  False  False  False  False  ...  False   False  False  False  False\n",
            "505  False  False  False  False  False  ...  False   False  False  False  False\n",
            "\n",
            "[506 rows x 14 columns]\n"
          ],
          "name": "stdout"
        }
      ]
    },
    {
      "cell_type": "code",
      "metadata": {
        "id": "QTJT9-JocS-q",
        "colab_type": "code",
        "colab": {
          "base_uri": "https://localhost:8080/",
          "height": 293
        },
        "outputId": "49cab79a-492d-4770-c64d-45333c680ab3"
      },
      "source": [
        "print(boston.isna().sum())"
      ],
      "execution_count": 29,
      "outputs": [
        {
          "output_type": "stream",
          "text": [
            "CRIM       0\n",
            "ZN         0\n",
            "INDUS      0\n",
            "CHAS       0\n",
            "NOX        0\n",
            "RM         0\n",
            "AGE        0\n",
            "DIS        0\n",
            "RAD        0\n",
            "TAX        0\n",
            "PTRATIO    0\n",
            "B          0\n",
            "LSTAT      0\n",
            "MEDV       0\n",
            "dtype: int64\n"
          ],
          "name": "stdout"
        }
      ]
    },
    {
      "cell_type": "code",
      "metadata": {
        "id": "tyOSMcwnch2o",
        "colab_type": "code",
        "colab": {
          "base_uri": "https://localhost:8080/",
          "height": 54
        },
        "outputId": "48037541-f1a1-4acc-f955-f021dd087c37"
      },
      "source": [
        "np.random.seed(0)\n",
        "print(np.random.rand(4))\n",
        "print(np.random.rand(4))"
      ],
      "execution_count": 30,
      "outputs": [
        {
          "output_type": "stream",
          "text": [
            "[0.5488135  0.71518937 0.60276338 0.54488318]\n",
            "[0.4236548  0.64589411 0.43758721 0.891773  ]\n"
          ],
          "name": "stdout"
        }
      ]
    },
    {
      "cell_type": "code",
      "metadata": {
        "id": "nYwlMbrDo0yI",
        "colab_type": "code",
        "colab": {
          "base_uri": "https://localhost:8080/",
          "height": 54
        },
        "outputId": "3df53d3d-c3fb-4f5c-b3af-decb5c46414d"
      },
      "source": [
        "np.random.seed(0)\n",
        "print(np.random.rand(4))\n",
        "np.random.seed(0)\n",
        "print(np.random.rand(4)) \n",
        "#https://stackoverflow.com/questions/21494489/what-does-numpy-random-seed0-do"
      ],
      "execution_count": 31,
      "outputs": [
        {
          "output_type": "stream",
          "text": [
            "[0.5488135  0.71518937 0.60276338 0.54488318]\n",
            "[0.5488135  0.71518937 0.60276338 0.54488318]\n"
          ],
          "name": "stdout"
        }
      ]
    },
    {
      "cell_type": "code",
      "metadata": {
        "id": "yDeRpzFRqXGE",
        "colab_type": "code",
        "colab": {
          "base_uri": "https://localhost:8080/",
          "height": 329
        },
        "outputId": "9eff75bd-d205-472a-d1d7-286f441d375d"
      },
      "source": [
        "x = np.random.rand(100)\n",
        "print(x)"
      ],
      "execution_count": 32,
      "outputs": [
        {
          "output_type": "stream",
          "text": [
            "[0.4236548  0.64589411 0.43758721 0.891773   0.96366276 0.38344152\n",
            " 0.79172504 0.52889492 0.56804456 0.92559664 0.07103606 0.0871293\n",
            " 0.0202184  0.83261985 0.77815675 0.87001215 0.97861834 0.79915856\n",
            " 0.46147936 0.78052918 0.11827443 0.63992102 0.14335329 0.94466892\n",
            " 0.52184832 0.41466194 0.26455561 0.77423369 0.45615033 0.56843395\n",
            " 0.0187898  0.6176355  0.61209572 0.616934   0.94374808 0.6818203\n",
            " 0.3595079  0.43703195 0.6976312  0.06022547 0.66676672 0.67063787\n",
            " 0.21038256 0.1289263  0.31542835 0.36371077 0.57019677 0.43860151\n",
            " 0.98837384 0.10204481 0.20887676 0.16130952 0.65310833 0.2532916\n",
            " 0.46631077 0.24442559 0.15896958 0.11037514 0.65632959 0.13818295\n",
            " 0.19658236 0.36872517 0.82099323 0.09710128 0.83794491 0.09609841\n",
            " 0.97645947 0.4686512  0.97676109 0.60484552 0.73926358 0.03918779\n",
            " 0.28280696 0.12019656 0.2961402  0.11872772 0.31798318 0.41426299\n",
            " 0.0641475  0.69247212 0.56660145 0.26538949 0.52324805 0.09394051\n",
            " 0.5759465  0.9292962  0.31856895 0.66741038 0.13179786 0.7163272\n",
            " 0.28940609 0.18319136 0.58651293 0.02010755 0.82894003 0.00469548\n",
            " 0.67781654 0.27000797 0.73519402 0.96218855]\n"
          ],
          "name": "stdout"
        }
      ]
    },
    {
      "cell_type": "code",
      "metadata": {
        "id": "bMdsOwx7qc_E",
        "colab_type": "code",
        "colab": {
          "base_uri": "https://localhost:8080/",
          "height": 265
        },
        "outputId": "41af3765-3c3f-47db-999d-8dfb31165431"
      },
      "source": [
        "ax = sns.distplot(x, bins=30, rug=True)\n",
        "plt.show()\n",
        "#https://seaborn.pydata.org/generated/seaborn.distplot.html"
      ],
      "execution_count": 33,
      "outputs": [
        {
          "output_type": "display_data",
          "data": {
            "image/png": "[encoded data removed]",
            "text/plain": [
              "<Figure size 432x288 with 1 Axes>"
            ]
          },
          "metadata": {
            "tags": [],
            "needs_background": "light"
          }
        }
      ]
    },
    {
      "cell_type": "code",
      "metadata": {
        "id": "Jt7dXEZ4vS1O",
        "colab_type": "code",
        "colab": {
          "base_uri": "https://localhost:8080/",
          "height": 265
        },
        "outputId": "d3d10dae-dc77-4515-a26b-55169fdde085"
      },
      "source": [
        "ax = sns.distplot(x, bins = 30, vertical=True)\n",
        "plt.show()"
      ],
      "execution_count": 34,
      "outputs": [
        {
          "output_type": "display_data",
          "data": {
            "image/png": "[encoded data removed]",
            "text/plain": [
              "<Figure size 432x288 with 1 Axes>"
            ]
          },
          "metadata": {
            "tags": [],
            "needs_background": "light"
          }
        }
      ]
    },
    {
      "cell_type": "code",
      "metadata": {
        "id": "AdkMYzSPBWzG",
        "colab_type": "code",
        "colab": {
          "base_uri": "https://localhost:8080/",
          "height": 265
        },
        "outputId": "ae0947cf-be35-489c-83d2-238d56a94170"
      },
      "source": [
        "sns.set_color_codes()\n",
        "ax = sns.distplot(x, bins=30, color='y' )\n",
        "plt.show()"
      ],
      "execution_count": 36,
      "outputs": [
        {
          "output_type": "display_data",
          "data": {
            "image/png": "[encoded data removed]",
            "text/plain": [
              "<Figure size 432x288 with 1 Axes>"
            ]
          },
          "metadata": {
            "tags": [],
            "needs_background": "light"
          }
        }
      ]
    },
    {
      "cell_type": "code",
      "metadata": {
        "id": "dRT_bbO7Bk-g",
        "colab_type": "code",
        "colab": {
          "base_uri": "https://localhost:8080/",
          "height": 265
        },
        "outputId": "24ea8efd-38bd-43c3-d4e2-3927835b0f59"
      },
      "source": [
        "ax = sns.distplot(x,bins=30, color='r')\n",
        "plt.show()"
      ],
      "execution_count": 38,
      "outputs": [
        {
          "output_type": "display_data",
          "data": {
            "image/png": "[encoded data removed]",
            "text/plain": [
              "<Figure size 432x288 with 1 Axes>"
            ]
          },
          "metadata": {
            "tags": [],
            "needs_background": "light"
          }
        }
      ]
    },
    {
      "cell_type": "code",
      "metadata": {
        "id": "gHKLw5EvB5N8",
        "colab_type": "code",
        "colab": {
          "base_uri": "https://localhost:8080/",
          "height": 265
        },
        "outputId": "a91e3604-b366-49b0-f04c-810452769494"
      },
      "source": [
        "ax = sns.distplot(x, bins=30, rug=True, rug_kws={'color':'y'}, kde_kws={'color':'g','lw':6, 'label':'KDE'}, hist_kws={'histtype':'step','linewidth':3,'alpha':1,'color':'pink'})\n",
        "plt.show()"
      ],
      "execution_count": 41,
      "outputs": [
        {
          "output_type": "display_data",
          "data": {
            "image/png": "[encoded data removed]",
            "text/plain": [
              "<Figure size 432x288 with 1 Axes>"
            ]
          },
          "metadata": {
            "tags": [],
            "needs_background": "light"
          }
        }
      ]
    },
    {
      "cell_type": "code",
      "metadata": {
        "id": "dc-YiYEKD3Zk",
        "colab_type": "code",
        "colab": {}
      },
      "source": [
        ""
      ],
      "execution_count": null,
      "outputs": []
    }
  ]
}