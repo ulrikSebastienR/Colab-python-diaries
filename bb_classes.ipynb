{
  "nbformat": 4,
  "nbformat_minor": 0,
  "metadata": {
    "colab": {
      "name": "bb classes.ipynb",
      "provenance": [],
      "collapsed_sections": [],
      "authorship_tag": "ABX9TyNtc4weLmKNNWL13Fmg3UIU",
      "include_colab_link": true
    },
    "kernelspec": {
      "name": "python3",
      "display_name": "Python 3"
    }
  },
  "cells": [
    {
      "cell_type": "markdown",
      "metadata": {
        "id": "view-in-github",
        "colab_type": "text"
      },
      "source": [
        "<a href=\"https://colab.research.google.com/github/ulrikSebastienR/Colab-python-diaries/blob/master/bb_classes.ipynb\" target=\"_parent\"><img src=\"https://colab.research.google.com/assets/colab-badge.svg\" alt=\"Open In Colab\"/></a>"
      ]
    },
    {
      "cell_type": "code",
      "metadata": {
        "id": "vUTQU3nqKZm8",
        "colab_type": "code",
        "colab": {}
      },
      "source": [
        "# https://www.w3schools.com/python/python_classes.asp"
      ],
      "execution_count": 0,
      "outputs": []
    },
    {
      "cell_type": "code",
      "metadata": {
        "id": "emslRcSq5htj",
        "colab_type": "code",
        "colab": {}
      },
      "source": [
        "class MyClass():\n",
        "  x = 5"
      ],
      "execution_count": 0,
      "outputs": []
    },
    {
      "cell_type": "code",
      "metadata": {
        "id": "L-85JvG-5qXa",
        "colab_type": "code",
        "outputId": "8c9b59c9-4fcb-47df-e24b-6d9b50155c65",
        "colab": {
          "base_uri": "https://localhost:8080/",
          "height": 35
        }
      },
      "source": [
        "print(MyClass)"
      ],
      "execution_count": 46,
      "outputs": [
        {
          "output_type": "stream",
          "text": [
            "<class '__main__.MyClass'>\n"
          ],
          "name": "stdout"
        }
      ]
    },
    {
      "cell_type": "code",
      "metadata": {
        "id": "NCItyf5F52Y6",
        "colab_type": "code",
        "outputId": "747b2334-376a-47d3-98e6-f2a1db9ebda5",
        "colab": {
          "base_uri": "https://localhost:8080/",
          "height": 53
        }
      },
      "source": [
        "y = MyClass() # defining y as an object of the class\n",
        "print(y) # printing y shows it to be an object of the class\n",
        "print(y.x) #the value of x for the element y"
      ],
      "execution_count": 47,
      "outputs": [
        {
          "output_type": "stream",
          "text": [
            "<__main__.MyClass object at 0x7f86f8e78e80>\n",
            "5\n"
          ],
          "name": "stdout"
        }
      ]
    },
    {
      "cell_type": "code",
      "metadata": {
        "id": "lpZDGS0255Jx",
        "colab_type": "code",
        "colab": {}
      },
      "source": [
        "class Person():\n",
        "  def __init__(self,name,age):\n",
        "    self.name = name\n",
        "    self.age = age       "
      ],
      "execution_count": 0,
      "outputs": []
    },
    {
      "cell_type": "code",
      "metadata": {
        "id": "xrrCMOjg6Rne",
        "colab_type": "code",
        "outputId": "5721454a-445d-44ad-b984-fe3ea132e5be",
        "colab": {
          "base_uri": "https://localhost:8080/",
          "height": 35
        }
      },
      "source": [
        "print(Person)"
      ],
      "execution_count": 49,
      "outputs": [
        {
          "output_type": "stream",
          "text": [
            "<class '__main__.Person'>\n"
          ],
          "name": "stdout"
        }
      ]
    },
    {
      "cell_type": "code",
      "metadata": {
        "id": "0_ZnnT6_8Jhl",
        "colab_type": "code",
        "colab": {}
      },
      "source": [
        "person1 = Person('John',36)"
      ],
      "execution_count": 0,
      "outputs": []
    },
    {
      "cell_type": "code",
      "metadata": {
        "id": "EdvtWA6B8o-7",
        "colab_type": "code",
        "outputId": "e6e23633-0ce5-4f82-e69a-3d559f2842f5",
        "colab": {
          "base_uri": "https://localhost:8080/",
          "height": 35
        }
      },
      "source": [
        "print(person1.name)"
      ],
      "execution_count": 51,
      "outputs": [
        {
          "output_type": "stream",
          "text": [
            "John\n"
          ],
          "name": "stdout"
        }
      ]
    },
    {
      "cell_type": "code",
      "metadata": {
        "id": "Qdcn7oq386og",
        "colab_type": "code",
        "outputId": "f0c9204e-928f-4990-f021-4910e75586c9",
        "colab": {
          "base_uri": "https://localhost:8080/",
          "height": 35
        }
      },
      "source": [
        "print(person1.age)"
      ],
      "execution_count": 52,
      "outputs": [
        {
          "output_type": "stream",
          "text": [
            "36\n"
          ],
          "name": "stdout"
        }
      ]
    },
    {
      "cell_type": "code",
      "metadata": {
        "id": "-Bwq2jfT9NcL",
        "colab_type": "code",
        "colab": {}
      },
      "source": [
        "class Person(): #defining class\n",
        "  def __init__ (self,first_name, family_name, age): #initiating class with variables in mind\n",
        "    self.first_name = first_name\n",
        "    self.family_name = family_name\n",
        "    self.age = age\n",
        "    self.name = self.first_name + \" \" + self.family_name # defined data without using methods\n",
        "    self.email = self.first_name + str(self.age) + self.family_name + \"@gmail.com\""
      ],
      "execution_count": 0,
      "outputs": []
    },
    {
      "cell_type": "code",
      "metadata": {
        "id": "Vb2UmBAeDHt1",
        "colab_type": "code",
        "colab": {}
      },
      "source": [
        "Person1 = Person('Ulrik','Sebastien', 12)"
      ],
      "execution_count": 0,
      "outputs": []
    },
    {
      "cell_type": "code",
      "metadata": {
        "id": "A1-7CBEvDLbF",
        "colab_type": "code",
        "colab": {
          "base_uri": "https://localhost:8080/",
          "height": 35
        },
        "outputId": "7888edde-8cec-403e-c600-1bf97e26aef2"
      },
      "source": [
        "print(Person1) # Creating a person object for this class"
      ],
      "execution_count": 99,
      "outputs": [
        {
          "output_type": "stream",
          "text": [
            "<__main__.Person object at 0x7f86f8e83b00>\n"
          ],
          "name": "stdout"
        }
      ]
    },
    {
      "cell_type": "code",
      "metadata": {
        "id": "gqlgZ1ctF-UG",
        "colab_type": "code",
        "colab": {
          "base_uri": "https://localhost:8080/",
          "height": 72
        },
        "outputId": "4b1bb23b-f3df-425e-eaf8-87701535b70e"
      },
      "source": [
        "print(\"Person1's name is:\", Person1.first_name )\n",
        "print(\"Person1's family name is:\", Person1.family_name)\n",
        "print(\"Person1's age is:\", Person1.age)"
      ],
      "execution_count": 95,
      "outputs": [
        {
          "output_type": "stream",
          "text": [
            "Person1's name is: Ulrik\n",
            "Person1's family name is: Sebastien\n",
            "Person1's age is: 12\n"
          ],
          "name": "stdout"
        }
      ]
    },
    {
      "cell_type": "code",
      "metadata": {
        "id": "iKxTGeiqDkdw",
        "colab_type": "code",
        "colab": {
          "base_uri": "https://localhost:8080/",
          "height": 53
        },
        "outputId": "7c85ae1e-2514-4b03-d38d-de5e85e07600"
      },
      "source": [
        "print(\"Person1's name is:\", Person1.name)\n",
        "print(\"Person1's email is:\", Person1.email)"
      ],
      "execution_count": 98,
      "outputs": [
        {
          "output_type": "stream",
          "text": [
            "Person1's name is: Ulrik Sebastien\n",
            "Person1's email is: Ulrik12Sebastien@gmail.com\n"
          ],
          "name": "stdout"
        }
      ]
    },
    {
      "cell_type": "code",
      "metadata": {
        "id": "2iGFsHyYDqry",
        "colab_type": "code",
        "colab": {}
      },
      "source": [
        "# Defining a method or writing a function for this class."
      ],
      "execution_count": 0,
      "outputs": []
    },
    {
      "cell_type": "code",
      "metadata": {
        "id": "pbel1uqcHx0I",
        "colab_type": "code",
        "colab": {}
      },
      "source": [
        "class Person(): # wrote a class \n",
        "  def __init__(self, first_name, family_name, age): # initiliazed the class and set its data/variables\n",
        "    self.first_name = first_name\n",
        "    self.family_name = family_name\n",
        "    self.age = age\n",
        "\n",
        "  def personal_details(self): # Note that Methods have the same indentation as of class initialization/ data.\n",
        "      name = self.first_name + \" \" + self.family_name # wrote a method for the class\n",
        "      print(\"this person's name is\", name)\n",
        "      print(\"this person's email is:  \", self.first_name, self.family_name, self.age, \"@gmail.com\", sep=\"\")\n",
        "      email = self.first_name + self.family_name + str(self.age) + \"@gmail.com\"\n",
        "    \n"
      ],
      "execution_count": 0,
      "outputs": []
    },
    {
      "cell_type": "code",
      "metadata": {
        "id": "KEzScbEzILfX",
        "colab_type": "code",
        "colab": {
          "base_uri": "https://localhost:8080/",
          "height": 53
        },
        "outputId": "c5e8f79b-c94e-4163-a732-532435320a1d"
      },
      "source": [
        "person2 = Person('Aurore', 'Bastide', 14) # created an object of the class \n",
        "print(type(person2))\n",
        "print(person2)"
      ],
      "execution_count": 205,
      "outputs": [
        {
          "output_type": "stream",
          "text": [
            "<class '__main__.Person'>\n",
            "<__main__.Person object at 0x7f86f8dab588>\n"
          ],
          "name": "stdout"
        }
      ]
    },
    {
      "cell_type": "code",
      "metadata": {
        "id": "TjmNTai-JlD2",
        "colab_type": "code",
        "colab": {
          "base_uri": "https://localhost:8080/",
          "height": 72
        },
        "outputId": "197edf3f-1832-49c9-d3b1-7ebbd5106154"
      },
      "source": [
        "print(person2.first_name) # saw this object's data using dot notation\n",
        "print(person2.family_name)\n",
        "print(person2.age)"
      ],
      "execution_count": 206,
      "outputs": [
        {
          "output_type": "stream",
          "text": [
            "Aurore\n",
            "Bastide\n",
            "14\n"
          ],
          "name": "stdout"
        }
      ]
    },
    {
      "cell_type": "code",
      "metadata": {
        "id": "CVb958RmKFbR",
        "colab_type": "code",
        "colab": {
          "base_uri": "https://localhost:8080/",
          "height": 53
        },
        "outputId": "fd9a3c0e-2cb0-4ee7-a137-e1341f9c2a44"
      },
      "source": [
        "person2.personal_details() # called the function using dot notation"
      ],
      "execution_count": 207,
      "outputs": [
        {
          "output_type": "stream",
          "text": [
            "this person's name is Aurore Bastide\n",
            "this person's email is:  AuroreBastide14@gmail.com\n"
          ],
          "name": "stdout"
        }
      ]
    },
    {
      "cell_type": "code",
      "metadata": {
        "id": "xg7jMqWfKq7W",
        "colab_type": "code",
        "colab": {
          "base_uri": "https://localhost:8080/",
          "height": 227
        },
        "outputId": "e810624b-fb5f-4430-a7ee-7db10f8e5dbc"
      },
      "source": [
        "print(person2.personal_details().name) # causes an error 'NoneType' object has no attribute 'name'\n",
        "# as using dot notation sets the name and email for the person but to access them, the function must return these values"
      ],
      "execution_count": 189,
      "outputs": [
        {
          "output_type": "stream",
          "text": [
            "this person's name is Aurore Bastide\n",
            "this person's email is:  AuroreBastide14@gmail.com\n"
          ],
          "name": "stdout"
        },
        {
          "output_type": "error",
          "ename": "AttributeError",
          "evalue": "ignored",
          "traceback": [
            "\u001b[0;31m---------------------------------------------------------------------------\u001b[0m",
            "\u001b[0;31mAttributeError\u001b[0m                            Traceback (most recent call last)",
            "\u001b[0;32m<ipython-input-189-bd46edb8254c>\u001b[0m in \u001b[0;36m<module>\u001b[0;34m()\u001b[0m\n\u001b[0;32m----> 1\u001b[0;31m \u001b[0mprint\u001b[0m\u001b[0;34m(\u001b[0m\u001b[0mperson2\u001b[0m\u001b[0;34m.\u001b[0m\u001b[0mpersonal_details\u001b[0m\u001b[0;34m(\u001b[0m\u001b[0;34m)\u001b[0m\u001b[0;34m.\u001b[0m\u001b[0mname\u001b[0m\u001b[0;34m)\u001b[0m \u001b[0;31m# causes an error as using dot notation sets the name and email for the person but to access them, the function must return these values\u001b[0m\u001b[0;34m\u001b[0m\u001b[0;34m\u001b[0m\u001b[0m\n\u001b[0m",
            "\u001b[0;31mAttributeError\u001b[0m: 'NoneType' object has no attribute 'name'"
          ]
        }
      ]
    },
    {
      "cell_type": "code",
      "metadata": {
        "id": "n12BJvydPT48",
        "colab_type": "code",
        "colab": {}
      },
      "source": [
        "class Person(): # wrote a class \n",
        "  def __init__(self, first_name, family_name, age): # initiliazed the class and set its data/variables\n",
        "    self.first_name = first_name\n",
        "    self.family_name = family_name\n",
        "    self.age = age\n",
        "\n",
        "  def personal_details(self): # Note that Methods have the same indentation as of class initialization/ data.\n",
        "      name = self.first_name + \" \" + self.family_name # wrote a method for the class\n",
        "      print(\"this person's name is\", name)\n",
        "      print(\"this person's email is:  \", self.first_name, self.family_name, self.age, \"@gmail.com\", sep=\"\")\n",
        "      email = self.first_name + self.family_name + str(self.age) + \"@gmail.com\" # Note that we have converted age to a string value otherwise error is thrown.\n",
        "\n",
        "      return name, email"
      ],
      "execution_count": 0,
      "outputs": []
    },
    {
      "cell_type": "code",
      "metadata": {
        "id": "9yLd8WUaPy7H",
        "colab_type": "code",
        "colab": {
          "base_uri": "https://localhost:8080/",
          "height": 72
        },
        "outputId": "a6e9fa9a-7940-414d-91f5-380e31ce60c8"
      },
      "source": [
        "person2 = Person(\"Aurore\", \"Bastide\", 14)\n",
        "person2.personal_details()"
      ],
      "execution_count": 212,
      "outputs": [
        {
          "output_type": "stream",
          "text": [
            "this person's name is Aurore Bastide\n",
            "this person's email is:  AuroreBastide14@gmail.com\n"
          ],
          "name": "stdout"
        },
        {
          "output_type": "execute_result",
          "data": {
            "text/plain": [
              "('Aurore Bastide', 'AuroreBastide14@gmail.com')"
            ]
          },
          "metadata": {
            "tags": []
          },
          "execution_count": 212
        }
      ]
    },
    {
      "cell_type": "code",
      "metadata": {
        "id": "4eq_15hXQoz3",
        "colab_type": "code",
        "colab": {
          "base_uri": "https://localhost:8080/",
          "height": 53
        },
        "outputId": "412c1ecf-3b7c-4330-dd8f-374de67c8345"
      },
      "source": [
        "contact_person2 = person2.personal_details()"
      ],
      "execution_count": 213,
      "outputs": [
        {
          "output_type": "stream",
          "text": [
            "this person's name is Aurore Bastide\n",
            "this person's email is:  AuroreBastide14@gmail.com\n"
          ],
          "name": "stdout"
        }
      ]
    },
    {
      "cell_type": "code",
      "metadata": {
        "id": "rRAFZQSCQvlS",
        "colab_type": "code",
        "colab": {
          "base_uri": "https://localhost:8080/",
          "height": 35
        },
        "outputId": "73bca66c-cee7-4b5e-b685-8bda9f418e19"
      },
      "source": [
        "name_person2 = contact_person2[0]\n",
        "print(name_person2)"
      ],
      "execution_count": 214,
      "outputs": [
        {
          "output_type": "stream",
          "text": [
            "Aurore Bastide\n"
          ],
          "name": "stdout"
        }
      ]
    },
    {
      "cell_type": "code",
      "metadata": {
        "id": "0pEIOGW4RKXR",
        "colab_type": "code",
        "colab": {
          "base_uri": "https://localhost:8080/",
          "height": 35
        },
        "outputId": "588abfa9-7cf6-4676-e7a6-b11453100707"
      },
      "source": [
        "email_person2 = contact_person2[1]\n",
        "print(email_person2)"
      ],
      "execution_count": 215,
      "outputs": [
        {
          "output_type": "stream",
          "text": [
            "AuroreBastide14@gmail.com\n"
          ],
          "name": "stdout"
        }
      ]
    },
    {
      "cell_type": "code",
      "metadata": {
        "id": "ZcGv5drWRY-v",
        "colab_type": "code",
        "colab": {}
      },
      "source": [
        ""
      ],
      "execution_count": 0,
      "outputs": []
    }
  ]
}