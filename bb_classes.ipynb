{
  "nbformat": 4,
  "nbformat_minor": 0,
  "metadata": {
    "colab": {
      "name": "bb classes.ipynb",
      "provenance": [],
      "collapsed_sections": [],
      "authorship_tag": "ABX9TyPWJ9YAbJ5mVYhms2vBneQU",
      "include_colab_link": true
    },
    "kernelspec": {
      "name": "python3",
      "display_name": "Python 3"
    }
  },
  "cells": [
    {
      "cell_type": "markdown",
      "metadata": {
        "id": "view-in-github",
        "colab_type": "text"
      },
      "source": [
        "<a href=\"https://colab.research.google.com/github/ulrikSebastienR/Colab-python-diaries/blob/master/bb_classes.ipynb\" target=\"_parent\"><img src=\"https://colab.research.google.com/assets/colab-badge.svg\" alt=\"Open In Colab\"/></a>"
      ]
    },
    {
      "cell_type": "code",
      "metadata": {
        "id": "vUTQU3nqKZm8",
        "colab_type": "code",
        "colab": {}
      },
      "source": [
        "# https://www.w3schools.com/python/python_classes.asp"
      ],
      "execution_count": 0,
      "outputs": []
    },
    {
      "cell_type": "code",
      "metadata": {
        "id": "emslRcSq5htj",
        "colab_type": "code",
        "colab": {}
      },
      "source": [
        "class MyClass():\n",
        "  x = 5"
      ],
      "execution_count": 0,
      "outputs": []
    },
    {
      "cell_type": "code",
      "metadata": {
        "id": "L-85JvG-5qXa",
        "colab_type": "code",
        "outputId": "8305c9f2-81eb-4597-ac8d-1d00e8352876",
        "colab": {
          "base_uri": "https://localhost:8080/",
          "height": 35
        }
      },
      "source": [
        "print(MyClass)"
      ],
      "execution_count": 24,
      "outputs": [
        {
          "output_type": "stream",
          "text": [
            "<class '__main__.MyClass'>\n"
          ],
          "name": "stdout"
        }
      ]
    },
    {
      "cell_type": "code",
      "metadata": {
        "id": "NCItyf5F52Y6",
        "colab_type": "code",
        "outputId": "10b07ab0-eb4c-452e-d02a-f6bffac2b771",
        "colab": {
          "base_uri": "https://localhost:8080/",
          "height": 53
        }
      },
      "source": [
        "y = MyClass() # defining y as an object of the class\n",
        "print(y) # printing y shows it to be an object of the class\n",
        "print(y.x) #the value of x for the element y"
      ],
      "execution_count": 25,
      "outputs": [
        {
          "output_type": "stream",
          "text": [
            "<__main__.MyClass object at 0x7fc655bdc438>\n",
            "5\n"
          ],
          "name": "stdout"
        }
      ]
    },
    {
      "cell_type": "code",
      "metadata": {
        "id": "lpZDGS0255Jx",
        "colab_type": "code",
        "colab": {}
      },
      "source": [
        "class Person():\n",
        "  def __init__(self,name,age):\n",
        "    self.name = name\n",
        "    self.age = age       "
      ],
      "execution_count": 0,
      "outputs": []
    },
    {
      "cell_type": "code",
      "metadata": {
        "id": "xrrCMOjg6Rne",
        "colab_type": "code",
        "outputId": "30e3050c-8caf-4d7d-f61a-3bc64877394f",
        "colab": {
          "base_uri": "https://localhost:8080/",
          "height": 35
        }
      },
      "source": [
        "print(Person)"
      ],
      "execution_count": 27,
      "outputs": [
        {
          "output_type": "stream",
          "text": [
            "<class '__main__.Person'>\n"
          ],
          "name": "stdout"
        }
      ]
    },
    {
      "cell_type": "code",
      "metadata": {
        "id": "0_ZnnT6_8Jhl",
        "colab_type": "code",
        "colab": {}
      },
      "source": [
        "person1 = Person('John',36)"
      ],
      "execution_count": 0,
      "outputs": []
    },
    {
      "cell_type": "code",
      "metadata": {
        "id": "EdvtWA6B8o-7",
        "colab_type": "code",
        "outputId": "9a078845-cd62-49dc-d41a-dde4e0b6b91b",
        "colab": {
          "base_uri": "https://localhost:8080/",
          "height": 35
        }
      },
      "source": [
        "print(person1.name)"
      ],
      "execution_count": 29,
      "outputs": [
        {
          "output_type": "stream",
          "text": [
            "John\n"
          ],
          "name": "stdout"
        }
      ]
    },
    {
      "cell_type": "code",
      "metadata": {
        "id": "Qdcn7oq386og",
        "colab_type": "code",
        "outputId": "bfc15247-6d27-483a-a929-6704c6e87351",
        "colab": {
          "base_uri": "https://localhost:8080/",
          "height": 35
        }
      },
      "source": [
        "print(person1.age)"
      ],
      "execution_count": 30,
      "outputs": [
        {
          "output_type": "stream",
          "text": [
            "36\n"
          ],
          "name": "stdout"
        }
      ]
    },
    {
      "cell_type": "code",
      "metadata": {
        "id": "-Bwq2jfT9NcL",
        "colab_type": "code",
        "colab": {}
      },
      "source": [
        "class Person(): #defining class\n",
        "  def __init__ (self,first_name, family_name, age): #initiating class with variables in mind\n",
        "    self.first_name = first_name\n",
        "    self.family_name = family_name\n",
        "    self.age = age\n",
        "    self.name = self.first_name + \" \" + self.family_name # defined data without using methods\n",
        "    self.email = self.first_name + str(self.age) + self.family_name + \"@gmail.com\""
      ],
      "execution_count": 0,
      "outputs": []
    },
    {
      "cell_type": "code",
      "metadata": {
        "id": "Vb2UmBAeDHt1",
        "colab_type": "code",
        "colab": {}
      },
      "source": [
        "Person1 = Person('Ulrik','Sebastien', 12)"
      ],
      "execution_count": 0,
      "outputs": []
    },
    {
      "cell_type": "code",
      "metadata": {
        "id": "A1-7CBEvDLbF",
        "colab_type": "code",
        "outputId": "eff630ef-ea44-49e2-bdaa-eb6d268fc783",
        "colab": {
          "base_uri": "https://localhost:8080/",
          "height": 35
        }
      },
      "source": [
        "print(Person1) # Creating a person object for this class"
      ],
      "execution_count": 33,
      "outputs": [
        {
          "output_type": "stream",
          "text": [
            "<__main__.Person object at 0x7fc655b5b550>\n"
          ],
          "name": "stdout"
        }
      ]
    },
    {
      "cell_type": "code",
      "metadata": {
        "id": "gqlgZ1ctF-UG",
        "colab_type": "code",
        "outputId": "ad0ba0e3-e8fe-4bc1-e762-384c724f1aaf",
        "colab": {
          "base_uri": "https://localhost:8080/",
          "height": 72
        }
      },
      "source": [
        "print(\"Person1's name is:\", Person1.first_name )\n",
        "print(\"Person1's family name is:\", Person1.family_name)\n",
        "print(\"Person1's age is:\", Person1.age)"
      ],
      "execution_count": 34,
      "outputs": [
        {
          "output_type": "stream",
          "text": [
            "Person1's name is: Ulrik\n",
            "Person1's family name is: Sebastien\n",
            "Person1's age is: 12\n"
          ],
          "name": "stdout"
        }
      ]
    },
    {
      "cell_type": "code",
      "metadata": {
        "id": "iKxTGeiqDkdw",
        "colab_type": "code",
        "outputId": "4a106752-ed69-4321-c0a0-2e87397c4f88",
        "colab": {
          "base_uri": "https://localhost:8080/",
          "height": 53
        }
      },
      "source": [
        "print(\"Person1's name is:\", Person1.name)\n",
        "print(\"Person1's email is:\", Person1.email)"
      ],
      "execution_count": 35,
      "outputs": [
        {
          "output_type": "stream",
          "text": [
            "Person1's name is: Ulrik Sebastien\n",
            "Person1's email is: Ulrik12Sebastien@gmail.com\n"
          ],
          "name": "stdout"
        }
      ]
    },
    {
      "cell_type": "code",
      "metadata": {
        "id": "2iGFsHyYDqry",
        "colab_type": "code",
        "colab": {}
      },
      "source": [
        "# Defining a method or writing a function for this class."
      ],
      "execution_count": 0,
      "outputs": []
    },
    {
      "cell_type": "code",
      "metadata": {
        "id": "pbel1uqcHx0I",
        "colab_type": "code",
        "colab": {}
      },
      "source": [
        "class Person(): # wrote a class \n",
        "  def __init__(self, first_name, family_name, age): # initiliazed the class and set its data/variables\n",
        "    self.first_name = first_name\n",
        "    self.family_name = family_name\n",
        "    self.age = age\n",
        "\n",
        "  def personal_details(self): # Note that Methods have the same indentation as of class initialization/ data.\n",
        "      name = self.first_name + \" \" + self.family_name # wrote a method for the class\n",
        "      print(\"this person's name is\", name)\n",
        "      print(\"this person's email is:  \", self.first_name, self.family_name, self.age, \"@gmail.com\", sep=\"\")\n",
        "      email = self.first_name + self.family_name + str(self.age) + \"@gmail.com\"\n",
        "    \n"
      ],
      "execution_count": 0,
      "outputs": []
    },
    {
      "cell_type": "code",
      "metadata": {
        "id": "KEzScbEzILfX",
        "colab_type": "code",
        "outputId": "061d3fd2-b96c-4ec5-f57e-322949e227d4",
        "colab": {
          "base_uri": "https://localhost:8080/",
          "height": 53
        }
      },
      "source": [
        "person2 = Person('Aurore', 'Bastide', 14) # created an object of the class \n",
        "print(type(person2))\n",
        "print(person2)"
      ],
      "execution_count": 38,
      "outputs": [
        {
          "output_type": "stream",
          "text": [
            "<class '__main__.Person'>\n",
            "<__main__.Person object at 0x7fc655b5bba8>\n"
          ],
          "name": "stdout"
        }
      ]
    },
    {
      "cell_type": "code",
      "metadata": {
        "id": "TjmNTai-JlD2",
        "colab_type": "code",
        "outputId": "f8654df5-7102-46f6-abec-76382185b6cc",
        "colab": {
          "base_uri": "https://localhost:8080/",
          "height": 72
        }
      },
      "source": [
        "print(person2.first_name) # saw this object's data using dot notation\n",
        "print(person2.family_name)\n",
        "print(person2.age)"
      ],
      "execution_count": 39,
      "outputs": [
        {
          "output_type": "stream",
          "text": [
            "Aurore\n",
            "Bastide\n",
            "14\n"
          ],
          "name": "stdout"
        }
      ]
    },
    {
      "cell_type": "code",
      "metadata": {
        "id": "CVb958RmKFbR",
        "colab_type": "code",
        "outputId": "1d3d6179-9bf4-4228-c6b0-60bf296e6660",
        "colab": {
          "base_uri": "https://localhost:8080/",
          "height": 53
        }
      },
      "source": [
        "person2.personal_details() # called the function using dot notation"
      ],
      "execution_count": 40,
      "outputs": [
        {
          "output_type": "stream",
          "text": [
            "this person's name is Aurore Bastide\n",
            "this person's email is:  AuroreBastide14@gmail.com\n"
          ],
          "name": "stdout"
        }
      ]
    },
    {
      "cell_type": "code",
      "metadata": {
        "id": "xg7jMqWfKq7W",
        "colab_type": "code",
        "colab": {}
      },
      "source": [
        "#print(person2.personal_details().name) # causes an error 'NoneType' object has no attribute 'name'\n",
        "# as using dot notation sets the name and email for the person but to access them, the function must return these values"
      ],
      "execution_count": 0,
      "outputs": []
    },
    {
      "cell_type": "code",
      "metadata": {
        "id": "n12BJvydPT48",
        "colab_type": "code",
        "colab": {}
      },
      "source": [
        "class Person(): # wrote a class \n",
        "  def __init__(self, first_name, family_name, age): # initiliazed the class and set its data/variables, constructor of the class\n",
        "    self.first_name = first_name # self is always the first argument of the class\n",
        "    self.family_name = family_name\n",
        "    self.age = age\n",
        "\n",
        "  def personal_details(self): # Note that Methods have the same indentation as of class initialization/ data.\n",
        "      name = self.first_name + \" \" + self.family_name # wrote a method for the class\n",
        "      print(\"this person's name is\", name)\n",
        "      print(\"this person's email is:  \", self.first_name, self.family_name, self.age, \"@gmail.com\", sep=\"\")\n",
        "      email = self.first_name + self.family_name + str(self.age) + \"@gmail.com\" # Note that we have converted age to a string value otherwise error is thrown.\n",
        "\n",
        "      return name, email"
      ],
      "execution_count": 0,
      "outputs": []
    },
    {
      "cell_type": "code",
      "metadata": {
        "id": "9yLd8WUaPy7H",
        "colab_type": "code",
        "outputId": "11cc2b2d-6cb2-44fd-8bb5-76bce3968f26",
        "colab": {
          "base_uri": "https://localhost:8080/",
          "height": 72
        }
      },
      "source": [
        "person2 = Person(\"Aurore\", \"Bastide\", 14)\n",
        "person2.personal_details()"
      ],
      "execution_count": 43,
      "outputs": [
        {
          "output_type": "stream",
          "text": [
            "this person's name is Aurore Bastide\n",
            "this person's email is:  AuroreBastide14@gmail.com\n"
          ],
          "name": "stdout"
        },
        {
          "output_type": "execute_result",
          "data": {
            "text/plain": [
              "('Aurore Bastide', 'AuroreBastide14@gmail.com')"
            ]
          },
          "metadata": {
            "tags": []
          },
          "execution_count": 43
        }
      ]
    },
    {
      "cell_type": "code",
      "metadata": {
        "id": "4eq_15hXQoz3",
        "colab_type": "code",
        "outputId": "68c98c25-3619-48fd-9e51-46af96e53690",
        "colab": {
          "base_uri": "https://localhost:8080/",
          "height": 53
        }
      },
      "source": [
        "contact_person2 = person2.personal_details()"
      ],
      "execution_count": 44,
      "outputs": [
        {
          "output_type": "stream",
          "text": [
            "this person's name is Aurore Bastide\n",
            "this person's email is:  AuroreBastide14@gmail.com\n"
          ],
          "name": "stdout"
        }
      ]
    },
    {
      "cell_type": "code",
      "metadata": {
        "id": "rRAFZQSCQvlS",
        "colab_type": "code",
        "outputId": "b8f00d4e-aa2a-4a10-aa3a-c3e5c1ed352d",
        "colab": {
          "base_uri": "https://localhost:8080/",
          "height": 35
        }
      },
      "source": [
        "name_person2 = contact_person2[0]\n",
        "print(name_person2)"
      ],
      "execution_count": 45,
      "outputs": [
        {
          "output_type": "stream",
          "text": [
            "Aurore Bastide\n"
          ],
          "name": "stdout"
        }
      ]
    },
    {
      "cell_type": "code",
      "metadata": {
        "id": "0pEIOGW4RKXR",
        "colab_type": "code",
        "outputId": "7a35510f-7c4a-4888-a070-080171ba1f26",
        "colab": {
          "base_uri": "https://localhost:8080/",
          "height": 35
        }
      },
      "source": [
        "email_person2 = contact_person2[1]\n",
        "print(email_person2)"
      ],
      "execution_count": 46,
      "outputs": [
        {
          "output_type": "stream",
          "text": [
            "AuroreBastide14@gmail.com\n"
          ],
          "name": "stdout"
        }
      ]
    },
    {
      "cell_type": "code",
      "metadata": {
        "id": "ZcGv5drWRY-v",
        "colab_type": "code",
        "colab": {
          "base_uri": "https://localhost:8080/",
          "height": 35
        },
        "outputId": "d520efc4-01f4-475d-9a80-d000a04dd4a6"
      },
      "source": [
        "#changing the property of the object\n",
        "person2.age = 40\n",
        "print(person2.age)"
      ],
      "execution_count": 47,
      "outputs": [
        {
          "output_type": "stream",
          "text": [
            "40\n"
          ],
          "name": "stdout"
        }
      ]
    },
    {
      "cell_type": "code",
      "metadata": {
        "id": "A2H1GaxjcVYM",
        "colab_type": "code",
        "colab": {}
      },
      "source": [
        "# creating an empty class or a class with properties same as those of parent class\n",
        "class NewClass:\n",
        "  pass"
      ],
      "execution_count": 0,
      "outputs": []
    },
    {
      "cell_type": "code",
      "metadata": {
        "id": "u84rYYEBce2T",
        "colab_type": "code",
        "colab": {
          "base_uri": "https://localhost:8080/",
          "height": 35
        },
        "outputId": "dac034a3-e9c1-4f86-da0c-493af286482c"
      },
      "source": [
        "print(NewClass)"
      ],
      "execution_count": 49,
      "outputs": [
        {
          "output_type": "stream",
          "text": [
            "<class '__main__.NewClass'>\n"
          ],
          "name": "stdout"
        }
      ]
    },
    {
      "cell_type": "code",
      "metadata": {
        "id": "lZOKvu2UciLt",
        "colab_type": "code",
        "colab": {}
      },
      "source": [
        "#inheritance https://www.w3schools.com/python/python_inheritance.asp"
      ],
      "execution_count": 0,
      "outputs": []
    },
    {
      "cell_type": "code",
      "metadata": {
        "id": "gPqm4UvbeQeM",
        "colab_type": "code",
        "colab": {}
      },
      "source": [
        "class GradeXII:\n",
        "  def __init__ (self, name, age):\n",
        "    self.name = name\n",
        "    self.age = age\n",
        "  \n",
        "  def print_details(self): #Note that function must have self as parameter because we are going to apply this on argument 'self' \n",
        "                           #else you will get the error that one argument is being passed to the function\n",
        "    email = self.name + str(self.age) + \"@gmail.com\"\n",
        "    print(\"Email of Student \", self.name, \"is: \", email)\n",
        "\n",
        "    return(self.name, self.age, email)"
      ],
      "execution_count": 0,
      "outputs": []
    },
    {
      "cell_type": "code",
      "metadata": {
        "id": "hpG67rtifKIK",
        "colab_type": "code",
        "colab": {
          "base_uri": "https://localhost:8080/",
          "height": 35
        },
        "outputId": "d2c53b5b-5480-4867-ddab-5ef8af5d9b5b"
      },
      "source": [
        "print(type(GradeXII))"
      ],
      "execution_count": 107,
      "outputs": [
        {
          "output_type": "stream",
          "text": [
            "<class 'type'>\n"
          ],
          "name": "stdout"
        }
      ]
    },
    {
      "cell_type": "code",
      "metadata": {
        "id": "IWl_wHgsfng4",
        "colab_type": "code",
        "colab": {
          "base_uri": "https://localhost:8080/",
          "height": 35
        },
        "outputId": "ed08ad4f-92c9-464c-b2de-165a4b4f8494"
      },
      "source": [
        "print(GradeXII)"
      ],
      "execution_count": 108,
      "outputs": [
        {
          "output_type": "stream",
          "text": [
            "<class '__main__.GradeXII'>\n"
          ],
          "name": "stdout"
        }
      ]
    },
    {
      "cell_type": "code",
      "metadata": {
        "id": "xaJKQvNVfrjc",
        "colab_type": "code",
        "colab": {}
      },
      "source": [
        "Student1 = GradeXII('Jane',11)"
      ],
      "execution_count": 0,
      "outputs": []
    },
    {
      "cell_type": "code",
      "metadata": {
        "id": "ZfxR1NKSf2B5",
        "colab_type": "code",
        "colab": {
          "base_uri": "https://localhost:8080/",
          "height": 35
        },
        "outputId": "b3df203b-f9a9-43c1-9949-ac37c6f51fda"
      },
      "source": [
        "print(type(Student1))"
      ],
      "execution_count": 110,
      "outputs": [
        {
          "output_type": "stream",
          "text": [
            "<class '__main__.GradeXII'>\n"
          ],
          "name": "stdout"
        }
      ]
    },
    {
      "cell_type": "code",
      "metadata": {
        "id": "9CdJXCg6f7pp",
        "colab_type": "code",
        "colab": {
          "base_uri": "https://localhost:8080/",
          "height": 35
        },
        "outputId": "962d96a6-4050-46a8-98a0-59429d035f05"
      },
      "source": [
        "print(Student1.name)"
      ],
      "execution_count": 111,
      "outputs": [
        {
          "output_type": "stream",
          "text": [
            "Jane\n"
          ],
          "name": "stdout"
        }
      ]
    },
    {
      "cell_type": "code",
      "metadata": {
        "id": "wmEcUdCNgEwQ",
        "colab_type": "code",
        "colab": {
          "base_uri": "https://localhost:8080/",
          "height": 35
        },
        "outputId": "74ca2fd1-fbb1-4f56-c640-a5ca9c2c5797"
      },
      "source": [
        "print(Student1.age)"
      ],
      "execution_count": 112,
      "outputs": [
        {
          "output_type": "stream",
          "text": [
            "11\n"
          ],
          "name": "stdout"
        }
      ]
    },
    {
      "cell_type": "code",
      "metadata": {
        "id": "Z8Oz3YI8gHbY",
        "colab_type": "code",
        "colab": {
          "base_uri": "https://localhost:8080/",
          "height": 53
        },
        "outputId": "ab8fe71f-05bf-426b-effb-703979dfd059"
      },
      "source": [
        "Student1.print_details()\n",
        "print(type(Student1.print_details))"
      ],
      "execution_count": 113,
      "outputs": [
        {
          "output_type": "stream",
          "text": [
            "Email of Student  Jane is:  Jane11@gmail.com\n",
            "<class 'method'>\n"
          ],
          "name": "stdout"
        }
      ]
    },
    {
      "cell_type": "code",
      "metadata": {
        "id": "yrh9PYLogN9a",
        "colab_type": "code",
        "colab": {}
      },
      "source": [
        "import pandas as pd"
      ],
      "execution_count": 0,
      "outputs": []
    },
    {
      "cell_type": "code",
      "metadata": {
        "id": "SsMMTcLQhvlT",
        "colab_type": "code",
        "colab": {
          "base_uri": "https://localhost:8080/",
          "height": 35
        },
        "outputId": "caf0ecc3-186f-4f5e-bff2-e04f6e0a0357"
      },
      "source": [
        "t = Student1.print_details()"
      ],
      "execution_count": 115,
      "outputs": [
        {
          "output_type": "stream",
          "text": [
            "Email of Student  Jane is:  Jane11@gmail.com\n"
          ],
          "name": "stdout"
        }
      ]
    },
    {
      "cell_type": "code",
      "metadata": {
        "id": "uTf0df-Fh3kT",
        "colab_type": "code",
        "colab": {
          "base_uri": "https://localhost:8080/",
          "height": 35
        },
        "outputId": "525f4ce0-c916-4534-bd98-b69792252f64"
      },
      "source": [
        "print(t)"
      ],
      "execution_count": 116,
      "outputs": [
        {
          "output_type": "stream",
          "text": [
            "('Jane', 11, 'Jane11@gmail.com')\n"
          ],
          "name": "stdout"
        }
      ]
    },
    {
      "cell_type": "code",
      "metadata": {
        "id": "ivkabJhAib8T",
        "colab_type": "code",
        "colab": {
          "base_uri": "https://localhost:8080/",
          "height": 35
        },
        "outputId": "d15e75a2-28e9-4b9e-ef84-2072a589831d"
      },
      "source": [
        "print(type(t))"
      ],
      "execution_count": 117,
      "outputs": [
        {
          "output_type": "stream",
          "text": [
            "<class 'tuple'>\n"
          ],
          "name": "stdout"
        }
      ]
    },
    {
      "cell_type": "code",
      "metadata": {
        "id": "sGLdGglDkq35",
        "colab_type": "code",
        "colab": {}
      },
      "source": [
        "df = pd.DataFrame()"
      ],
      "execution_count": 0,
      "outputs": []
    },
    {
      "cell_type": "code",
      "metadata": {
        "id": "c8fJER60ifMZ",
        "colab_type": "code",
        "colab": {}
      },
      "source": [
        "df = pd.DataFrame(t, index=[\"Name\", \"Age\", \"email\"], columns = [ \"Details\"]) #convert tuple to DF https://stackoverflow.com/questions/28200157/list-of-tuples-to-dataframe-conversion"
      ],
      "execution_count": 0,
      "outputs": []
    },
    {
      "cell_type": "code",
      "metadata": {
        "id": "ZrIC75a5jaRq",
        "colab_type": "code",
        "colab": {
          "base_uri": "https://localhost:8080/",
          "height": 108
        },
        "outputId": "258ca322-ae31-4770-c4e4-4ea63bbb97be"
      },
      "source": [
        "print(type(df))\n",
        "print(df)"
      ],
      "execution_count": 122,
      "outputs": [
        {
          "output_type": "stream",
          "text": [
            "<class 'pandas.core.frame.DataFrame'>\n",
            "                Details\n",
            "Name               Jane\n",
            "Age                  11\n",
            "email  Jane11@gmail.com\n"
          ],
          "name": "stdout"
        }
      ]
    },
    {
      "cell_type": "code",
      "metadata": {
        "id": "8oo4EmDWjewx",
        "colab_type": "code",
        "colab": {}
      },
      "source": [
        "df1 = df.transpose() # Rotate the dataframe or convert rows to columns or viceversa"
      ],
      "execution_count": 0,
      "outputs": []
    },
    {
      "cell_type": "code",
      "metadata": {
        "id": "c53p2dsklLZd",
        "colab_type": "code",
        "colab": {
          "base_uri": "https://localhost:8080/",
          "height": 72
        },
        "outputId": "e8a5face-fd57-421b-f259-a7f7db5597f4"
      },
      "source": [
        "print(df1)\n",
        "print(type(df1))"
      ],
      "execution_count": 124,
      "outputs": [
        {
          "output_type": "stream",
          "text": [
            "         Name Age             email\n",
            "Details  Jane  11  Jane11@gmail.com\n",
            "<class 'pandas.core.frame.DataFrame'>\n"
          ],
          "name": "stdout"
        }
      ]
    },
    {
      "cell_type": "code",
      "metadata": {
        "id": "OOxK1RMHlPcC",
        "colab_type": "code",
        "colab": {}
      },
      "source": [
        ""
      ],
      "execution_count": 0,
      "outputs": []
    }
  ]
}