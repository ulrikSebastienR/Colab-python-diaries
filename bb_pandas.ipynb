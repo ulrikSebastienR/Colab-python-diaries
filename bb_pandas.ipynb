{
  "nbformat": 4,
  "nbformat_minor": 0,
  "metadata": {
    "colab": {
      "name": "bb pandas.ipynb",
      "provenance": [],
      "authorship_tag": "ABX9TyMlRoRfRMTEWDSrgP0aU0yu",
      "include_colab_link": true
    },
    "kernelspec": {
      "name": "python3",
      "display_name": "Python 3"
    }
  },
  "cells": [
    {
      "cell_type": "markdown",
      "metadata": {
        "id": "view-in-github",
        "colab_type": "text"
      },
      "source": [
        "<a href=\"https://colab.research.google.com/github/ulrikSebastienR/Colab-python-diaries/blob/master/bb_pandas.ipynb\" target=\"_parent\"><img src=\"https://colab.research.google.com/assets/colab-badge.svg\" alt=\"Open In Colab\"/></a>"
      ]
    },
    {
      "cell_type": "code",
      "metadata": {
        "id": "5O11jTjQZems",
        "colab_type": "code",
        "colab": {}
      },
      "source": [
        "import pandas as pd"
      ],
      "execution_count": 0,
      "outputs": []
    },
    {
      "cell_type": "code",
      "metadata": {
        "id": "HBkqv7E0Zkft",
        "colab_type": "code",
        "colab": {
          "base_uri": "https://localhost:8080/",
          "height": 417
        },
        "outputId": "8a7acbaa-bd27-49ab-8aa9-3b6102e8972a"
      },
      "source": [
        "df = pd.read_csv(\"http://bit.ly/smallstocks\")\n",
        "print(df)\n",
        "print(df.info())"
      ],
      "execution_count": 2,
      "outputs": [
        {
          "output_type": "stream",
          "text": [
            "         Date   Close    Volume Symbol\n",
            "0  2016-10-03   31.50  14070500   CSCO\n",
            "1  2016-10-03  112.52  21701800   AAPL\n",
            "2  2016-10-03   57.42  19189500   MSFT\n",
            "3  2016-10-04  113.00  29736800   AAPL\n",
            "4  2016-10-04   57.24  20085900   MSFT\n",
            "5  2016-10-04   31.35  18460400   CSCO\n",
            "6  2016-10-05   57.64  16726400   MSFT\n",
            "7  2016-10-05   31.59  11808600   CSCO\n",
            "8  2016-10-05  113.05  21453100   AAPL\n",
            "<class 'pandas.core.frame.DataFrame'>\n",
            "RangeIndex: 9 entries, 0 to 8\n",
            "Data columns (total 4 columns):\n",
            " #   Column  Non-Null Count  Dtype  \n",
            "---  ------  --------------  -----  \n",
            " 0   Date    9 non-null      object \n",
            " 1   Close   9 non-null      float64\n",
            " 2   Volume  9 non-null      int64  \n",
            " 3   Symbol  9 non-null      object \n",
            "dtypes: float64(1), int64(1), object(2)\n",
            "memory usage: 416.0+ bytes\n",
            "None\n"
          ],
          "name": "stdout"
        }
      ]
    },
    {
      "cell_type": "code",
      "metadata": {
        "id": "gNM14QYzZvsW",
        "colab_type": "code",
        "colab": {
          "base_uri": "https://localhost:8080/",
          "height": 235
        },
        "outputId": "20818cd0-5b44-4321-d23d-d64e8900e786"
      },
      "source": [
        "print(df.head())\n",
        "print(df.tail())"
      ],
      "execution_count": 3,
      "outputs": [
        {
          "output_type": "stream",
          "text": [
            "         Date   Close    Volume Symbol\n",
            "0  2016-10-03   31.50  14070500   CSCO\n",
            "1  2016-10-03  112.52  21701800   AAPL\n",
            "2  2016-10-03   57.42  19189500   MSFT\n",
            "3  2016-10-04  113.00  29736800   AAPL\n",
            "4  2016-10-04   57.24  20085900   MSFT\n",
            "         Date   Close    Volume Symbol\n",
            "4  2016-10-04   57.24  20085900   MSFT\n",
            "5  2016-10-04   31.35  18460400   CSCO\n",
            "6  2016-10-05   57.64  16726400   MSFT\n",
            "7  2016-10-05   31.59  11808600   CSCO\n",
            "8  2016-10-05  113.05  21453100   AAPL\n"
          ],
          "name": "stdout"
        }
      ]
    },
    {
      "cell_type": "code",
      "metadata": {
        "id": "bWVJ9AnbZz7d",
        "colab_type": "code",
        "colab": {
          "base_uri": "https://localhost:8080/",
          "height": 181
        },
        "outputId": "6c1b4abe-d55c-435b-b05c-0603a5499a03"
      },
      "source": [
        "print(df.describe())"
      ],
      "execution_count": 5,
      "outputs": [
        {
          "output_type": "stream",
          "text": [
            "            Close        Volume\n",
            "count    9.000000  9.000000e+00\n",
            "mean    67.256667  1.924811e+07\n",
            "std     35.999591  5.132421e+06\n",
            "min     31.350000  1.180860e+07\n",
            "25%     31.590000  1.672640e+07\n",
            "50%     57.420000  1.918950e+07\n",
            "75%    112.520000  2.145310e+07\n",
            "max    113.050000  2.973680e+07\n"
          ],
          "name": "stdout"
        }
      ]
    },
    {
      "cell_type": "code",
      "metadata": {
        "id": "wUVs-ZJDZ4rx",
        "colab_type": "code",
        "colab": {
          "base_uri": "https://localhost:8080/",
          "height": 217
        },
        "outputId": "8d3632d9-31f8-4e23-d968-17e8b43c485d"
      },
      "source": [
        "df.to_excel('output.xlsx')\n",
        "output = pd.read_excel('output.xlsx')\n",
        "print(type(output))\n",
        "print(output)"
      ],
      "execution_count": 6,
      "outputs": [
        {
          "output_type": "stream",
          "text": [
            "<class 'pandas.core.frame.DataFrame'>\n",
            "   Unnamed: 0        Date   Close    Volume Symbol\n",
            "0           0  2016-10-03   31.50  14070500   CSCO\n",
            "1           1  2016-10-03  112.52  21701800   AAPL\n",
            "2           2  2016-10-03   57.42  19189500   MSFT\n",
            "3           3  2016-10-04  113.00  29736800   AAPL\n",
            "4           4  2016-10-04   57.24  20085900   MSFT\n",
            "5           5  2016-10-04   31.35  18460400   CSCO\n",
            "6           6  2016-10-05   57.64  16726400   MSFT\n",
            "7           7  2016-10-05   31.59  11808600   CSCO\n",
            "8           8  2016-10-05  113.05  21453100   AAPL\n"
          ],
          "name": "stdout"
        }
      ]
    },
    {
      "cell_type": "code",
      "metadata": {
        "id": "TZvrQskDcJz8",
        "colab_type": "code",
        "colab": {}
      },
      "source": [
        ""
      ],
      "execution_count": 0,
      "outputs": []
    }
  ]
}