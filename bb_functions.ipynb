{
  "nbformat": 4,
  "nbformat_minor": 0,
  "metadata": {
    "colab": {
      "name": "bb functions.ipynb",
      "provenance": [],
      "collapsed_sections": [],
      "authorship_tag": "ABX9TyPHG+6nkBZP8x/u5GzkmoL1",
      "include_colab_link": true
    },
    "kernelspec": {
      "name": "python3",
      "display_name": "Python 3"
    }
  },
  "cells": [
    {
      "cell_type": "markdown",
      "metadata": {
        "id": "view-in-github",
        "colab_type": "text"
      },
      "source": [
        "<a href=\"https://colab.research.google.com/github/ulrikSebastienR/Colab-python-diaries/blob/master/bb_functions.ipynb\" target=\"_parent\"><img src=\"https://colab.research.google.com/assets/colab-badge.svg\" alt=\"Open In Colab\"/></a>"
      ]
    },
    {
      "cell_type": "code",
      "metadata": {
        "id": "eSlFXXi5nW87",
        "colab_type": "code",
        "outputId": "c434ccae-2cbb-474a-8387-c0703d45bd9c",
        "colab": {
          "base_uri": "https://localhost:8080/",
          "height": 134
        }
      },
      "source": [
        "# Blackboard functions, arguments, parameters and keyworded arguments in python \n",
        "#https://www.geeksforgeeks.org/args-kwargs-python/\n",
        "#https://www.programiz.com/python-programming/function\n",
        "#https://treyhunner.com/2018/04/keyword-arguments-in-python/\n",
        "#https://note.nkmk.me/en/python-function-return-multiple-values/\n",
        "#https://note.nkmk.me/en/python-args-kwargs-usage/"
      ],
      "execution_count": 0,
      "outputs": [
        {
          "output_type": "error",
          "ename": "SyntaxError",
          "evalue": "ignored",
          "traceback": [
            "\u001b[0;36m  File \u001b[0;32m\"<ipython-input-62-21a4e45f1389>\"\u001b[0;36m, line \u001b[0;32m1\u001b[0m\n\u001b[0;31m    https://www.programiz.com/python-programming/function\u001b[0m\n\u001b[0m           ^\u001b[0m\n\u001b[0;31mSyntaxError\u001b[0m\u001b[0;31m:\u001b[0m invalid syntax\n"
          ]
        }
      ]
    },
    {
      "cell_type": "code",
      "metadata": {
        "id": "aL3ii8jjpt5J",
        "colab_type": "code",
        "colab": {}
      },
      "source": [
        "def function_name(parameters): # def marks the start of the function header\n",
        "  \"docstrings\"\n",
        "  statements\n",
        "  return values"
      ],
      "execution_count": 0,
      "outputs": []
    },
    {
      "cell_type": "code",
      "metadata": {
        "id": "mFFtlbFMHBW2",
        "colab_type": "code",
        "colab": {}
      },
      "source": [
        "#https://note.nkmk.me/en/python-args-kwargs-usage/"
      ],
      "execution_count": 0,
      "outputs": []
    },
    {
      "cell_type": "code",
      "metadata": {
        "id": "S-V_B1EQiC30",
        "colab_type": "code",
        "colab": {}
      },
      "source": [
        "def my_sum(*args):\n",
        "  product = \n",
        "  return sum(args),"
      ],
      "execution_count": 0,
      "outputs": []
    },
    {
      "cell_type": "code",
      "metadata": {
        "id": "trjB5BLxiDG0",
        "colab_type": "code",
        "outputId": "800b43bb-a721-434f-e4b2-6846885621a6",
        "colab": {
          "base_uri": "https://localhost:8080/",
          "height": 35
        }
      },
      "source": [
        "print(my_sum(1,2,3,4,4))"
      ],
      "execution_count": 0,
      "outputs": [
        {
          "output_type": "stream",
          "text": [
            "14\n"
          ],
          "name": "stdout"
        }
      ]
    },
    {
      "cell_type": "code",
      "metadata": {
        "id": "K2do7oj-qqyK",
        "colab_type": "code",
        "outputId": "bf45d9bc-0472-405c-9cc8-ca4a03c99f9f",
        "colab": {
          "base_uri": "https://localhost:8080/",
          "height": 55
        }
      },
      "source": [
        "import keyword\n",
        "print(keyword.kwlist)"
      ],
      "execution_count": 0,
      "outputs": [
        {
          "output_type": "stream",
          "text": [
            "['False', 'None', 'True', 'and', 'as', 'assert', 'break', 'class', 'continue', 'def', 'del', 'elif', 'else', 'except', 'finally', 'for', 'from', 'global', 'if', 'import', 'in', 'is', 'lambda', 'nonlocal', 'not', 'or', 'pass', 'raise', 'return', 'try', 'while', 'with', 'yield']\n"
          ],
          "name": "stdout"
        }
      ]
    },
    {
      "cell_type": "code",
      "metadata": {
        "id": "DeVYm7vDtg7J",
        "colab_type": "code",
        "outputId": "7c9765f0-406a-4fd6-ea06-788494f1b33b",
        "colab": {
          "base_uri": "https://localhost:8080/",
          "height": 1000
        }
      },
      "source": [
        "help(\"False\")"
      ],
      "execution_count": 0,
      "outputs": [
        {
          "output_type": "stream",
          "text": [
            "Help on bool object:\n",
            "\n",
            "class bool(int)\n",
            " |  bool(x) -> bool\n",
            " |  \n",
            " |  Returns True when the argument x is true, False otherwise.\n",
            " |  The builtins True and False are the only two instances of the class bool.\n",
            " |  The class bool is a subclass of the class int, and cannot be subclassed.\n",
            " |  \n",
            " |  Method resolution order:\n",
            " |      bool\n",
            " |      int\n",
            " |      object\n",
            " |  \n",
            " |  Methods defined here:\n",
            " |  \n",
            " |  __and__(self, value, /)\n",
            " |      Return self&value.\n",
            " |  \n",
            " |  __new__(*args, **kwargs) from builtins.type\n",
            " |      Create and return a new object.  See help(type) for accurate signature.\n",
            " |  \n",
            " |  __or__(self, value, /)\n",
            " |      Return self|value.\n",
            " |  \n",
            " |  __rand__(self, value, /)\n",
            " |      Return value&self.\n",
            " |  \n",
            " |  __repr__(self, /)\n",
            " |      Return repr(self).\n",
            " |  \n",
            " |  __ror__(self, value, /)\n",
            " |      Return value|self.\n",
            " |  \n",
            " |  __rxor__(self, value, /)\n",
            " |      Return value^self.\n",
            " |  \n",
            " |  __str__(self, /)\n",
            " |      Return str(self).\n",
            " |  \n",
            " |  __xor__(self, value, /)\n",
            " |      Return self^value.\n",
            " |  \n",
            " |  ----------------------------------------------------------------------\n",
            " |  Methods inherited from int:\n",
            " |  \n",
            " |  __abs__(self, /)\n",
            " |      abs(self)\n",
            " |  \n",
            " |  __add__(self, value, /)\n",
            " |      Return self+value.\n",
            " |  \n",
            " |  __bool__(self, /)\n",
            " |      self != 0\n",
            " |  \n",
            " |  __ceil__(...)\n",
            " |      Ceiling of an Integral returns itself.\n",
            " |  \n",
            " |  __divmod__(self, value, /)\n",
            " |      Return divmod(self, value).\n",
            " |  \n",
            " |  __eq__(self, value, /)\n",
            " |      Return self==value.\n",
            " |  \n",
            " |  __float__(self, /)\n",
            " |      float(self)\n",
            " |  \n",
            " |  __floor__(...)\n",
            " |      Flooring an Integral returns itself.\n",
            " |  \n",
            " |  __floordiv__(self, value, /)\n",
            " |      Return self//value.\n",
            " |  \n",
            " |  __format__(...)\n",
            " |      default object formatter\n",
            " |  \n",
            " |  __ge__(self, value, /)\n",
            " |      Return self>=value.\n",
            " |  \n",
            " |  __getattribute__(self, name, /)\n",
            " |      Return getattr(self, name).\n",
            " |  \n",
            " |  __getnewargs__(...)\n",
            " |  \n",
            " |  __gt__(self, value, /)\n",
            " |      Return self>value.\n",
            " |  \n",
            " |  __hash__(self, /)\n",
            " |      Return hash(self).\n",
            " |  \n",
            " |  __index__(self, /)\n",
            " |      Return self converted to an integer, if self is suitable for use as an index into a list.\n",
            " |  \n",
            " |  __int__(self, /)\n",
            " |      int(self)\n",
            " |  \n",
            " |  __invert__(self, /)\n",
            " |      ~self\n",
            " |  \n",
            " |  __le__(self, value, /)\n",
            " |      Return self<=value.\n",
            " |  \n",
            " |  __lshift__(self, value, /)\n",
            " |      Return self<<value.\n",
            " |  \n",
            " |  __lt__(self, value, /)\n",
            " |      Return self<value.\n",
            " |  \n",
            " |  __mod__(self, value, /)\n",
            " |      Return self%value.\n",
            " |  \n",
            " |  __mul__(self, value, /)\n",
            " |      Return self*value.\n",
            " |  \n",
            " |  __ne__(self, value, /)\n",
            " |      Return self!=value.\n",
            " |  \n",
            " |  __neg__(self, /)\n",
            " |      -self\n",
            " |  \n",
            " |  __pos__(self, /)\n",
            " |      +self\n",
            " |  \n",
            " |  __pow__(self, value, mod=None, /)\n",
            " |      Return pow(self, value, mod).\n",
            " |  \n",
            " |  __radd__(self, value, /)\n",
            " |      Return value+self.\n",
            " |  \n",
            " |  __rdivmod__(self, value, /)\n",
            " |      Return divmod(value, self).\n",
            " |  \n",
            " |  __rfloordiv__(self, value, /)\n",
            " |      Return value//self.\n",
            " |  \n",
            " |  __rlshift__(self, value, /)\n",
            " |      Return value<<self.\n",
            " |  \n",
            " |  __rmod__(self, value, /)\n",
            " |      Return value%self.\n",
            " |  \n",
            " |  __rmul__(self, value, /)\n",
            " |      Return value*self.\n",
            " |  \n",
            " |  __round__(...)\n",
            " |      Rounding an Integral returns itself.\n",
            " |      Rounding with an ndigits argument also returns an integer.\n",
            " |  \n",
            " |  __rpow__(self, value, mod=None, /)\n",
            " |      Return pow(value, self, mod).\n",
            " |  \n",
            " |  __rrshift__(self, value, /)\n",
            " |      Return value>>self.\n",
            " |  \n",
            " |  __rshift__(self, value, /)\n",
            " |      Return self>>value.\n",
            " |  \n",
            " |  __rsub__(self, value, /)\n",
            " |      Return value-self.\n",
            " |  \n",
            " |  __rtruediv__(self, value, /)\n",
            " |      Return value/self.\n",
            " |  \n",
            " |  __sizeof__(...)\n",
            " |      Returns size in memory, in bytes\n",
            " |  \n",
            " |  __sub__(self, value, /)\n",
            " |      Return self-value.\n",
            " |  \n",
            " |  __truediv__(self, value, /)\n",
            " |      Return self/value.\n",
            " |  \n",
            " |  __trunc__(...)\n",
            " |      Truncating an Integral returns itself.\n",
            " |  \n",
            " |  bit_length(...)\n",
            " |      int.bit_length() -> int\n",
            " |      \n",
            " |      Number of bits necessary to represent self in binary.\n",
            " |      >>> bin(37)\n",
            " |      '0b100101'\n",
            " |      >>> (37).bit_length()\n",
            " |      6\n",
            " |  \n",
            " |  conjugate(...)\n",
            " |      Returns self, the complex conjugate of any int.\n",
            " |  \n",
            " |  from_bytes(...) from builtins.type\n",
            " |      int.from_bytes(bytes, byteorder, *, signed=False) -> int\n",
            " |      \n",
            " |      Return the integer represented by the given array of bytes.\n",
            " |      \n",
            " |      The bytes argument must be a bytes-like object (e.g. bytes or bytearray).\n",
            " |      \n",
            " |      The byteorder argument determines the byte order used to represent the\n",
            " |      integer.  If byteorder is 'big', the most significant byte is at the\n",
            " |      beginning of the byte array.  If byteorder is 'little', the most\n",
            " |      significant byte is at the end of the byte array.  To request the native\n",
            " |      byte order of the host system, use `sys.byteorder' as the byte order value.\n",
            " |      \n",
            " |      The signed keyword-only argument indicates whether two's complement is\n",
            " |      used to represent the integer.\n",
            " |  \n",
            " |  to_bytes(...)\n",
            " |      int.to_bytes(length, byteorder, *, signed=False) -> bytes\n",
            " |      \n",
            " |      Return an array of bytes representing an integer.\n",
            " |      \n",
            " |      The integer is represented using length bytes.  An OverflowError is\n",
            " |      raised if the integer is not representable with the given number of\n",
            " |      bytes.\n",
            " |      \n",
            " |      The byteorder argument determines the byte order used to represent the\n",
            " |      integer.  If byteorder is 'big', the most significant byte is at the\n",
            " |      beginning of the byte array.  If byteorder is 'little', the most\n",
            " |      significant byte is at the end of the byte array.  To request the native\n",
            " |      byte order of the host system, use `sys.byteorder' as the byte order value.\n",
            " |      \n",
            " |      The signed keyword-only argument determines whether two's complement is\n",
            " |      used to represent the integer.  If signed is False and a negative integer\n",
            " |      is given, an OverflowError is raised.\n",
            " |  \n",
            " |  ----------------------------------------------------------------------\n",
            " |  Data descriptors inherited from int:\n",
            " |  \n",
            " |  denominator\n",
            " |      the denominator of a rational number in lowest terms\n",
            " |  \n",
            " |  imag\n",
            " |      the imaginary part of a complex number\n",
            " |  \n",
            " |  numerator\n",
            " |      the numerator of a rational number in lowest terms\n",
            " |  \n",
            " |  real\n",
            " |      the real part of a complex number\n",
            "\n"
          ],
          "name": "stdout"
        }
      ]
    },
    {
      "cell_type": "code",
      "metadata": {
        "id": "wgu89TAstssS",
        "colab_type": "code",
        "outputId": "20d120bc-2ca2-4d66-ce83-0fbd24bbef76",
        "colab": {
          "base_uri": "https://localhost:8080/",
          "height": 380
        }
      },
      "source": [
        "#help()"
      ],
      "execution_count": 0,
      "outputs": [
        {
          "output_type": "stream",
          "text": [
            "\n",
            "Welcome to Python 3.6's help utility!\n",
            "\n",
            "If this is your first time using Python, you should definitely check out\n",
            "the tutorial on the Internet at https://docs.python.org/3.6/tutorial/.\n",
            "\n",
            "Enter the name of any module, keyword, or topic to get help on writing\n",
            "Python programs and using Python modules.  To quit this help utility and\n",
            "return to the interpreter, just type \"quit\".\n",
            "\n",
            "To get a list of available modules, keywords, symbols, or topics, type\n",
            "\"modules\", \"keywords\", \"symbols\", or \"topics\".  Each module also comes\n",
            "with a one-line summary of what it does; to list the modules whose name\n",
            "or summary contain a given string such as \"spam\", type \"modules spam\".\n",
            "\n",
            "\n",
            "You are now leaving help and returning to the Python interpreter.\n",
            "If you want to ask for help on a particular object directly from the\n",
            "interpreter, you can type \"help(object)\".  Executing \"help('string')\"\n",
            "has the same effect as typing a particular string at the help> prompt.\n"
          ],
          "name": "stdout"
        }
      ]
    },
    {
      "cell_type": "code",
      "metadata": {
        "id": "4mPykW3xuK44",
        "colab_type": "code",
        "outputId": "7635c208-7980-4831-c373-b3d8a1db2fb7",
        "colab": {
          "base_uri": "https://localhost:8080/",
          "height": 35
        }
      },
      "source": [
        "1 == 1"
      ],
      "execution_count": 0,
      "outputs": [
        {
          "output_type": "execute_result",
          "data": {
            "text/plain": [
              "True"
            ]
          },
          "metadata": {
            "tags": []
          },
          "execution_count": 66
        }
      ]
    },
    {
      "cell_type": "code",
      "metadata": {
        "id": "JCh4RPSMvAIX",
        "colab_type": "code",
        "outputId": "1ddf1917-b2fe-42cd-a984-229520e202a6",
        "colab": {
          "base_uri": "https://localhost:8080/",
          "height": 35
        }
      },
      "source": [
        "3 > 2"
      ],
      "execution_count": 0,
      "outputs": [
        {
          "output_type": "execute_result",
          "data": {
            "text/plain": [
              "True"
            ]
          },
          "metadata": {
            "tags": []
          },
          "execution_count": 67
        }
      ]
    },
    {
      "cell_type": "code",
      "metadata": {
        "id": "RNng0VAnvQTT",
        "colab_type": "code",
        "outputId": "99ac5bf6-3ff1-4a58-d3aa-a2219c837c35",
        "colab": {
          "base_uri": "https://localhost:8080/",
          "height": 35
        }
      },
      "source": [
        "2 > 3"
      ],
      "execution_count": 0,
      "outputs": [
        {
          "output_type": "execute_result",
          "data": {
            "text/plain": [
              "False"
            ]
          },
          "metadata": {
            "tags": []
          },
          "execution_count": 68
        }
      ]
    },
    {
      "cell_type": "code",
      "metadata": {
        "id": "QI0-JuLLvSTR",
        "colab_type": "code",
        "outputId": "42b36037-4da6-4281-8822-6d6a3ce1ffbf",
        "colab": {
          "base_uri": "https://localhost:8080/",
          "height": 35
        }
      },
      "source": [
        "3*2"
      ],
      "execution_count": 0,
      "outputs": [
        {
          "output_type": "execute_result",
          "data": {
            "text/plain": [
              "6"
            ]
          },
          "metadata": {
            "tags": []
          },
          "execution_count": 69
        }
      ]
    },
    {
      "cell_type": "code",
      "metadata": {
        "id": "-58PzUWrvUkg",
        "colab_type": "code",
        "outputId": "8551c94f-8aeb-4ed7-c6ce-f9885de81afd",
        "colab": {
          "base_uri": "https://localhost:8080/",
          "height": 35
        }
      },
      "source": [
        "3**2"
      ],
      "execution_count": 0,
      "outputs": [
        {
          "output_type": "execute_result",
          "data": {
            "text/plain": [
              "9"
            ]
          },
          "metadata": {
            "tags": []
          },
          "execution_count": 70
        }
      ]
    },
    {
      "cell_type": "code",
      "metadata": {
        "id": "Gq3wykUmvdQf",
        "colab_type": "code",
        "outputId": "91662417-9d6f-476d-e57b-77226300cf8f",
        "colab": {
          "base_uri": "https://localhost:8080/",
          "height": 35
        }
      },
      "source": [
        "4>= 3"
      ],
      "execution_count": 0,
      "outputs": [
        {
          "output_type": "execute_result",
          "data": {
            "text/plain": [
              "True"
            ]
          },
          "metadata": {
            "tags": []
          },
          "execution_count": 71
        }
      ]
    },
    {
      "cell_type": "code",
      "metadata": {
        "id": "tgz_USOKvf4p",
        "colab_type": "code",
        "outputId": "b6732d97-9f9a-4db2-fae3-25c084cb44b0",
        "colab": {
          "base_uri": "https://localhost:8080/",
          "height": 35
        }
      },
      "source": [
        "5<=6"
      ],
      "execution_count": 0,
      "outputs": [
        {
          "output_type": "execute_result",
          "data": {
            "text/plain": [
              "True"
            ]
          },
          "metadata": {
            "tags": []
          },
          "execution_count": 72
        }
      ]
    },
    {
      "cell_type": "code",
      "metadata": {
        "id": "-sZnz5XTwLuK",
        "colab_type": "code",
        "outputId": "44faac03-836c-4626-c0bc-88865ac877ab",
        "colab": {
          "base_uri": "https://localhost:8080/",
          "height": 35
        }
      },
      "source": [
        "True == 0"
      ],
      "execution_count": 0,
      "outputs": [
        {
          "output_type": "execute_result",
          "data": {
            "text/plain": [
              "False"
            ]
          },
          "metadata": {
            "tags": []
          },
          "execution_count": 73
        }
      ]
    },
    {
      "cell_type": "code",
      "metadata": {
        "id": "kY49w9gswZ9h",
        "colab_type": "code",
        "outputId": "988b5718-796c-42ac-dd0b-21be5cd7414b",
        "colab": {
          "base_uri": "https://localhost:8080/",
          "height": 35
        }
      },
      "source": [
        "False == 1\n"
      ],
      "execution_count": 0,
      "outputs": [
        {
          "output_type": "execute_result",
          "data": {
            "text/plain": [
              "False"
            ]
          },
          "metadata": {
            "tags": []
          },
          "execution_count": 74
        }
      ]
    },
    {
      "cell_type": "code",
      "metadata": {
        "id": "o66oihu3wb2-",
        "colab_type": "code",
        "outputId": "cd8df72a-d21e-40c2-fa34-2fec0220059c",
        "colab": {
          "base_uri": "https://localhost:8080/",
          "height": 35
        }
      },
      "source": [
        "print(True)"
      ],
      "execution_count": 0,
      "outputs": [
        {
          "output_type": "stream",
          "text": [
            "True\n"
          ],
          "name": "stdout"
        }
      ]
    },
    {
      "cell_type": "code",
      "metadata": {
        "id": "7btHRqH4wdu-",
        "colab_type": "code",
        "outputId": "1e8981ad-4d1e-4bd0-cf1a-2d81f01dfd12",
        "colab": {
          "base_uri": "https://localhost:8080/",
          "height": 35
        }
      },
      "source": [
        "True == 1"
      ],
      "execution_count": 0,
      "outputs": [
        {
          "output_type": "execute_result",
          "data": {
            "text/plain": [
              "True"
            ]
          },
          "metadata": {
            "tags": []
          },
          "execution_count": 76
        }
      ]
    },
    {
      "cell_type": "code",
      "metadata": {
        "id": "9DjVijvJwiWL",
        "colab_type": "code",
        "outputId": "31beaf8a-614e-4cf9-8aa6-544fbcaadd25",
        "colab": {
          "base_uri": "https://localhost:8080/",
          "height": 35
        }
      },
      "source": [
        "False == 0"
      ],
      "execution_count": 0,
      "outputs": [
        {
          "output_type": "execute_result",
          "data": {
            "text/plain": [
              "True"
            ]
          },
          "metadata": {
            "tags": []
          },
          "execution_count": 77
        }
      ]
    },
    {
      "cell_type": "code",
      "metadata": {
        "id": "bIdyt7MuwkEZ",
        "colab_type": "code",
        "outputId": "46994615-4f57-4924-d76a-afc3ac280904",
        "colab": {
          "base_uri": "https://localhost:8080/",
          "height": 35
        }
      },
      "source": [
        "True + True"
      ],
      "execution_count": 0,
      "outputs": [
        {
          "output_type": "execute_result",
          "data": {
            "text/plain": [
              "2"
            ]
          },
          "metadata": {
            "tags": []
          },
          "execution_count": 78
        }
      ]
    },
    {
      "cell_type": "code",
      "metadata": {
        "id": "GOlxaBT8wnCM",
        "colab_type": "code",
        "outputId": "53f05b3e-97e2-4c04-8d18-bd197f4dc82a",
        "colab": {
          "base_uri": "https://localhost:8080/",
          "height": 35
        }
      },
      "source": [
        "True - True"
      ],
      "execution_count": 0,
      "outputs": [
        {
          "output_type": "execute_result",
          "data": {
            "text/plain": [
              "0"
            ]
          },
          "metadata": {
            "tags": []
          },
          "execution_count": 79
        }
      ]
    },
    {
      "cell_type": "code",
      "metadata": {
        "id": "x7h2wOxlwpZl",
        "colab_type": "code",
        "outputId": "610e7c90-e729-4d80-8b99-ce0f24feeeea",
        "colab": {
          "base_uri": "https://localhost:8080/",
          "height": 35
        }
      },
      "source": [
        "False - True"
      ],
      "execution_count": 0,
      "outputs": [
        {
          "output_type": "execute_result",
          "data": {
            "text/plain": [
              "-1"
            ]
          },
          "metadata": {
            "tags": []
          },
          "execution_count": 80
        }
      ]
    },
    {
      "cell_type": "code",
      "metadata": {
        "id": "fsyXjDL0wsYp",
        "colab_type": "code",
        "outputId": "14f8e41e-c58c-464a-9b5d-139f12f2a648",
        "colab": {
          "base_uri": "https://localhost:8080/",
          "height": 35
        }
      },
      "source": [
        "True - False"
      ],
      "execution_count": 0,
      "outputs": [
        {
          "output_type": "execute_result",
          "data": {
            "text/plain": [
              "1"
            ]
          },
          "metadata": {
            "tags": []
          },
          "execution_count": 81
        }
      ]
    },
    {
      "cell_type": "code",
      "metadata": {
        "id": "hXKGzfQVwvF6",
        "colab_type": "code",
        "outputId": "fa3d60a7-aeb9-445b-ff57-17c3d5be630a",
        "colab": {
          "base_uri": "https://localhost:8080/",
          "height": 35
        }
      },
      "source": [
        "None == True"
      ],
      "execution_count": 0,
      "outputs": [
        {
          "output_type": "execute_result",
          "data": {
            "text/plain": [
              "False"
            ]
          },
          "metadata": {
            "tags": []
          },
          "execution_count": 82
        }
      ]
    },
    {
      "cell_type": "code",
      "metadata": {
        "id": "qHvkcvVfxeos",
        "colab_type": "code",
        "outputId": "bee5c3a9-81b4-4403-d4dc-2250e392dd83",
        "colab": {
          "base_uri": "https://localhost:8080/",
          "height": 35
        }
      },
      "source": [
        "None == False"
      ],
      "execution_count": 0,
      "outputs": [
        {
          "output_type": "execute_result",
          "data": {
            "text/plain": [
              "False"
            ]
          },
          "metadata": {
            "tags": []
          },
          "execution_count": 83
        }
      ]
    },
    {
      "cell_type": "code",
      "metadata": {
        "id": "sbwBoqdhxkWk",
        "colab_type": "code",
        "outputId": "30e9cf8f-67e9-4cee-f86d-3dc27428c754",
        "colab": {
          "base_uri": "https://localhost:8080/",
          "height": 171
        }
      },
      "source": [
        "None > True"
      ],
      "execution_count": 0,
      "outputs": [
        {
          "output_type": "error",
          "ename": "TypeError",
          "evalue": "ignored",
          "traceback": [
            "\u001b[0;31m---------------------------------------------------------------------------\u001b[0m",
            "\u001b[0;31mTypeError\u001b[0m                                 Traceback (most recent call last)",
            "\u001b[0;32m<ipython-input-84-503423f78bf7>\u001b[0m in \u001b[0;36m<module>\u001b[0;34m()\u001b[0m\n\u001b[0;32m----> 1\u001b[0;31m \u001b[0;32mNone\u001b[0m \u001b[0;34m>\u001b[0m \u001b[0;32mTrue\u001b[0m\u001b[0;34m\u001b[0m\u001b[0;34m\u001b[0m\u001b[0m\n\u001b[0m",
            "\u001b[0;31mTypeError\u001b[0m: '>' not supported between instances of 'NoneType' and 'bool'"
          ]
        }
      ]
    },
    {
      "cell_type": "code",
      "metadata": {
        "id": "-RukeoQ2xm4p",
        "colab_type": "code",
        "colab": {}
      },
      "source": [
        "None == None"
      ],
      "execution_count": 0,
      "outputs": []
    },
    {
      "cell_type": "code",
      "metadata": {
        "id": "Rlkqe8g4xrkG",
        "colab_type": "code",
        "colab": {}
      },
      "source": [
        "# a function that does not return anything returns none by default."
      ],
      "execution_count": 0,
      "outputs": []
    },
    {
      "cell_type": "code",
      "metadata": {
        "id": "va5DfqEzx1ul",
        "colab_type": "code",
        "colab": {}
      },
      "source": [
        "def a_void_function(a,b,c,d): \n",
        "  a = 1\n",
        "  b = 2\n",
        "  c = a\n",
        "  d = b\n",
        "  print(a,b,c,d)\n",
        "#print(a,b,c,d)\n",
        "  "
      ],
      "execution_count": 0,
      "outputs": []
    },
    {
      "cell_type": "code",
      "metadata": {
        "id": "U4PRhmLg5uAZ",
        "colab_type": "code",
        "colab": {}
      },
      "source": [
        "def operations(a,b,c,d):\n",
        "  x = a + b\n",
        "  y = c + d\n",
        "  return(x,y)\n",
        "  \n"
      ],
      "execution_count": 0,
      "outputs": []
    },
    {
      "cell_type": "code",
      "metadata": {
        "id": "VQRHyGzp4-mY",
        "colab_type": "code",
        "colab": {}
      },
      "source": [
        "operations(1,2,3,4)"
      ],
      "execution_count": 0,
      "outputs": []
    },
    {
      "cell_type": "code",
      "metadata": {
        "id": "SkAvsJ2o5BFJ",
        "colab_type": "code",
        "colab": {}
      },
      "source": [
        "print(operations(5,6,7,8))"
      ],
      "execution_count": 0,
      "outputs": []
    },
    {
      "cell_type": "code",
      "metadata": {
        "id": "bHuKvZz-7BER",
        "colab_type": "code",
        "colab": {}
      },
      "source": [
        "def roi(interest,principal,time_years):\n",
        "  return_on_investment = 100*interest/(principal*time_years)\n",
        "  return return_on_investment"
      ],
      "execution_count": 0,
      "outputs": []
    },
    {
      "cell_type": "code",
      "metadata": {
        "id": "9_dYDarG7nHJ",
        "colab_type": "code",
        "colab": {}
      },
      "source": [
        "print(roi(32,1000,2))"
      ],
      "execution_count": 0,
      "outputs": []
    },
    {
      "cell_type": "code",
      "metadata": {
        "id": "mnP8f0Kc7t39",
        "colab_type": "code",
        "colab": {}
      },
      "source": [
        "print(\"Your return on investment is\", roi(33,100,5), \"in percentage\", \"of your amount invested\", sep='            ')"
      ],
      "execution_count": 0,
      "outputs": []
    },
    {
      "cell_type": "code",
      "metadata": {
        "id": "KG9jkY0fewov",
        "colab_type": "code",
        "colab": {}
      },
      "source": [
        "#https://note.nkmk.me/en/python-function-return-multiple-values/\n",
        "How to return multiple values from a function in Python "
      ],
      "execution_count": 0,
      "outputs": []
    },
    {
      "cell_type": "code",
      "metadata": {
        "id": "XzX7IN2Jfjx0",
        "colab_type": "code",
        "colab": {}
      },
      "source": [
        "def test():\n",
        "  return 'abc', 100"
      ],
      "execution_count": 0,
      "outputs": []
    },
    {
      "cell_type": "code",
      "metadata": {
        "id": "_3XRks7gfqKe",
        "colab_type": "code",
        "colab": {}
      },
      "source": [
        "result = test()"
      ],
      "execution_count": 0,
      "outputs": []
    },
    {
      "cell_type": "code",
      "metadata": {
        "id": "pbiPDAGMfwm5",
        "colab_type": "code",
        "outputId": "e9e529b4-7f7b-43be-9ee0-d0108d527849",
        "colab": {
          "base_uri": "https://localhost:8080/",
          "height": 53
        }
      },
      "source": [
        "print(result)\n",
        "print(type(result))"
      ],
      "execution_count": 0,
      "outputs": [
        {
          "output_type": "stream",
          "text": [
            "('abc', 100)\n",
            "<class 'tuple'>\n"
          ],
          "name": "stdout"
        }
      ]
    },
    {
      "cell_type": "code",
      "metadata": {
        "id": "wmvFC8Gofwr5",
        "colab_type": "code",
        "outputId": "e3e9a78a-3f89-4266-b253-610ee41d74a8",
        "colab": {
          "base_uri": "https://localhost:8080/",
          "height": 53
        }
      },
      "source": [
        "print(result[0])\n",
        "print(type(result[0]))"
      ],
      "execution_count": 0,
      "outputs": [
        {
          "output_type": "stream",
          "text": [
            "abc\n",
            "<class 'str'>\n"
          ],
          "name": "stdout"
        }
      ]
    },
    {
      "cell_type": "code",
      "metadata": {
        "id": "aAGtu_KAfw1R",
        "colab_type": "code",
        "outputId": "223b2be3-96be-44c3-8f42-2023e7cee297",
        "colab": {
          "base_uri": "https://localhost:8080/",
          "height": 53
        }
      },
      "source": [
        "print(result[1])\n",
        "print(type(result[1]))"
      ],
      "execution_count": 0,
      "outputs": [
        {
          "output_type": "stream",
          "text": [
            "100\n",
            "<class 'int'>\n"
          ],
          "name": "stdout"
        }
      ]
    },
    {
      "cell_type": "code",
      "metadata": {
        "id": "KlbBRBrQ8CQH",
        "colab_type": "code",
        "colab": {}
      },
      "source": [
        "def roi(interest, principal, time): # taking values from user directly into the function\n",
        "  if 12< time <= 31: #time will be in months if time <31\n",
        "    rate_of_interest = interest*1200/(principal*time)\n",
        "    rate_per_annum = rate_of_interest*12/time\n",
        "  elif time <= 12: #time will be in years if time <12\n",
        "    rate_of_interest = interest*100/(principal*time)\n",
        "    rate_per_annum = rate_of_interest\n",
        "  elif time > 31:\n",
        "    rate_of_interest = interest*36500/(principal*time) #time will be in days if time >31\n",
        "    rate_per_annum = rate_of_interest*365/time \n",
        "  return rate_of_interest, rate_per_annum"
      ],
      "execution_count": 0,
      "outputs": []
    },
    {
      "cell_type": "code",
      "metadata": {
        "id": "kWt4uiHNSbrC",
        "colab_type": "code",
        "outputId": "6cab765d-c53f-4e5a-ee67-670546deb62f",
        "colab": {
          "base_uri": "https://localhost:8080/",
          "height": 72
        }
      },
      "source": [
        "r1,r2 = roi(interest,principal,time) # separate out the return values of a function\n",
        "print(r1)\n",
        "print(type(r1))\n",
        "print(r2)"
      ],
      "execution_count": 0,
      "outputs": [
        {
          "output_type": "stream",
          "text": [
            "406.6576086956522\n",
            "<class 'float'>\n",
            "4638.438349184783\n"
          ],
          "name": "stdout"
        }
      ]
    },
    {
      "cell_type": "code",
      "metadata": {
        "id": "0EsBvizHpgCY",
        "colab_type": "code",
        "outputId": "ded65df7-e037-46fa-c036-ca23f4d24e4e",
        "colab": {
          "base_uri": "https://localhost:8080/",
          "height": 189
        }
      },
      "source": [
        "r1,r2 = x\n",
        "print(r1)"
      ],
      "execution_count": 0,
      "outputs": [
        {
          "output_type": "error",
          "ename": "TypeError",
          "evalue": "ignored",
          "traceback": [
            "\u001b[0;31m---------------------------------------------------------------------------\u001b[0m",
            "\u001b[0;31mTypeError\u001b[0m                                 Traceback (most recent call last)",
            "\u001b[0;32m<ipython-input-128-27f3d5e701cd>\u001b[0m in \u001b[0;36m<module>\u001b[0;34m()\u001b[0m\n\u001b[0;32m----> 1\u001b[0;31m \u001b[0mr1\u001b[0m \u001b[0;34m=\u001b[0m \u001b[0mx\u001b[0m\u001b[0;34m(\u001b[0m\u001b[0;36m0\u001b[0m\u001b[0;34m)\u001b[0m\u001b[0;34m\u001b[0m\u001b[0;34m\u001b[0m\u001b[0m\n\u001b[0m\u001b[1;32m      2\u001b[0m \u001b[0mprint\u001b[0m\u001b[0;34m(\u001b[0m\u001b[0mr1\u001b[0m\u001b[0;34m)\u001b[0m\u001b[0;34m\u001b[0m\u001b[0;34m\u001b[0m\u001b[0m\n",
            "\u001b[0;31mTypeError\u001b[0m: 'tuple' object is not callable"
          ]
        }
      ]
    },
    {
      "cell_type": "code",
      "metadata": {
        "id": "imbqoVgpKiIu",
        "colab_type": "code",
        "outputId": "56b33d4b-1032-406f-b174-f2365a125cb3",
        "colab": {
          "base_uri": "https://localhost:8080/",
          "height": 72
        }
      },
      "source": [
        "interest = int(input(\"enter the interest received by you\"))\n",
        "principal = int(input(\"enter the amount you invested\"))\n",
        "time = int(input(\"enter the duration you invested for\"))"
      ],
      "execution_count": 0,
      "outputs": [
        {
          "output_type": "stream",
          "text": [
            "enter the interest received by you120\n",
            "enter the amount you invested1440\n",
            "enter the duration you invested for10\n"
          ],
          "name": "stdout"
        }
      ]
    },
    {
      "cell_type": "code",
      "metadata": {
        "id": "BAITPcD_R6sa",
        "colab_type": "code",
        "outputId": "a5824a87-2c59-4406-c079-67b534af0c03",
        "colab": {
          "base_uri": "https://localhost:8080/",
          "height": 90
        }
      },
      "source": [
        "print(roi(interest, principal, time))\n",
        "print(type(roi(interest, principal, time)))\n",
        "#print(roi[0])won't work TypeError: 'function' object is not subscriptable\n",
        "r1, r2 = roi(interest, principal, time)\n",
        "print(r1) # separate out the return values of a function\n",
        "print(r2)"
      ],
      "execution_count": 0,
      "outputs": [
        {
          "output_type": "stream",
          "text": [
            "(0.8333333333333334, 0.8333333333333334)\n",
            "<class 'tuple'>\n",
            "0.8333333333333334\n",
            "0.8333333333333334\n"
          ],
          "name": "stdout"
        }
      ]
    },
    {
      "cell_type": "code",
      "metadata": {
        "id": "Kf-g6jWzIf-N",
        "colab_type": "code",
        "outputId": "e35492e8-3fe7-469d-ca3d-6b400eb152f1",
        "colab": {
          "base_uri": "https://localhost:8080/",
          "height": 35
        }
      },
      "source": [
        "print(\"The Rate of return on your investment is\", r1, \"percent\", \"and annually it is\", r2,  \"per annum\",  sep = ' ')"
      ],
      "execution_count": 0,
      "outputs": [
        {
          "output_type": "stream",
          "text": [
            "The Rate of return on your investment is 0.8333333333333334 percent and annually it is 0.8333333333333334 per annum\n"
          ],
          "name": "stdout"
        }
      ]
    },
    {
      "cell_type": "code",
      "metadata": {
        "id": "_LJ-dGywJ1EK",
        "colab_type": "code",
        "outputId": "5862b427-9786-4489-8025-b7e6387572c1",
        "colab": {
          "base_uri": "https://localhost:8080/",
          "height": 35
        }
      },
      "source": [
        "def greet():\n",
        "  print"
      ],
      "execution_count": 0,
      "outputs": [
        {
          "output_type": "execute_result",
          "data": {
            "text/plain": [
              "36.0"
            ]
          },
          "metadata": {
            "tags": []
          },
          "execution_count": 93
        }
      ]
    },
    {
      "cell_type": "code",
      "metadata": {
        "id": "sPDnin8SKHHu",
        "colab_type": "code",
        "colab": {}
      },
      "source": [
        ""
      ],
      "execution_count": 0,
      "outputs": []
    }
  ]
}