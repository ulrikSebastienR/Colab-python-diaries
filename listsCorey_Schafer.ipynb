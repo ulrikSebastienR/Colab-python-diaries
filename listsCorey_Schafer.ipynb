{
  "nbformat": 4,
  "nbformat_minor": 0,
  "metadata": {
    "colab": {
      "name": "listsCorey Schafer.ipynb",
      "provenance": [],
      "collapsed_sections": [],
      "authorship_tag": "ABX9TyONqkVkjnbuoyMB1jeF9szR",
      "include_colab_link": true
    },
    "kernelspec": {
      "name": "python3",
      "display_name": "Python 3"
    }
  },
  "cells": [
    {
      "cell_type": "markdown",
      "metadata": {
        "id": "view-in-github",
        "colab_type": "text"
      },
      "source": [
        "<a href=\"https://colab.research.google.com/github/ulrikSebastienR/Colab-python-diaries/blob/master/listsCorey_Schafer.ipynb\" target=\"_parent\"><img src=\"https://colab.research.google.com/assets/colab-badge.svg\" alt=\"Open In Colab\"/></a>"
      ]
    },
    {
      "cell_type": "code",
      "metadata": {
        "id": "wUhehV1Df-1h",
        "colab_type": "code",
        "colab": {}
      },
      "source": [
        "#Python Tutorial for Beginners 4: Lists, Tuples, and Sets"
      ],
      "execution_count": 0,
      "outputs": []
    },
    {
      "cell_type": "code",
      "metadata": {
        "id": "1cJ03I07gXJz",
        "colab_type": "code",
        "colab": {}
      },
      "source": [
        "#https://www.youtube.com/watch?v=W8KRzm-HUcc, list always by square brackets,"
      ],
      "execution_count": 0,
      "outputs": []
    },
    {
      "cell_type": "code",
      "metadata": {
        "id": "QSSIzdmaga76",
        "colab_type": "code",
        "colab": {}
      },
      "source": [
        "course = ['history', 'math', 'physics', 'CompSci']"
      ],
      "execution_count": 0,
      "outputs": []
    },
    {
      "cell_type": "code",
      "metadata": {
        "id": "0DAio3Hfg5KA",
        "colab_type": "code",
        "colab": {
          "base_uri": "https://localhost:8080/",
          "height": 35
        },
        "outputId": "2b9d042c-62cf-4736-ca17-bfe963b935bb"
      },
      "source": [
        "print(course)"
      ],
      "execution_count": 4,
      "outputs": [
        {
          "output_type": "stream",
          "text": [
            "['history', 'math', 'physics', 'CompSci']\n"
          ],
          "name": "stdout"
        }
      ]
    },
    {
      "cell_type": "code",
      "metadata": {
        "id": "9AsyipDSg8MX",
        "colab_type": "code",
        "colab": {
          "base_uri": "https://localhost:8080/",
          "height": 35
        },
        "outputId": "d44f86a7-45e2-42dc-f7ed-7f92dc72eb4d"
      },
      "source": [
        "print(len(course))"
      ],
      "execution_count": 5,
      "outputs": [
        {
          "output_type": "stream",
          "text": [
            "4\n"
          ],
          "name": "stdout"
        }
      ]
    },
    {
      "cell_type": "code",
      "metadata": {
        "id": "ClgjrEg2g_lM",
        "colab_type": "code",
        "colab": {}
      },
      "source": [
        "course1 = course[0]"
      ],
      "execution_count": 0,
      "outputs": []
    },
    {
      "cell_type": "code",
      "metadata": {
        "id": "otwLrlwKhElV",
        "colab_type": "code",
        "colab": {
          "base_uri": "https://localhost:8080/",
          "height": 35
        },
        "outputId": "e93fb231-d75e-4b9d-fb03-3125bc065785"
      },
      "source": [
        "print(course1)"
      ],
      "execution_count": 10,
      "outputs": [
        {
          "output_type": "stream",
          "text": [
            "history\n"
          ],
          "name": "stdout"
        }
      ]
    },
    {
      "cell_type": "code",
      "metadata": {
        "id": "MvKIaj1XhaLF",
        "colab_type": "code",
        "colab": {
          "base_uri": "https://localhost:8080/",
          "height": 35
        },
        "outputId": "704cd70a-1850-4279-be4f-d27e8b4f45f2"
      },
      "source": [
        "print(course[0])"
      ],
      "execution_count": 11,
      "outputs": [
        {
          "output_type": "stream",
          "text": [
            "history\n"
          ],
          "name": "stdout"
        }
      ]
    },
    {
      "cell_type": "code",
      "metadata": {
        "id": "CQbNpAFAhfRe",
        "colab_type": "code",
        "colab": {
          "base_uri": "https://localhost:8080/",
          "height": 35
        },
        "outputId": "5c40c87e-a7d9-4d28-ca74-ce2f13c33876"
      },
      "source": [
        "print(course[1:])"
      ],
      "execution_count": 12,
      "outputs": [
        {
          "output_type": "stream",
          "text": [
            "['math', 'physics', 'CompSci']\n"
          ],
          "name": "stdout"
        }
      ]
    },
    {
      "cell_type": "code",
      "metadata": {
        "id": "5lt0PKKBhl9I",
        "colab_type": "code",
        "colab": {
          "base_uri": "https://localhost:8080/",
          "height": 35
        },
        "outputId": "550747b8-ba76-4dc0-8a86-49d92a4c626c"
      },
      "source": [
        "print(course[0:-1])"
      ],
      "execution_count": 13,
      "outputs": [
        {
          "output_type": "stream",
          "text": [
            "['history', 'math', 'physics']\n"
          ],
          "name": "stdout"
        }
      ]
    },
    {
      "cell_type": "code",
      "metadata": {
        "id": "VbrLxHG2hxJQ",
        "colab_type": "code",
        "colab": {
          "base_uri": "https://localhost:8080/",
          "height": 90
        },
        "outputId": "53f3e301-7d11-48da-cfe3-01635c322691"
      },
      "source": [
        "for subject in range(len(course)):\n",
        "  print(subject)\n",
        "  "
      ],
      "execution_count": 17,
      "outputs": [
        {
          "output_type": "stream",
          "text": [
            "0\n",
            "1\n",
            "2\n",
            "3\n"
          ],
          "name": "stdout"
        }
      ]
    },
    {
      "cell_type": "code",
      "metadata": {
        "id": "4nEnwMX_h_UB",
        "colab_type": "code",
        "colab": {}
      },
      "source": [
        "# note that the variable we introduced subject is treated as a loop index and hence an integer."
      ],
      "execution_count": 0,
      "outputs": []
    },
    {
      "cell_type": "code",
      "metadata": {
        "id": "XW5hNqwNirP3",
        "colab_type": "code",
        "colab": {
          "base_uri": "https://localhost:8080/",
          "height": 90
        },
        "outputId": "01a3aa1d-983f-4986-cbe8-a447c6af3cf0"
      },
      "source": [
        "for subject in range(len(course)):\n",
        "    print(course[subject])"
      ],
      "execution_count": 19,
      "outputs": [
        {
          "output_type": "stream",
          "text": [
            "history\n",
            "math\n",
            "physics\n",
            "CompSci\n"
          ],
          "name": "stdout"
        }
      ]
    },
    {
      "cell_type": "code",
      "metadata": {
        "id": "Os12_Arqi2xD",
        "colab_type": "code",
        "colab": {
          "base_uri": "https://localhost:8080/",
          "height": 90
        },
        "outputId": "0284d588-3373-43f9-f2c3-35f7cbb61648"
      },
      "source": [
        "for subject in range(len(course)):\n",
        "  print(\"The course stored at index\", subject, \"is\", \"course[subject]\" )"
      ],
      "execution_count": 20,
      "outputs": [
        {
          "output_type": "stream",
          "text": [
            "The course stored at index 0 is course[subject]\n",
            "The course stored at index 1 is course[subject]\n",
            "The course stored at index 2 is course[subject]\n",
            "The course stored at index 3 is course[subject]\n"
          ],
          "name": "stdout"
        }
      ]
    },
    {
      "cell_type": "code",
      "metadata": {
        "id": "vErbpmSVjORE",
        "colab_type": "code",
        "colab": {}
      },
      "source": [
        "#By mistake we printed out a string course[subject]"
      ],
      "execution_count": 0,
      "outputs": []
    },
    {
      "cell_type": "code",
      "metadata": {
        "id": "Nabj4OyTjdUj",
        "colab_type": "code",
        "colab": {
          "base_uri": "https://localhost:8080/",
          "height": 90
        },
        "outputId": "0b5d195f-536c-41ff-cc83-ffe05d3ffb9d"
      },
      "source": [
        "for subject in range(len(course)):\n",
        "  print('The course stored at index', subject, \"is\", course[subject])"
      ],
      "execution_count": 22,
      "outputs": [
        {
          "output_type": "stream",
          "text": [
            "The course stored at index 0 is history\n",
            "The course stored at index 1 is math\n",
            "The course stored at index 2 is physics\n",
            "The course stored at index 3 is CompSci\n"
          ],
          "name": "stdout"
        }
      ]
    },
    {
      "cell_type": "code",
      "metadata": {
        "id": "-Ac4p6PvjjXX",
        "colab_type": "code",
        "colab": {}
      },
      "source": [
        ""
      ],
      "execution_count": 0,
      "outputs": []
    }
  ]
}