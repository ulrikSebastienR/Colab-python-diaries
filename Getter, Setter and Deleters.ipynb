{
  "nbformat": 4,
  "nbformat_minor": 0,
  "metadata": {
    "colab": {
      "name": "Untitled0.ipynb",
      "provenance": [],
      "authorship_tag": "ABX9TyONRR0uzzKEYg9moBC80Rh2",
      "include_colab_link": true
    },
    "kernelspec": {
      "name": "python3",
      "display_name": "Python 3"
    },
    "language_info": {
      "name": "python"
    }
  },
  "cells": [
    {
      "cell_type": "markdown",
      "metadata": {
        "id": "view-in-github",
        "colab_type": "text"
      },
      "source": [
        "<a href=\"https://colab.research.google.com/github/ulrikSebastienR/Colab-python-diaries/blob/master/Getter%2C%20Setter%20and%20Deleters.ipynb\" target=\"_parent\"><img src=\"https://colab.research.google.com/assets/colab-badge.svg\" alt=\"Open In Colab\"/></a>"
      ]
    },
    {
      "cell_type": "code",
      "metadata": {
        "colab": {
          "base_uri": "https://localhost:8080/"
        },
        "id": "w3B6vhWgUukU",
        "outputId": "b734deea-cfce-4c40-fecd-f762c86b4584"
      },
      "source": [
        "# Getter, Setter and Deleter\n",
        "#https://www.youtube.com/watch?v=jCzT9XFZ5bw&t=303s\n",
        "class Employee:\n",
        "    def __init__(self,first,last):\n",
        "        self.first = first\n",
        "        self.last = last\n",
        "        #self.email = first+\".\"+last+\"@rmail.com\"\n",
        "\n",
        "    def show(self):\n",
        "       return self.email\n",
        "\n",
        "    @property\n",
        "    def email(self):\n",
        "        return \"{}.{}@kmail.com\".format(self.first,self.last)\n",
        "\n",
        "    @property\n",
        "    def fullname(self):\n",
        "        return \"{} {}\".format(self.first,self.last)\n",
        "\n",
        "    @fullname.setter\n",
        "    def fullname(self, name):\n",
        "        first, last = name.split(\" \")\n",
        "        self.first = first\n",
        "        self.last = last\n",
        "\n",
        "    @fullname.deleter\n",
        "    def fullname(self):\n",
        "        print(\"No such employee anymore with us\")\n",
        "        self.first = None\n",
        "        self.last = None\n",
        "    \n",
        "    def pr(self):\n",
        "        print(self.first)\n",
        "\n",
        "    \n",
        "\n",
        "\n",
        "E1 = Employee(\"jacob\", \"dancer\")\n",
        "#E1.first = \"Jim\"\n",
        "#print(E1)\n",
        "print(E1.first)\n",
        "#print(E1.email)\n",
        "print(E1.show())\n",
        "#print(E1.pr)\n",
        "#print(E1.pr())\n",
        "#print(E1.fullname())\n",
        "print(E1.email)\n",
        "print(E1.fullname)\n",
        "\n",
        "E1.fullname = \"Emile Menier\"\n",
        "print(E1.fullname)\n",
        "\n",
        "del E1.fullname\n",
        "print(E1.fullname)\n"
      ],
      "execution_count": 6,
      "outputs": [
        {
          "output_type": "stream",
          "text": [
            "jacob\n",
            "jacob.dancer@kmail.com\n",
            "jacob.dancer@kmail.com\n",
            "jacob dancer\n",
            "Emile Menier\n",
            "No such employee anymore with us\n",
            "None None\n"
          ],
          "name": "stdout"
        }
      ]
    },
    {
      "cell_type": "code",
      "metadata": {
        "id": "QHcSCVJcVOO0"
      },
      "source": [
        ""
      ],
      "execution_count": null,
      "outputs": []
    }
  ]
}