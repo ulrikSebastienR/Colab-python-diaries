{
  "nbformat": 4,
  "nbformat_minor": 0,
  "metadata": {
    "colab": {
      "name": "Understanding numpy axes.ipynb",
      "provenance": [],
      "authorship_tag": "ABX9TyNHp8+B0V+lZ2DfuSPZrQ4B",
      "include_colab_link": true
    },
    "kernelspec": {
      "name": "python3",
      "display_name": "Python 3"
    },
    "language_info": {
      "name": "python"
    }
  },
  "cells": [
    {
      "cell_type": "markdown",
      "metadata": {
        "id": "view-in-github",
        "colab_type": "text"
      },
      "source": [
        "<a href=\"https://colab.research.google.com/github/ulrikSebastienR/Colab-python-diaries/blob/master/Understanding_numpy_axes.ipynb\" target=\"_parent\"><img src=\"https://colab.research.google.com/assets/colab-badge.svg\" alt=\"Open In Colab\"/></a>"
      ]
    },
    {
      "cell_type": "code",
      "metadata": {
        "id": "So5FvEXGcYrc"
      },
      "source": [
        "import numpy as np"
      ],
      "execution_count": 21,
      "outputs": []
    },
    {
      "cell_type": "code",
      "metadata": {
        "colab": {
          "base_uri": "https://localhost:8080/"
        },
        "id": "ZnXnjIfGcl8B",
        "outputId": "4d0a3ec3-f246-47f9-ffcb-ecdf168e5a30"
      },
      "source": [
        "x = np.random.randint(1,1000,(5,4,3,2))\n",
        "x"
      ],
      "execution_count": 22,
      "outputs": [
        {
          "output_type": "execute_result",
          "data": {
            "text/plain": [
              "array([[[[981, 984],\n",
              "         [ 54, 247],\n",
              "         [708, 895]],\n",
              "\n",
              "        [[666, 394],\n",
              "         [ 53, 873],\n",
              "         [893, 427]],\n",
              "\n",
              "        [[696, 757],\n",
              "         [394, 647],\n",
              "         [ 24, 887]],\n",
              "\n",
              "        [[276, 626],\n",
              "         [304, 417],\n",
              "         [299, 510]]],\n",
              "\n",
              "\n",
              "       [[[571,  19],\n",
              "         [464, 443],\n",
              "         [102, 446]],\n",
              "\n",
              "        [[581, 875],\n",
              "         [886, 892],\n",
              "         [330, 276]],\n",
              "\n",
              "        [[705, 375],\n",
              "         [737, 743],\n",
              "         [808, 272]],\n",
              "\n",
              "        [[890, 980],\n",
              "         [442, 446],\n",
              "         [316, 678]]],\n",
              "\n",
              "\n",
              "       [[[739, 494],\n",
              "         [218, 976],\n",
              "         [141, 730]],\n",
              "\n",
              "        [[463, 513],\n",
              "         [476, 318],\n",
              "         [357, 318]],\n",
              "\n",
              "        [[504, 587],\n",
              "         [379, 445],\n",
              "         [550, 901]],\n",
              "\n",
              "        [[905, 199],\n",
              "         [596, 951],\n",
              "         [144, 860]]],\n",
              "\n",
              "\n",
              "       [[[121, 215],\n",
              "         [402, 277],\n",
              "         [648, 256]],\n",
              "\n",
              "        [[261, 334],\n",
              "         [169, 898],\n",
              "         [921, 188]],\n",
              "\n",
              "        [[280, 194],\n",
              "         [695, 265],\n",
              "         [ 56, 749]],\n",
              "\n",
              "        [[129, 679],\n",
              "         [555, 706],\n",
              "         [109, 810]]],\n",
              "\n",
              "\n",
              "       [[[344, 276],\n",
              "         [751, 969],\n",
              "         [  1, 163]],\n",
              "\n",
              "        [[275,  29],\n",
              "         [428, 359],\n",
              "         [694, 636]],\n",
              "\n",
              "        [[ 61, 864],\n",
              "         [119, 104],\n",
              "         [568, 401]],\n",
              "\n",
              "        [[880, 823],\n",
              "         [628, 209],\n",
              "         [901, 513]]]])"
            ]
          },
          "metadata": {
            "tags": []
          },
          "execution_count": 22
        }
      ]
    },
    {
      "cell_type": "code",
      "metadata": {
        "colab": {
          "base_uri": "https://localhost:8080/"
        },
        "id": "3KXJzDQzcssN",
        "outputId": "6e8d654e-d6c4-438a-ef05-92eee110a0a7"
      },
      "source": [
        "x[0,:,:,:]\n"
      ],
      "execution_count": 23,
      "outputs": [
        {
          "output_type": "execute_result",
          "data": {
            "text/plain": [
              "array([[[981, 984],\n",
              "        [ 54, 247],\n",
              "        [708, 895]],\n",
              "\n",
              "       [[666, 394],\n",
              "        [ 53, 873],\n",
              "        [893, 427]],\n",
              "\n",
              "       [[696, 757],\n",
              "        [394, 647],\n",
              "        [ 24, 887]],\n",
              "\n",
              "       [[276, 626],\n",
              "        [304, 417],\n",
              "        [299, 510]]])"
            ]
          },
          "metadata": {
            "tags": []
          },
          "execution_count": 23
        }
      ]
    },
    {
      "cell_type": "code",
      "metadata": {
        "colab": {
          "base_uri": "https://localhost:8080/"
        },
        "id": "9YOVP-PTef1q",
        "outputId": "a55552ea-07e2-404a-d3ad-0055aa4b57a3"
      },
      "source": [
        "x[1,:,:,:]"
      ],
      "execution_count": 24,
      "outputs": [
        {
          "output_type": "execute_result",
          "data": {
            "text/plain": [
              "array([[[571,  19],\n",
              "        [464, 443],\n",
              "        [102, 446]],\n",
              "\n",
              "       [[581, 875],\n",
              "        [886, 892],\n",
              "        [330, 276]],\n",
              "\n",
              "       [[705, 375],\n",
              "        [737, 743],\n",
              "        [808, 272]],\n",
              "\n",
              "       [[890, 980],\n",
              "        [442, 446],\n",
              "        [316, 678]]])"
            ]
          },
          "metadata": {
            "tags": []
          },
          "execution_count": 24
        }
      ]
    },
    {
      "cell_type": "code",
      "metadata": {
        "colab": {
          "base_uri": "https://localhost:8080/"
        },
        "id": "v5wh-0K4c30B",
        "outputId": "74b5d03f-09d9-4b71-ec91-45187063be8d"
      },
      "source": [
        "x[:,0,:,:]\n"
      ],
      "execution_count": 25,
      "outputs": [
        {
          "output_type": "execute_result",
          "data": {
            "text/plain": [
              "array([[[981, 984],\n",
              "        [ 54, 247],\n",
              "        [708, 895]],\n",
              "\n",
              "       [[571,  19],\n",
              "        [464, 443],\n",
              "        [102, 446]],\n",
              "\n",
              "       [[739, 494],\n",
              "        [218, 976],\n",
              "        [141, 730]],\n",
              "\n",
              "       [[121, 215],\n",
              "        [402, 277],\n",
              "        [648, 256]],\n",
              "\n",
              "       [[344, 276],\n",
              "        [751, 969],\n",
              "        [  1, 163]]])"
            ]
          },
          "metadata": {
            "tags": []
          },
          "execution_count": 25
        }
      ]
    },
    {
      "cell_type": "code",
      "metadata": {
        "colab": {
          "base_uri": "https://localhost:8080/"
        },
        "id": "vqjYNn-5ea08",
        "outputId": "728417e0-db00-4c7c-8ebb-43e017f49f94"
      },
      "source": [
        "x[:,1,:,:]"
      ],
      "execution_count": 26,
      "outputs": [
        {
          "output_type": "execute_result",
          "data": {
            "text/plain": [
              "array([[[666, 394],\n",
              "        [ 53, 873],\n",
              "        [893, 427]],\n",
              "\n",
              "       [[581, 875],\n",
              "        [886, 892],\n",
              "        [330, 276]],\n",
              "\n",
              "       [[463, 513],\n",
              "        [476, 318],\n",
              "        [357, 318]],\n",
              "\n",
              "       [[261, 334],\n",
              "        [169, 898],\n",
              "        [921, 188]],\n",
              "\n",
              "       [[275,  29],\n",
              "        [428, 359],\n",
              "        [694, 636]]])"
            ]
          },
          "metadata": {
            "tags": []
          },
          "execution_count": 26
        }
      ]
    },
    {
      "cell_type": "code",
      "metadata": {
        "colab": {
          "base_uri": "https://localhost:8080/"
        },
        "id": "LbTbZIjYdBUp",
        "outputId": "21470174-2b2e-4b3b-f0c1-b6485a28c604"
      },
      "source": [
        "x[:,:,0,:]\n"
      ],
      "execution_count": 27,
      "outputs": [
        {
          "output_type": "execute_result",
          "data": {
            "text/plain": [
              "array([[[981, 984],\n",
              "        [666, 394],\n",
              "        [696, 757],\n",
              "        [276, 626]],\n",
              "\n",
              "       [[571,  19],\n",
              "        [581, 875],\n",
              "        [705, 375],\n",
              "        [890, 980]],\n",
              "\n",
              "       [[739, 494],\n",
              "        [463, 513],\n",
              "        [504, 587],\n",
              "        [905, 199]],\n",
              "\n",
              "       [[121, 215],\n",
              "        [261, 334],\n",
              "        [280, 194],\n",
              "        [129, 679]],\n",
              "\n",
              "       [[344, 276],\n",
              "        [275,  29],\n",
              "        [ 61, 864],\n",
              "        [880, 823]]])"
            ]
          },
          "metadata": {
            "tags": []
          },
          "execution_count": 27
        }
      ]
    },
    {
      "cell_type": "code",
      "metadata": {
        "colab": {
          "base_uri": "https://localhost:8080/"
        },
        "id": "pBaYSdjTeXoc",
        "outputId": "0756eb69-e261-4911-c5b0-365b15b06841"
      },
      "source": [
        "x[:,:,1,:]"
      ],
      "execution_count": 28,
      "outputs": [
        {
          "output_type": "execute_result",
          "data": {
            "text/plain": [
              "array([[[ 54, 247],\n",
              "        [ 53, 873],\n",
              "        [394, 647],\n",
              "        [304, 417]],\n",
              "\n",
              "       [[464, 443],\n",
              "        [886, 892],\n",
              "        [737, 743],\n",
              "        [442, 446]],\n",
              "\n",
              "       [[218, 976],\n",
              "        [476, 318],\n",
              "        [379, 445],\n",
              "        [596, 951]],\n",
              "\n",
              "       [[402, 277],\n",
              "        [169, 898],\n",
              "        [695, 265],\n",
              "        [555, 706]],\n",
              "\n",
              "       [[751, 969],\n",
              "        [428, 359],\n",
              "        [119, 104],\n",
              "        [628, 209]]])"
            ]
          },
          "metadata": {
            "tags": []
          },
          "execution_count": 28
        }
      ]
    },
    {
      "cell_type": "code",
      "metadata": {
        "colab": {
          "base_uri": "https://localhost:8080/"
        },
        "id": "3hO_enXsdJN5",
        "outputId": "bfec4c68-98ee-46f2-fb42-24cee215950e"
      },
      "source": [
        "x[:,:,:,0]\n"
      ],
      "execution_count": 29,
      "outputs": [
        {
          "output_type": "execute_result",
          "data": {
            "text/plain": [
              "array([[[981,  54, 708],\n",
              "        [666,  53, 893],\n",
              "        [696, 394,  24],\n",
              "        [276, 304, 299]],\n",
              "\n",
              "       [[571, 464, 102],\n",
              "        [581, 886, 330],\n",
              "        [705, 737, 808],\n",
              "        [890, 442, 316]],\n",
              "\n",
              "       [[739, 218, 141],\n",
              "        [463, 476, 357],\n",
              "        [504, 379, 550],\n",
              "        [905, 596, 144]],\n",
              "\n",
              "       [[121, 402, 648],\n",
              "        [261, 169, 921],\n",
              "        [280, 695,  56],\n",
              "        [129, 555, 109]],\n",
              "\n",
              "       [[344, 751,   1],\n",
              "        [275, 428, 694],\n",
              "        [ 61, 119, 568],\n",
              "        [880, 628, 901]]])"
            ]
          },
          "metadata": {
            "tags": []
          },
          "execution_count": 29
        }
      ]
    },
    {
      "cell_type": "code",
      "metadata": {
        "colab": {
          "base_uri": "https://localhost:8080/"
        },
        "id": "nTWL2bO2eUNs",
        "outputId": "21b34c35-c317-4aff-a6db-28027080ca34"
      },
      "source": [
        "x[:,:,:,1]"
      ],
      "execution_count": 30,
      "outputs": [
        {
          "output_type": "execute_result",
          "data": {
            "text/plain": [
              "array([[[984, 247, 895],\n",
              "        [394, 873, 427],\n",
              "        [757, 647, 887],\n",
              "        [626, 417, 510]],\n",
              "\n",
              "       [[ 19, 443, 446],\n",
              "        [875, 892, 276],\n",
              "        [375, 743, 272],\n",
              "        [980, 446, 678]],\n",
              "\n",
              "       [[494, 976, 730],\n",
              "        [513, 318, 318],\n",
              "        [587, 445, 901],\n",
              "        [199, 951, 860]],\n",
              "\n",
              "       [[215, 277, 256],\n",
              "        [334, 898, 188],\n",
              "        [194, 265, 749],\n",
              "        [679, 706, 810]],\n",
              "\n",
              "       [[276, 969, 163],\n",
              "        [ 29, 359, 636],\n",
              "        [864, 104, 401],\n",
              "        [823, 209, 513]]])"
            ]
          },
          "metadata": {
            "tags": []
          },
          "execution_count": 30
        }
      ]
    },
    {
      "cell_type": "code",
      "metadata": {
        "colab": {
          "base_uri": "https://localhost:8080/"
        },
        "id": "wfkTG6TQde9Z",
        "outputId": "3fd485cd-73b7-444e-e2ae-5736b5accc6f"
      },
      "source": [
        "x=np.random.randint(1,100,(4,3,2))\n",
        "x"
      ],
      "execution_count": 31,
      "outputs": [
        {
          "output_type": "execute_result",
          "data": {
            "text/plain": [
              "array([[[39, 95],\n",
              "        [94, 97],\n",
              "        [94, 61]],\n",
              "\n",
              "       [[ 3, 54],\n",
              "        [ 9, 21],\n",
              "        [61, 44]],\n",
              "\n",
              "       [[24, 74],\n",
              "        [48, 88],\n",
              "        [86,  1]],\n",
              "\n",
              "       [[ 1, 96],\n",
              "        [94, 67],\n",
              "        [87, 52]]])"
            ]
          },
          "metadata": {
            "tags": []
          },
          "execution_count": 31
        }
      ]
    },
    {
      "cell_type": "code",
      "metadata": {
        "colab": {
          "base_uri": "https://localhost:8080/"
        },
        "id": "17ZqCHYldhHn",
        "outputId": "56ada1fb-a4e0-4945-cfd0-3cad60dd8324"
      },
      "source": [
        "x[0,:,:]\n"
      ],
      "execution_count": 32,
      "outputs": [
        {
          "output_type": "execute_result",
          "data": {
            "text/plain": [
              "array([[39, 95],\n",
              "       [94, 97],\n",
              "       [94, 61]])"
            ]
          },
          "metadata": {
            "tags": []
          },
          "execution_count": 32
        }
      ]
    },
    {
      "cell_type": "code",
      "metadata": {
        "colab": {
          "base_uri": "https://localhost:8080/"
        },
        "id": "4bsMaIodeOSf",
        "outputId": "f6ce21c8-db95-4293-d7d7-dde84955aa09"
      },
      "source": [
        "x[1,:,:]"
      ],
      "execution_count": 33,
      "outputs": [
        {
          "output_type": "execute_result",
          "data": {
            "text/plain": [
              "array([[ 3, 54],\n",
              "       [ 9, 21],\n",
              "       [61, 44]])"
            ]
          },
          "metadata": {
            "tags": []
          },
          "execution_count": 33
        }
      ]
    },
    {
      "cell_type": "code",
      "metadata": {
        "colab": {
          "base_uri": "https://localhost:8080/"
        },
        "id": "W9zzyN4zdnsy",
        "outputId": "f39586aa-1448-4038-c97c-8f2fb63548d5"
      },
      "source": [
        "x[:,0,:]\n"
      ],
      "execution_count": 34,
      "outputs": [
        {
          "output_type": "execute_result",
          "data": {
            "text/plain": [
              "array([[39, 95],\n",
              "       [ 3, 54],\n",
              "       [24, 74],\n",
              "       [ 1, 96]])"
            ]
          },
          "metadata": {
            "tags": []
          },
          "execution_count": 34
        }
      ]
    },
    {
      "cell_type": "code",
      "metadata": {
        "colab": {
          "base_uri": "https://localhost:8080/"
        },
        "id": "J-n2FIYfeJIB",
        "outputId": "019b4055-9646-41e3-f7cb-f5704359c8ce"
      },
      "source": [
        "x[:,1,:]"
      ],
      "execution_count": 35,
      "outputs": [
        {
          "output_type": "execute_result",
          "data": {
            "text/plain": [
              "array([[94, 97],\n",
              "       [ 9, 21],\n",
              "       [48, 88],\n",
              "       [94, 67]])"
            ]
          },
          "metadata": {
            "tags": []
          },
          "execution_count": 35
        }
      ]
    },
    {
      "cell_type": "code",
      "metadata": {
        "colab": {
          "base_uri": "https://localhost:8080/"
        },
        "id": "DnXO2PCudvqc",
        "outputId": "ff69c47b-9cc8-4458-8b2c-d8934c423697"
      },
      "source": [
        "x[:,:,0]\n"
      ],
      "execution_count": 36,
      "outputs": [
        {
          "output_type": "execute_result",
          "data": {
            "text/plain": [
              "array([[39, 94, 94],\n",
              "       [ 3,  9, 61],\n",
              "       [24, 48, 86],\n",
              "       [ 1, 94, 87]])"
            ]
          },
          "metadata": {
            "tags": []
          },
          "execution_count": 36
        }
      ]
    },
    {
      "cell_type": "code",
      "metadata": {
        "colab": {
          "base_uri": "https://localhost:8080/"
        },
        "id": "229HeUeceAl1",
        "outputId": "bbc9c43f-8a4b-4b6b-9f32-1a58bdf39e20"
      },
      "source": [
        "x[:,:,1]"
      ],
      "execution_count": 37,
      "outputs": [
        {
          "output_type": "execute_result",
          "data": {
            "text/plain": [
              "array([[95, 97, 61],\n",
              "       [54, 21, 44],\n",
              "       [74, 88,  1],\n",
              "       [96, 67, 52]])"
            ]
          },
          "metadata": {
            "tags": []
          },
          "execution_count": 37
        }
      ]
    },
    {
      "cell_type": "code",
      "metadata": {
        "id": "2Toi86IveBdu"
      },
      "source": [
        ""
      ],
      "execution_count": 37,
      "outputs": []
    }
  ]
}