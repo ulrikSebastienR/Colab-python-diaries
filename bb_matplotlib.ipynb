{
  "nbformat": 4,
  "nbformat_minor": 0,
  "metadata": {
    "colab": {
      "name": "bb matplotlib.ipynb",
      "provenance": [],
      "authorship_tag": "ABX9TyMseCFBm5Is0wkhbLMHLbdi",
      "include_colab_link": true
    },
    "kernelspec": {
      "name": "python3",
      "display_name": "Python 3"
    }
  },
  "cells": [
    {
      "cell_type": "markdown",
      "metadata": {
        "id": "view-in-github",
        "colab_type": "text"
      },
      "source": [
        "<a href=\"https://colab.research.google.com/github/ulrikSebastienR/Colab-python-diaries/blob/master/bb_matplotlib.ipynb\" target=\"_parent\"><img src=\"https://colab.research.google.com/assets/colab-badge.svg\" alt=\"Open In Colab\"/></a>"
      ]
    },
    {
      "cell_type": "code",
      "metadata": {
        "id": "qIHb527Wok3r",
        "colab_type": "code",
        "colab": {}
      },
      "source": [
        "#https://matplotlib.org/tutorials/introductory/usage.html#figure-parts\n",
        "import matplotlib.pyplot as plt\n",
        "import numpy as np"
      ],
      "execution_count": 0,
      "outputs": []
    },
    {
      "cell_type": "code",
      "metadata": {
        "id": "e7cNiPnnovmz",
        "colab_type": "code",
        "outputId": "dba1abec-a3cc-4f3e-a367-658d7968a3d6",
        "colab": {
          "base_uri": "https://localhost:8080/",
          "height": 53
        }
      },
      "source": [
        "x1 = np.linspace(0,100, 10) \n",
        "print(x1)"
      ],
      "execution_count": 21,
      "outputs": [
        {
          "output_type": "stream",
          "text": [
            "[  0.          11.11111111  22.22222222  33.33333333  44.44444444\n",
            "  55.55555556  66.66666667  77.77777778  88.88888889 100.        ]\n"
          ],
          "name": "stdout"
        }
      ]
    },
    {
      "cell_type": "code",
      "metadata": {
        "id": "qLxR5F2Jo_Zk",
        "colab_type": "code",
        "outputId": "d853ddf8-1639-476c-e27f-c7719148c167",
        "colab": {
          "base_uri": "https://localhost:8080/",
          "height": 35
        }
      },
      "source": [
        "x2 = np.linspace(0,100,2)\n",
        "print(x2)"
      ],
      "execution_count": 22,
      "outputs": [
        {
          "output_type": "stream",
          "text": [
            "[  0. 100.]\n"
          ],
          "name": "stdout"
        }
      ]
    },
    {
      "cell_type": "code",
      "metadata": {
        "id": "ddH2x7svpAvz",
        "colab_type": "code",
        "outputId": "16288e44-d1ca-4ca0-eb31-ab6d1f85dec3",
        "colab": {
          "base_uri": "https://localhost:8080/",
          "height": 326
        }
      },
      "source": [
        "x = np.linspace(0,2,100)\n",
        "print(x)"
      ],
      "execution_count": 23,
      "outputs": [
        {
          "output_type": "stream",
          "text": [
            "[0.         0.02020202 0.04040404 0.06060606 0.08080808 0.1010101\n",
            " 0.12121212 0.14141414 0.16161616 0.18181818 0.2020202  0.22222222\n",
            " 0.24242424 0.26262626 0.28282828 0.3030303  0.32323232 0.34343434\n",
            " 0.36363636 0.38383838 0.4040404  0.42424242 0.44444444 0.46464646\n",
            " 0.48484848 0.50505051 0.52525253 0.54545455 0.56565657 0.58585859\n",
            " 0.60606061 0.62626263 0.64646465 0.66666667 0.68686869 0.70707071\n",
            " 0.72727273 0.74747475 0.76767677 0.78787879 0.80808081 0.82828283\n",
            " 0.84848485 0.86868687 0.88888889 0.90909091 0.92929293 0.94949495\n",
            " 0.96969697 0.98989899 1.01010101 1.03030303 1.05050505 1.07070707\n",
            " 1.09090909 1.11111111 1.13131313 1.15151515 1.17171717 1.19191919\n",
            " 1.21212121 1.23232323 1.25252525 1.27272727 1.29292929 1.31313131\n",
            " 1.33333333 1.35353535 1.37373737 1.39393939 1.41414141 1.43434343\n",
            " 1.45454545 1.47474747 1.49494949 1.51515152 1.53535354 1.55555556\n",
            " 1.57575758 1.5959596  1.61616162 1.63636364 1.65656566 1.67676768\n",
            " 1.6969697  1.71717172 1.73737374 1.75757576 1.77777778 1.7979798\n",
            " 1.81818182 1.83838384 1.85858586 1.87878788 1.8989899  1.91919192\n",
            " 1.93939394 1.95959596 1.97979798 2.        ]\n"
          ],
          "name": "stdout"
        }
      ]
    },
    {
      "cell_type": "code",
      "metadata": {
        "id": "iiq-bIEipLWs",
        "colab_type": "code",
        "outputId": "62e12c77-7b4a-47cf-e05e-5658ae84fb77",
        "colab": {
          "base_uri": "https://localhost:8080/",
          "height": 269
        }
      },
      "source": [
        "fig,ax = plt.subplots() #https://stackoverflow.com/questions/34162443/why-do-many-examples-use-fig-ax-plt-subplots-in-matplotlib-pyplot-python"
      ],
      "execution_count": 24,
      "outputs": [
        {
          "output_type": "display_data",
          "data": {
            "image/png": "[encoded data removed]",
            "text/plain": [
              "<Figure size 432x288 with 1 Axes>"
            ]
          },
          "metadata": {
            "tags": [],
            "needs_background": "light"
          }
        }
      ]
    },
    {
      "cell_type": "code",
      "metadata": {
        "id": "_cwWR_dOMJiY",
        "colab_type": "code",
        "outputId": "d4d36689-0dd1-4926-dee9-7709045d6704",
        "colab": {
          "base_uri": "https://localhost:8080/",
          "height": 35
        }
      },
      "source": [
        "ax.plot([1,2,3,4],[1,4,2,3])"
      ],
      "execution_count": 25,
      "outputs": [
        {
          "output_type": "execute_result",
          "data": {
            "text/plain": [
              "[<matplotlib.lines.Line2D at 0x7f000984aa58>]"
            ]
          },
          "metadata": {
            "tags": []
          },
          "execution_count": 25
        }
      ]
    },
    {
      "cell_type": "code",
      "metadata": {
        "id": "ZNXQv_IOM50K",
        "colab_type": "code",
        "outputId": "c1e10068-44d0-4764-cdde-ee723fdcde23",
        "colab": {
          "base_uri": "https://localhost:8080/",
          "height": 35
        }
      },
      "source": [
        "fig = plt.figure()"
      ],
      "execution_count": 26,
      "outputs": [
        {
          "output_type": "display_data",
          "data": {
            "text/plain": [
              "<Figure size 432x288 with 0 Axes>"
            ]
          },
          "metadata": {
            "tags": []
          }
        }
      ]
    },
    {
      "cell_type": "code",
      "metadata": {
        "id": "o3WT7ILbNNPb",
        "colab_type": "code",
        "outputId": "5427d36f-3bd7-4eb5-98d7-17d7eec7c7e8",
        "colab": {
          "base_uri": "https://localhost:8080/",
          "height": 269
        }
      },
      "source": [
        "fig, ax = plt.subplots()"
      ],
      "execution_count": 27,
      "outputs": [
        {
          "output_type": "display_data",
          "data": {
            "image/png": "[encoded data removed]",
            "text/plain": [
              "<Figure size 432x288 with 1 Axes>"
            ]
          },
          "metadata": {
            "tags": [],
            "needs_background": "light"
          }
        }
      ]
    },
    {
      "cell_type": "code",
      "metadata": {
        "id": "68FhRAfVzkY0",
        "colab_type": "code",
        "colab": {
          "base_uri": "https://localhost:8080/",
          "height": 269
        },
        "outputId": "a694d98a-85c4-4078-ce23-28ae7955fa83"
      },
      "source": [
        "fig, ax = plt.subplots(1)"
      ],
      "execution_count": 40,
      "outputs": [
        {
          "output_type": "display_data",
          "data": {
            "image/png": "[encoded data removed]",
            "text/plain": [
              "<Figure size 432x288 with 1 Axes>"
            ]
          },
          "metadata": {
            "tags": [],
            "needs_background": "light"
          }
        }
      ]
    },
    {
      "cell_type": "code",
      "metadata": {
        "id": "yPTFBbmBztjx",
        "colab_type": "code",
        "colab": {
          "base_uri": "https://localhost:8080/",
          "height": 269
        },
        "outputId": "6d6797f7-e28f-434f-f260-ac7eecfceeb9"
      },
      "source": [
        "fig,ax = plt.subplots(1,1)"
      ],
      "execution_count": 41,
      "outputs": [
        {
          "output_type": "display_data",
          "data": {
            "image/png": "[encoded data removed]",
            "text/plain": [
              "<Figure size 432x288 with 1 Axes>"
            ]
          },
          "metadata": {
            "tags": [],
            "needs_background": "light"
          }
        }
      ]
    },
    {
      "cell_type": "code",
      "metadata": {
        "id": "M03Vc6YkNNj6",
        "colab_type": "code",
        "outputId": "4358798e-fcf2-4410-e44b-000dde35201f",
        "colab": {
          "base_uri": "https://localhost:8080/",
          "height": 269
        }
      },
      "source": [
        "fig, axs = plt.subplots(2,2)"
      ],
      "execution_count": 28,
      "outputs": [
        {
          "output_type": "display_data",
          "data": {
            "image/png": "[encoded data removed]",
            "text/plain": [
              "<Figure size 432x288 with 4 Axes>"
            ]
          },
          "metadata": {
            "tags": [],
            "needs_background": "light"
          }
        }
      ]
    },
    {
      "cell_type": "code",
      "metadata": {
        "id": "IFmW4LmGNNKS",
        "colab_type": "code",
        "outputId": "c9d34bbb-87e5-4d77-fd4f-0e54ce9c08d1",
        "colab": {
          "base_uri": "https://localhost:8080/",
          "height": 269
        }
      },
      "source": [
        "fig, axs = plt.subplots(1,2)"
      ],
      "execution_count": 29,
      "outputs": [
        {
          "output_type": "display_data",
          "data": {
            "image/png": "[encoded data removed]",
            "text/plain": [
              "<Figure size 432x288 with 2 Axes>"
            ]
          },
          "metadata": {
            "tags": [],
            "needs_background": "light"
          }
        }
      ]
    },
    {
      "cell_type": "code",
      "metadata": {
        "id": "x1UpfldUO4i9",
        "colab_type": "code",
        "outputId": "0b82b3e5-d0c2-432e-8aa2-b67786a4bfd2",
        "colab": {
          "base_uri": "https://localhost:8080/",
          "height": 269
        }
      },
      "source": [
        "fig, axs = plt.subplots(2,3)"
      ],
      "execution_count": 30,
      "outputs": [
        {
          "output_type": "display_data",
          "data": {
            "image/png": "[encoded data removed]",
            "text/plain": [
              "<Figure size 432x288 with 6 Axes>"
            ]
          },
          "metadata": {
            "tags": [],
            "needs_background": "light"
          }
        }
      ]
    },
    {
      "cell_type": "code",
      "metadata": {
        "id": "Tv0eQPsjO43Z",
        "colab_type": "code",
        "outputId": "3cf37d9e-a478-4bd6-9eef-a8ef3ec09002",
        "colab": {
          "base_uri": "https://localhost:8080/",
          "height": 269
        }
      },
      "source": [
        "fig, axs = plt.subplots( 1,3)"
      ],
      "execution_count": 31,
      "outputs": [
        {
          "output_type": "display_data",
          "data": {
            "image/png": "[encoded data removed]",
            "text/plain": [
              "<Figure size 432x288 with 3 Axes>"
            ]
          },
          "metadata": {
            "tags": [],
            "needs_background": "light"
          }
        }
      ]
    },
    {
      "cell_type": "code",
      "metadata": {
        "id": "ee4aiXhhPi0w",
        "colab_type": "code",
        "outputId": "4c2e3f86-ba86-408a-af14-c6cf65eddfc6",
        "colab": {
          "base_uri": "https://localhost:8080/",
          "height": 108
        }
      },
      "source": [
        "print(np.random.rand(5,1))"
      ],
      "execution_count": 32,
      "outputs": [
        {
          "output_type": "stream",
          "text": [
            "[[0.20866591]\n",
            " [0.33611287]\n",
            " [0.17595313]\n",
            " [0.68169006]\n",
            " [0.70892904]]\n"
          ],
          "name": "stdout"
        }
      ]
    },
    {
      "cell_type": "code",
      "metadata": {
        "id": "tSp52RqKPjLV",
        "colab_type": "code",
        "outputId": "17d560fb-a7c4-49e4-914b-cfc2103e4be2",
        "colab": {
          "base_uri": "https://localhost:8080/",
          "height": 35
        }
      },
      "source": [
        "print(type(np.random.rand(3,7)))"
      ],
      "execution_count": 33,
      "outputs": [
        {
          "output_type": "stream",
          "text": [
            "<class 'numpy.ndarray'>\n"
          ],
          "name": "stdout"
        }
      ]
    },
    {
      "cell_type": "code",
      "metadata": {
        "id": "pGmtoa84PjaI",
        "colab_type": "code",
        "outputId": "48172c66-476c-4571-95a6-608bc8e2b3c8",
        "colab": {
          "base_uri": "https://localhost:8080/",
          "height": 53
        }
      },
      "source": [
        "print(np.zeros((2,3)))"
      ],
      "execution_count": 34,
      "outputs": [
        {
          "output_type": "stream",
          "text": [
            "[[0. 0. 0.]\n",
            " [0. 0. 0.]]\n"
          ],
          "name": "stdout"
        }
      ]
    },
    {
      "cell_type": "code",
      "metadata": {
        "id": "cYiEitnxTFhD",
        "colab_type": "code",
        "outputId": "00cf5fca-cfa9-4d22-ba70-1ab2391aeb15",
        "colab": {
          "base_uri": "https://localhost:8080/",
          "height": 126
        }
      },
      "source": [
        "arr = np.ones((3,5))\n",
        "print(arr)\n",
        "print(type(arr))\n",
        "print('dim =', arr.ndim)\n",
        "print(arr.shape)\n"
      ],
      "execution_count": 35,
      "outputs": [
        {
          "output_type": "stream",
          "text": [
            "[[1. 1. 1. 1. 1.]\n",
            " [1. 1. 1. 1. 1.]\n",
            " [1. 1. 1. 1. 1.]]\n",
            "<class 'numpy.ndarray'>\n",
            "dim = 2\n",
            "(3, 5)\n"
          ],
          "name": "stdout"
        }
      ]
    },
    {
      "cell_type": "code",
      "metadata": {
        "id": "Yq-X_EHMTF9J",
        "colab_type": "code",
        "colab": {}
      },
      "source": [
        ""
      ],
      "execution_count": 0,
      "outputs": []
    },
    {
      "cell_type": "code",
      "metadata": {
        "id": "OsHexvRep38v",
        "colab_type": "code",
        "colab": {
          "base_uri": "https://localhost:8080/",
          "height": 35
        },
        "outputId": "2b2eb285-2b1f-45e0-fb2d-351fc419eb0f"
      },
      "source": [
        "ax.plot(x,x,label = 'linear')"
      ],
      "execution_count": 36,
      "outputs": [
        {
          "output_type": "execute_result",
          "data": {
            "text/plain": [
              "[<matplotlib.lines.Line2D at 0x7f00090a9fd0>]"
            ]
          },
          "metadata": {
            "tags": []
          },
          "execution_count": 36
        }
      ]
    },
    {
      "cell_type": "code",
      "metadata": {
        "id": "yT3iBiQcqd2x",
        "colab_type": "code",
        "colab": {
          "base_uri": "https://localhost:8080/",
          "height": 35
        },
        "outputId": "7fb2b503-dde3-487a-d9bd-f5009a9c24de"
      },
      "source": [
        "ax.plot(x, x**2, label = 'quadratic')"
      ],
      "execution_count": 39,
      "outputs": [
        {
          "output_type": "execute_result",
          "data": {
            "text/plain": [
              "[<matplotlib.lines.Line2D at 0x7f0009515080>]"
            ]
          },
          "metadata": {
            "tags": []
          },
          "execution_count": 39
        }
      ]
    },
    {
      "cell_type": "code",
      "metadata": {
        "id": "7YfZXHxzq0GY",
        "colab_type": "code",
        "colab": {}
      },
      "source": [
        "def my_plotter(ax, data1, data2):\n",
        "  # ax : the axes to draw to\n",
        "  # data1 : x data array\n",
        "  # data2: y data array\n",
        "  out = ax.plot(data1,data2)\n",
        "  print(type(ax))\n",
        "  print(ax)\n",
        "  print(type(out)) #list, list of artists\n",
        "  return out"
      ],
      "execution_count": 0,
      "outputs": []
    },
    {
      "cell_type": "code",
      "metadata": {
        "id": "JSbdpZU37N4n",
        "colab_type": "code",
        "colab": {}
      },
      "source": [
        "def my_plotter1(ax, data1, data2, data3):\n",
        "  # ax : the axes to draw to\n",
        "  # data1 : x data array\n",
        "  # data2: y data array\n",
        "  out = ax.plot(data1,data2,data3)\n",
        "  print(type(out)) #list, list of artists\n",
        "  return out"
      ],
      "execution_count": 0,
      "outputs": []
    },
    {
      "cell_type": "code",
      "metadata": {
        "id": "2EiOYNd819QJ",
        "colab_type": "code",
        "colab": {
          "base_uri": "https://localhost:8080/",
          "height": 1000
        },
        "outputId": "463fd31b-8924-434d-b0c9-2078294acfc5"
      },
      "source": [
        "print(np.random.rand(4,100))"
      ],
      "execution_count": 50,
      "outputs": [
        {
          "output_type": "stream",
          "text": [
            "[[1.77280539e-01 6.69761324e-01 1.03160302e-01 8.01615503e-01\n",
            "  1.97671467e-01 6.42752652e-01 6.28540592e-01 8.29139837e-02\n",
            "  4.39570790e-01 5.54403141e-01 2.42427553e-01 2.34694610e-01\n",
            "  8.00399783e-01 6.41642477e-01 2.37402214e-01 3.22071164e-01\n",
            "  8.45739096e-01 3.06245942e-01 3.87606063e-01 1.28084576e-01\n",
            "  7.08062225e-01 3.20394040e-01 7.03165776e-01 9.46484580e-01\n",
            "  8.40875611e-01 2.18218966e-01 1.27384745e-01 2.37124204e-01\n",
            "  9.23451395e-01 2.16676882e-01 8.50713613e-02 3.60629949e-01\n",
            "  1.40437814e-01 2.57805697e-01 3.85128671e-01 4.01680215e-01\n",
            "  9.56981242e-01 6.76763088e-03 7.85595247e-01 4.43655979e-01\n",
            "  8.46705954e-01 7.88704722e-01 1.61923706e-01 8.16671847e-01\n",
            "  8.10170487e-01 5.84088533e-01 2.34345984e-01 7.10833084e-02\n",
            "  7.96420618e-01 5.33493234e-01 3.43074412e-02 3.45341133e-01\n",
            "  8.70401126e-02 9.00119477e-01 9.16324633e-01 5.92721258e-01\n",
            "  2.29799409e-01 2.31848978e-01 8.41440770e-01 4.10569559e-01\n",
            "  5.83084643e-01 1.42785965e-01 6.10243339e-01 2.05073172e-01\n",
            "  9.17224083e-01 5.23341760e-01 4.42211063e-01 1.20335924e-01\n",
            "  5.93185790e-01 4.13501839e-01 6.86383693e-01 2.60332312e-01\n",
            "  9.39772725e-01 4.99977502e-01 1.07828795e-02 4.07116279e-01\n",
            "  5.44661797e-01 7.72747232e-01 3.14138111e-01 7.87445542e-01\n",
            "  5.16256584e-01 5.78175198e-01 2.37454472e-01 1.51849230e-01\n",
            "  7.27059944e-01 1.65732334e-01 5.40615623e-01 2.27787565e-01\n",
            "  1.86489594e-01 1.82287954e-01 9.18728875e-01 4.32207995e-01\n",
            "  5.16497098e-01 5.76382114e-02 6.48653461e-02 2.72411017e-01\n",
            "  4.10345775e-01 4.82098223e-01 4.98030983e-01 4.32580313e-01]\n",
            " [1.13380675e-02 7.87868331e-01 1.57271509e-01 9.19303322e-01\n",
            "  2.49979210e-01 1.41400216e-01 1.60005935e-01 9.59040904e-02\n",
            "  5.07599387e-01 1.90108021e-01 8.27235063e-01 6.82493225e-01\n",
            "  7.12494493e-01 3.79151749e-01 7.79336787e-01 4.19762942e-01\n",
            "  8.35381245e-01 9.41551966e-01 7.29106995e-01 2.96592057e-01\n",
            "  2.57285491e-01 7.03643514e-01 5.23158879e-01 2.98334656e-01\n",
            "  5.47537724e-01 5.91433243e-01 1.22318682e-01 9.78077645e-01\n",
            "  3.61908279e-02 3.53269296e-01 3.42388215e-01 8.48157095e-01\n",
            "  5.01513800e-01 1.00292013e-01 3.19950646e-01 1.36014430e-01\n",
            "  1.60707344e-02 5.84521030e-01 4.56448087e-02 9.13670555e-01\n",
            "  6.65193783e-01 6.13337159e-01 9.61532011e-01 1.99564695e-01\n",
            "  3.51756476e-01 9.29510593e-01 5.91292899e-01 3.06510360e-02\n",
            "  6.37907802e-02 2.55696824e-01 3.29800416e-01 8.26299599e-04\n",
            "  4.50186392e-01 8.14217831e-01 5.79455610e-01 4.33092734e-01\n",
            "  8.17514273e-01 5.65316074e-01 1.82910476e-01 7.35343976e-01\n",
            "  7.22288539e-01 3.05688596e-01 4.53563701e-01 6.36716002e-01\n",
            "  2.86400118e-01 7.23676680e-01 8.35352659e-02 9.12110102e-03\n",
            "  3.93996550e-02 2.59780528e-01 1.68855996e-01 4.55763472e-01\n",
            "  2.30195835e-01 5.94291525e-01 8.43894330e-01 8.28846897e-01\n",
            "  3.07575315e-01 3.13650660e-01 1.82958950e-01 6.77337182e-01\n",
            "  7.95302139e-01 8.52358362e-01 8.12359864e-01 2.86490882e-01\n",
            "  7.62888762e-01 3.93174093e-01 4.34959754e-01 6.31726713e-01\n",
            "  6.31550152e-02 6.07844064e-01 3.57228103e-01 1.51834451e-01\n",
            "  3.55724752e-01 2.05522387e-01 5.37803345e-01 7.50072562e-01\n",
            "  3.66586164e-01 8.32867682e-01 7.16524582e-01 2.55401611e-01]\n",
            " [7.77045424e-01 4.95430258e-01 4.40288818e-01 7.18490507e-01\n",
            "  4.08744889e-01 4.28082297e-02 7.60813240e-02 8.65946502e-01\n",
            "  8.22109652e-01 4.61101153e-01 3.85760187e-01 4.33687519e-01\n",
            "  5.82722119e-01 5.90821808e-01 8.60093541e-01 9.09115750e-01\n",
            "  2.73502341e-01 9.41022143e-01 3.36611024e-01 4.67913175e-01\n",
            "  7.48397761e-01 6.20619349e-01 7.53202039e-01 7.92892236e-01\n",
            "  6.16325205e-01 6.69210674e-01 5.05408722e-02 8.01799940e-01\n",
            "  3.32097637e-01 9.33546730e-01 7.38550174e-01 4.05187600e-02\n",
            "  1.49169063e-01 4.52740788e-01 2.26240376e-01 2.34596938e-01\n",
            "  5.41869276e-01 2.09264029e-02 8.35176152e-01 3.26259574e-01\n",
            "  3.46435841e-01 7.10929559e-01 7.82830058e-01 6.97459135e-01\n",
            "  5.04488321e-01 4.92051050e-02 9.95824307e-01 7.39575399e-01\n",
            "  6.77576610e-01 6.32513721e-01 5.90146000e-01 8.50244828e-01\n",
            "  1.31513777e-01 8.60224642e-01 1.26830240e-01 1.46060529e-01\n",
            "  5.93891503e-01 4.44292016e-01 1.69995488e-01 1.04460182e-01\n",
            "  4.68529584e-01 3.17537569e-01 5.51757636e-01 8.67775476e-01\n",
            "  2.47101037e-01 1.88843371e-01 2.16928131e-01 3.21146033e-01\n",
            "  4.38754415e-01 2.62250122e-01 2.19637442e-02 2.39703504e-01\n",
            "  4.03675308e-01 4.24699106e-01 6.93886652e-01 3.12891060e-01\n",
            "  9.80879336e-01 9.81530031e-01 9.15541662e-01 4.33991360e-01\n",
            "  7.58724893e-01 9.82136701e-01 6.50001955e-02 4.79420733e-01\n",
            "  5.17663749e-01 4.76018406e-01 6.68140274e-01 9.18122757e-01\n",
            "  7.33747901e-01 1.58981978e-02 3.86115110e-01 3.48619882e-01\n",
            "  5.45955869e-01 5.48783349e-01 8.45930309e-01 5.91075380e-01\n",
            "  5.10711628e-01 9.98319619e-01 1.90172750e-01 9.65300616e-01]\n",
            " [5.46327754e-01 5.17360757e-01 4.69779025e-01 8.47525999e-01\n",
            "  4.59170886e-01 2.46822486e-01 7.66519449e-01 9.73320663e-01\n",
            "  1.13950670e-01 4.95317238e-01 9.06691250e-01 6.51089545e-02\n",
            "  3.80166868e-01 1.73788006e-01 8.31576662e-02 3.45540087e-01\n",
            "  5.79321578e-01 2.41725310e-01 4.80810281e-01 1.19750115e-01\n",
            "  2.86801971e-02 1.46773377e-03 8.54929375e-02 8.93962352e-01\n",
            "  9.61643506e-01 4.16779393e-01 3.75421884e-01 1.36574231e-01\n",
            "  7.01917440e-01 6.64812460e-01 1.52503537e-01 3.83514692e-01\n",
            "  6.86677161e-01 5.94256029e-01 5.05841445e-01 9.34639872e-01\n",
            "  8.34983688e-02 3.06105554e-01 2.89631613e-01 9.98873840e-01\n",
            "  6.55643920e-01 8.02361446e-01 3.68241506e-02 7.25290627e-01\n",
            "  2.30990753e-01 1.60676792e-01 8.17258659e-01 8.07564602e-01\n",
            "  7.13980656e-01 5.97172986e-02 7.14501470e-01 4.16069647e-01\n",
            "  2.10005944e-01 9.74383660e-02 8.66542302e-01 2.34064767e-01\n",
            "  4.18825646e-01 6.69041323e-01 1.00398978e-01 3.62759216e-01\n",
            "  8.79305484e-01 9.10566609e-01 3.91348772e-01 5.10377014e-01\n",
            "  6.62721907e-01 7.26160385e-01 1.59849312e-01 4.24372515e-01\n",
            "  9.05967592e-01 9.54476600e-02 8.22066504e-01 2.20737593e-01\n",
            "  1.08203175e-01 7.71966972e-01 5.07061559e-01 4.03450654e-01\n",
            "  3.31744249e-01 2.63237654e-01 1.99358356e-01 9.86466949e-01\n",
            "  4.58770774e-01 2.77562500e-03 1.46753116e-01 4.54525469e-01\n",
            "  6.50432901e-01 3.60721048e-01 4.45933673e-02 6.24197221e-02\n",
            "  6.41011415e-01 8.07500379e-01 4.69294208e-01 5.08392184e-01\n",
            "  2.67395911e-01 6.05057330e-01 2.71764292e-01 4.96408140e-01\n",
            "  3.65049528e-02 5.94687890e-01 3.24336092e-02 1.87408768e-01]]\n"
          ],
          "name": "stdout"
        }
      ]
    },
    {
      "cell_type": "code",
      "metadata": {
        "id": "p0E6P5Nq3Zt3",
        "colab_type": "code",
        "colab": {
          "base_uri": "https://localhost:8080/",
          "height": 1000
        },
        "outputId": "d9cf7c4d-d8e3-4a76-fc98-3dab759c48de"
      },
      "source": [
        "print(np.random.rand(4,100))"
      ],
      "execution_count": 51,
      "outputs": [
        {
          "output_type": "stream",
          "text": [
            "[[0.19535011 0.27977635 0.31623696 0.64973043 0.92856592 0.60822374\n",
            "  0.07502959 0.79602371 0.36386231 0.77043967 0.4227477  0.32608172\n",
            "  0.48479762 0.88894146 0.68907035 0.11263334 0.40994089 0.6995638\n",
            "  0.04413174 0.73717782 0.45722577 0.20705014 0.20380092 0.68233685\n",
            "  0.29807451 0.16087133 0.0484447  0.05061563 0.04029923 0.9563811\n",
            "  0.27954342 0.7752405  0.80406199 0.45428896 0.0185945  0.66426332\n",
            "  0.85874085 0.40708126 0.48738857 0.80409744 0.68952108 0.31508779\n",
            "  0.44939105 0.442044   0.04190222 0.26347846 0.22354418 0.9368513\n",
            "  0.56094946 0.23430807 0.09927104 0.78306747 0.17497906 0.40903051\n",
            "  0.0014656  0.42445279 0.24461838 0.58533257 0.00939866 0.89305772\n",
            "  0.32066405 0.18768476 0.7807283  0.97387209 0.52263652 0.01999634\n",
            "  0.80072437 0.20301388 0.41708673 0.01936456 0.45423869 0.82601633\n",
            "  0.08486857 0.38056801 0.69037446 0.14530947 0.37124485 0.11044424\n",
            "  0.08980663 0.80634215 0.88981091 0.79479179 0.96967213 0.35626301\n",
            "  0.505894   0.32141131 0.28338598 0.78846862 0.62908451 0.26413965\n",
            "  0.61759019 0.00342354 0.40676578 0.07894646 0.67672911 0.76582556\n",
            "  0.77772421 0.3834713  0.49061735 0.11266331]\n",
            " [0.98557989 0.9256017  0.78313592 0.61105124 0.83763893 0.93925232\n",
            "  0.88066824 0.08086893 0.29181342 0.96118221 0.42624587 0.65061792\n",
            "  0.09019229 0.13747277 0.75751871 0.15461646 0.12504562 0.11527083\n",
            "  0.30254704 0.65195753 0.25440818 0.09870305 0.18330279 0.59746041\n",
            "  0.42381251 0.37151439 0.54125414 0.97801842 0.39675404 0.21177796\n",
            "  0.86311035 0.87587203 0.3034568  0.52674483 0.9057169  0.24916634\n",
            "  0.33140948 0.9782544  0.16197083 0.80660807 0.04095278 0.96450239\n",
            "  0.65995642 0.68315978 0.55806538 0.56369108 0.31155029 0.05668144\n",
            "  0.92644633 0.90537324 0.38609034 0.30602839 0.9478041  0.04378275\n",
            "  0.82688825 0.52473833 0.69157954 0.77499222 0.03027287 0.07535176\n",
            "  0.50964071 0.09014318 0.18903879 0.71321951 0.36512258 0.96630377\n",
            "  0.44647439 0.62358843 0.93576289 0.56880148 0.24551728 0.6174713\n",
            "  0.95684486 0.16050103 0.79534181 0.6515992  0.25236349 0.51649973\n",
            "  0.15333493 0.12800284 0.95186979 0.20609044 0.47588305 0.17232433\n",
            "  0.58861958 0.53348762 0.52316657 0.67888478 0.27778182 0.63752883\n",
            "  0.09105035 0.70249744 0.46034449 0.63562647 0.0301993  0.45277872\n",
            "  0.64887457 0.28945195 0.68464906 0.11010355]\n",
            " [0.08954293 0.29643611 0.91573641 0.34060529 0.60008467 0.9836731\n",
            "  0.67933326 0.49171104 0.17728878 0.10848812 0.10458127 0.34845846\n",
            "  0.10648714 0.00592717 0.37031917 0.88657562 0.42666402 0.99711967\n",
            "  0.12870245 0.57653814 0.55457649 0.15234685 0.59720576 0.63504565\n",
            "  0.5790668  0.07551147 0.9978874  0.34979744 0.80900591 0.4395217\n",
            "  0.00856326 0.32848173 0.50589084 0.87382043 0.02498202 0.09922832\n",
            "  0.6422296  0.94522247 0.44425647 0.92171228 0.39490681 0.31224205\n",
            "  0.39841641 0.37972729 0.91426865 0.22548366 0.54254989 0.13788307\n",
            "  0.53516118 0.38178435 0.98335106 0.69542152 0.74304461 0.67827808\n",
            "  0.32574394 0.34627465 0.04834607 0.51417359 0.41681167 0.49617904\n",
            "  0.4504229  0.80890431 0.60282768 0.32422473 0.09517694 0.14423935\n",
            "  0.00944385 0.10049549 0.69406199 0.97920171 0.45915455 0.8769972\n",
            "  0.38326365 0.57436115 0.136815   0.28834991 0.01637075 0.63497481\n",
            "  0.35827759 0.5452882  0.74709497 0.83888731 0.79001749 0.30558031\n",
            "  0.10583615 0.35968788 0.8108261  0.70531    0.08860675 0.14365179\n",
            "  0.13606011 0.26223723 0.77930165 0.28567899 0.79212226 0.45999322\n",
            "  0.48026264 0.63722162 0.27931771 0.04124992]\n",
            " [0.98366158 0.01636166 0.59721955 0.68516645 0.82405019 0.9639936\n",
            "  0.27310497 0.83671303 0.789783   0.25296353 0.13319785 0.81214433\n",
            "  0.68379505 0.77297791 0.92543824 0.53088987 0.57117267 0.66637632\n",
            "  0.09569014 0.92085905 0.77118325 0.35262428 0.9209457  0.61105238\n",
            "  0.60051724 0.94361213 0.62885271 0.19016532 0.99524056 0.74072767\n",
            "  0.34265481 0.23231122 0.28460084 0.75135543 0.97700957 0.96858159\n",
            "  0.01814165 0.76325828 0.91319287 0.02087012 0.01129657 0.99673911\n",
            "  0.06977445 0.92185288 0.85916816 0.96147379 0.71117022 0.10540972\n",
            "  0.38563982 0.92399747 0.87581238 0.53089047 0.05367941 0.32412538\n",
            "  0.06138424 0.65166567 0.27427933 0.99747643 0.99788743 0.87406794\n",
            "  0.47809372 0.54655641 0.38646353 0.52744562 0.10364422 0.97217875\n",
            "  0.89922205 0.00115322 0.37310205 0.52932137 0.20207664 0.94972537\n",
            "  0.6005789  0.87161316 0.63502523 0.37437293 0.28784276 0.37739658\n",
            "  0.29745459 0.77752198 0.93403282 0.21667653 0.73617045 0.37015639\n",
            "  0.54771481 0.01227276 0.1419245  0.52870505 0.9720537  0.69642369\n",
            "  0.82498851 0.59499749 0.31103871 0.31814868 0.41057892 0.62336573\n",
            "  0.49135596 0.4919493  0.93965643 0.27666463]]\n"
          ],
          "name": "stdout"
        }
      ]
    },
    {
      "cell_type": "code",
      "metadata": {
        "id": "38JBiGG-3nWP",
        "colab_type": "code",
        "colab": {
          "base_uri": "https://localhost:8080/",
          "height": 108
        },
        "outputId": "3670b3f0-bc4c-4575-aab1-171ffd868ef4"
      },
      "source": [
        "data1,data2,data3,data4 = np.random.rand(4,5)\n",
        "print(type(data1))\n",
        "print('data1=', data1)\n",
        "print('data2=', data2)\n",
        "print('data3=', data3)\n",
        "print('data4=', data4)"
      ],
      "execution_count": 54,
      "outputs": [
        {
          "output_type": "stream",
          "text": [
            "<class 'numpy.ndarray'>\n",
            "data1= [0.01441627 0.55552345 0.59306673 0.44631939 0.50595955]\n",
            "data2= [0.70468663 0.84242035 0.17067407 0.55206701 0.95065937]\n",
            "data3= [0.29955965 0.65037691 0.69207143 0.4505016  0.91358266]\n",
            "data4= [0.67005359 0.77058143 0.16067451 0.28583815 0.25796363]\n"
          ],
          "name": "stdout"
        }
      ]
    },
    {
      "cell_type": "code",
      "metadata": {
        "id": "nqYefyBb4d-t",
        "colab_type": "code",
        "colab": {
          "base_uri": "https://localhost:8080/",
          "height": 338
        },
        "outputId": "72cfe260-4476-4189-8829-f1007adc7bbc"
      },
      "source": [
        "fig, ax = plt.subplots(1,1)\n",
        "my_plotter(ax, data1, data2)"
      ],
      "execution_count": 81,
      "outputs": [
        {
          "output_type": "stream",
          "text": [
            "<class 'matplotlib.axes._subplots.AxesSubplot'>\n",
            "AxesSubplot(0.125,0.125;0.775x0.755)\n",
            "<class 'list'>\n"
          ],
          "name": "stdout"
        },
        {
          "output_type": "execute_result",
          "data": {
            "text/plain": [
              "[<matplotlib.lines.Line2D at 0x7f00084028d0>]"
            ]
          },
          "metadata": {
            "tags": []
          },
          "execution_count": 81
        },
        {
          "output_type": "display_data",
          "data": {
            "image/png": "[encoded data removed]",
            "text/plain": [
              "<Figure size 432x288 with 1 Axes>"
            ]
          },
          "metadata": {
            "tags": [],
            "needs_background": "light"
          }
        }
      ]
    },
    {
      "cell_type": "code",
      "metadata": {
        "id": "frWGmCRT5YGa",
        "colab_type": "code",
        "colab": {
          "base_uri": "https://localhost:8080/",
          "height": 568
        },
        "outputId": "8dc49fc2-7831-481f-b3db-40e37af2b656"
      },
      "source": [
        "fig, ax = plt.subplots(2,2)\n",
        "my_plotter1(ax, data1, data2, data3)"
      ],
      "execution_count": 78,
      "outputs": [
        {
          "output_type": "error",
          "ename": "AttributeError",
          "evalue": "ignored",
          "traceback": [
            "\u001b[0;31m---------------------------------------------------------------------------\u001b[0m",
            "\u001b[0;31mAttributeError\u001b[0m                            Traceback (most recent call last)",
            "\u001b[0;32m<ipython-input-78-895eee2b0d2e>\u001b[0m in \u001b[0;36m<module>\u001b[0;34m()\u001b[0m\n\u001b[1;32m      1\u001b[0m \u001b[0mfig\u001b[0m\u001b[0;34m,\u001b[0m \u001b[0max\u001b[0m \u001b[0;34m=\u001b[0m \u001b[0mplt\u001b[0m\u001b[0;34m.\u001b[0m\u001b[0msubplots\u001b[0m\u001b[0;34m(\u001b[0m\u001b[0;36m2\u001b[0m\u001b[0;34m,\u001b[0m\u001b[0;36m2\u001b[0m\u001b[0;34m)\u001b[0m\u001b[0;34m\u001b[0m\u001b[0;34m\u001b[0m\u001b[0m\n\u001b[0;32m----> 2\u001b[0;31m \u001b[0mmy_plotter1\u001b[0m\u001b[0;34m(\u001b[0m\u001b[0max\u001b[0m\u001b[0;34m,\u001b[0m \u001b[0mdata1\u001b[0m\u001b[0;34m,\u001b[0m \u001b[0mdata2\u001b[0m\u001b[0;34m,\u001b[0m \u001b[0mdata3\u001b[0m\u001b[0;34m)\u001b[0m\u001b[0;34m\u001b[0m\u001b[0;34m\u001b[0m\u001b[0m\n\u001b[0m",
            "\u001b[0;32m<ipython-input-77-da73c44c00ed>\u001b[0m in \u001b[0;36mmy_plotter1\u001b[0;34m(ax, data1, data2, data3)\u001b[0m\n\u001b[1;32m      3\u001b[0m   \u001b[0;31m# data1 : x data array\u001b[0m\u001b[0;34m\u001b[0m\u001b[0;34m\u001b[0m\u001b[0;34m\u001b[0m\u001b[0m\n\u001b[1;32m      4\u001b[0m   \u001b[0;31m# data2: y data array\u001b[0m\u001b[0;34m\u001b[0m\u001b[0;34m\u001b[0m\u001b[0;34m\u001b[0m\u001b[0m\n\u001b[0;32m----> 5\u001b[0;31m   \u001b[0mout\u001b[0m \u001b[0;34m=\u001b[0m \u001b[0max\u001b[0m\u001b[0;34m.\u001b[0m\u001b[0mplot\u001b[0m\u001b[0;34m(\u001b[0m\u001b[0mdata1\u001b[0m\u001b[0;34m,\u001b[0m\u001b[0mdata2\u001b[0m\u001b[0;34m,\u001b[0m\u001b[0mdata3\u001b[0m\u001b[0;34m)\u001b[0m\u001b[0;34m\u001b[0m\u001b[0;34m\u001b[0m\u001b[0m\n\u001b[0m\u001b[1;32m      6\u001b[0m   \u001b[0mprint\u001b[0m\u001b[0;34m(\u001b[0m\u001b[0mtype\u001b[0m\u001b[0;34m(\u001b[0m\u001b[0mout\u001b[0m\u001b[0;34m)\u001b[0m\u001b[0;34m)\u001b[0m \u001b[0;31m#list, list of artists\u001b[0m\u001b[0;34m\u001b[0m\u001b[0;34m\u001b[0m\u001b[0m\n\u001b[1;32m      7\u001b[0m   \u001b[0;32mreturn\u001b[0m \u001b[0mout\u001b[0m\u001b[0;34m\u001b[0m\u001b[0;34m\u001b[0m\u001b[0m\n",
            "\u001b[0;31mAttributeError\u001b[0m: 'numpy.ndarray' object has no attribute 'plot'"
          ]
        },
        {
          "output_type": "display_data",
          "data": {
            "image/png": "[encoded data removed]",
            "text/plain": [
              "<Figure size 432x288 with 4 Axes>"
            ]
          },
          "metadata": {
            "tags": [],
            "needs_background": "light"
          }
        }
      ]
    },
    {
      "cell_type": "code",
      "metadata": {
        "id": "tkDsGl0G7eP2",
        "colab_type": "code",
        "colab": {}
      },
      "source": [
        ""
      ],
      "execution_count": 0,
      "outputs": []
    }
  ]
}