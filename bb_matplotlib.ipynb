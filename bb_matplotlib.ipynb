{
  "nbformat": 4,
  "nbformat_minor": 0,
  "metadata": {
    "colab": {
      "name": "bb matplotlib.ipynb",
      "provenance": [],
      "authorship_tag": "ABX9TyOkItVM7yYElm1S78FJuYwj",
      "include_colab_link": true
    },
    "kernelspec": {
      "name": "python3",
      "display_name": "Python 3"
    }
  },
  "cells": [
    {
      "cell_type": "markdown",
      "metadata": {
        "id": "view-in-github",
        "colab_type": "text"
      },
      "source": [
        "<a href=\"https://colab.research.google.com/github/ulrikSebastienR/Colab-python-diaries/blob/master/bb_matplotlib.ipynb\" target=\"_parent\"><img src=\"https://colab.research.google.com/assets/colab-badge.svg\" alt=\"Open In Colab\"/></a>"
      ]
    },
    {
      "cell_type": "code",
      "metadata": {
        "id": "qIHb527Wok3r",
        "colab_type": "code",
        "colab": {}
      },
      "source": [
        "#https://matplotlib.org/tutorials/introductory/usage.html#figure-parts\n",
        "import matplotlib.pyplot as plt\n",
        "import numpy as np"
      ],
      "execution_count": 0,
      "outputs": []
    },
    {
      "cell_type": "code",
      "metadata": {
        "id": "e7cNiPnnovmz",
        "colab_type": "code",
        "outputId": "de29bd93-2687-4baf-cd6c-eb7af21a89c9",
        "colab": {
          "base_uri": "https://localhost:8080/",
          "height": 53
        }
      },
      "source": [
        "x1 = np.linspace(0,100, 10) \n",
        "print(x1)"
      ],
      "execution_count": 2,
      "outputs": [
        {
          "output_type": "stream",
          "text": [
            "[  0.          11.11111111  22.22222222  33.33333333  44.44444444\n",
            "  55.55555556  66.66666667  77.77777778  88.88888889 100.        ]\n"
          ],
          "name": "stdout"
        }
      ]
    },
    {
      "cell_type": "code",
      "metadata": {
        "id": "qLxR5F2Jo_Zk",
        "colab_type": "code",
        "outputId": "1882bf63-e2e0-453b-f479-15872bc36f16",
        "colab": {
          "base_uri": "https://localhost:8080/",
          "height": 35
        }
      },
      "source": [
        "x2 = np.linspace(0,100,2)\n",
        "print(x2)"
      ],
      "execution_count": 3,
      "outputs": [
        {
          "output_type": "stream",
          "text": [
            "[  0. 100.]\n"
          ],
          "name": "stdout"
        }
      ]
    },
    {
      "cell_type": "code",
      "metadata": {
        "id": "ddH2x7svpAvz",
        "colab_type": "code",
        "outputId": "883746b3-d3cb-42ad-99dd-f46e035dbce4",
        "colab": {
          "base_uri": "https://localhost:8080/",
          "height": 326
        }
      },
      "source": [
        "x = np.linspace(0,2,100)\n",
        "print(x)"
      ],
      "execution_count": 4,
      "outputs": [
        {
          "output_type": "stream",
          "text": [
            "[0.         0.02020202 0.04040404 0.06060606 0.08080808 0.1010101\n",
            " 0.12121212 0.14141414 0.16161616 0.18181818 0.2020202  0.22222222\n",
            " 0.24242424 0.26262626 0.28282828 0.3030303  0.32323232 0.34343434\n",
            " 0.36363636 0.38383838 0.4040404  0.42424242 0.44444444 0.46464646\n",
            " 0.48484848 0.50505051 0.52525253 0.54545455 0.56565657 0.58585859\n",
            " 0.60606061 0.62626263 0.64646465 0.66666667 0.68686869 0.70707071\n",
            " 0.72727273 0.74747475 0.76767677 0.78787879 0.80808081 0.82828283\n",
            " 0.84848485 0.86868687 0.88888889 0.90909091 0.92929293 0.94949495\n",
            " 0.96969697 0.98989899 1.01010101 1.03030303 1.05050505 1.07070707\n",
            " 1.09090909 1.11111111 1.13131313 1.15151515 1.17171717 1.19191919\n",
            " 1.21212121 1.23232323 1.25252525 1.27272727 1.29292929 1.31313131\n",
            " 1.33333333 1.35353535 1.37373737 1.39393939 1.41414141 1.43434343\n",
            " 1.45454545 1.47474747 1.49494949 1.51515152 1.53535354 1.55555556\n",
            " 1.57575758 1.5959596  1.61616162 1.63636364 1.65656566 1.67676768\n",
            " 1.6969697  1.71717172 1.73737374 1.75757576 1.77777778 1.7979798\n",
            " 1.81818182 1.83838384 1.85858586 1.87878788 1.8989899  1.91919192\n",
            " 1.93939394 1.95959596 1.97979798 2.        ]\n"
          ],
          "name": "stdout"
        }
      ]
    },
    {
      "cell_type": "code",
      "metadata": {
        "id": "iiq-bIEipLWs",
        "colab_type": "code",
        "outputId": "7e9f2bab-9dd6-4555-b23b-c976ff6c866f",
        "colab": {
          "base_uri": "https://localhost:8080/",
          "height": 269
        }
      },
      "source": [
        "fig,ax = plt.subplots() #https://stackoverflow.com/questions/34162443/why-do-many-examples-use-fig-ax-plt-subplots-in-matplotlib-pyplot-python"
      ],
      "execution_count": 5,
      "outputs": [
        {
          "output_type": "display_data",
          "data": {
            "image/png": "[encoded data removed]",
            "text/plain": [
              "<Figure size 432x288 with 1 Axes>"
            ]
          },
          "metadata": {
            "tags": [],
            "needs_background": "light"
          }
        }
      ]
    },
    {
      "cell_type": "code",
      "metadata": {
        "id": "_cwWR_dOMJiY",
        "colab_type": "code",
        "outputId": "d43f0907-4a5b-4c0e-e4d6-b74c5d306b0a",
        "colab": {
          "base_uri": "https://localhost:8080/",
          "height": 35
        }
      },
      "source": [
        "ax.plot([1,2,3,4],[1,4,2,3])"
      ],
      "execution_count": 6,
      "outputs": [
        {
          "output_type": "execute_result",
          "data": {
            "text/plain": [
              "[<matplotlib.lines.Line2D at 0x7f0219235e80>]"
            ]
          },
          "metadata": {
            "tags": []
          },
          "execution_count": 6
        }
      ]
    },
    {
      "cell_type": "code",
      "metadata": {
        "id": "ZNXQv_IOM50K",
        "colab_type": "code",
        "outputId": "8bb28485-6ea9-48f6-af39-52e5daceb3c1",
        "colab": {
          "base_uri": "https://localhost:8080/",
          "height": 35
        }
      },
      "source": [
        "fig = plt.figure()"
      ],
      "execution_count": 7,
      "outputs": [
        {
          "output_type": "display_data",
          "data": {
            "text/plain": [
              "<Figure size 432x288 with 0 Axes>"
            ]
          },
          "metadata": {
            "tags": []
          }
        }
      ]
    },
    {
      "cell_type": "code",
      "metadata": {
        "id": "o3WT7ILbNNPb",
        "colab_type": "code",
        "outputId": "8b583264-c3d1-40de-a34b-228c33354013",
        "colab": {
          "base_uri": "https://localhost:8080/",
          "height": 269
        }
      },
      "source": [
        "fig, ax = plt.subplots()"
      ],
      "execution_count": 8,
      "outputs": [
        {
          "output_type": "display_data",
          "data": {
            "image/png": "[encoded data removed]",
            "text/plain": [
              "<Figure size 432x288 with 1 Axes>"
            ]
          },
          "metadata": {
            "tags": [],
            "needs_background": "light"
          }
        }
      ]
    },
    {
      "cell_type": "code",
      "metadata": {
        "id": "68FhRAfVzkY0",
        "colab_type": "code",
        "outputId": "dd206d69-dd3d-4b1b-a76d-cbb6c00afcaa",
        "colab": {
          "base_uri": "https://localhost:8080/",
          "height": 269
        }
      },
      "source": [
        "fig, ax = plt.subplots(1)"
      ],
      "execution_count": 9,
      "outputs": [
        {
          "output_type": "display_data",
          "data": {
            "image/png": "[encoded data removed]",
            "text/plain": [
              "<Figure size 432x288 with 1 Axes>"
            ]
          },
          "metadata": {
            "tags": [],
            "needs_background": "light"
          }
        }
      ]
    },
    {
      "cell_type": "code",
      "metadata": {
        "id": "yPTFBbmBztjx",
        "colab_type": "code",
        "outputId": "96bd0274-ae7a-467b-bcf1-56f0d5ef69eb",
        "colab": {
          "base_uri": "https://localhost:8080/",
          "height": 269
        }
      },
      "source": [
        "fig,ax = plt.subplots(1,1)"
      ],
      "execution_count": 10,
      "outputs": [
        {
          "output_type": "display_data",
          "data": {
            "image/png": "[encoded data removed]",
            "text/plain": [
              "<Figure size 432x288 with 1 Axes>"
            ]
          },
          "metadata": {
            "tags": [],
            "needs_background": "light"
          }
        }
      ]
    },
    {
      "cell_type": "code",
      "metadata": {
        "id": "M03Vc6YkNNj6",
        "colab_type": "code",
        "outputId": "bb76d15f-089f-49ba-80b2-f2f1bbc1c26b",
        "colab": {
          "base_uri": "https://localhost:8080/",
          "height": 269
        }
      },
      "source": [
        "fig, axs = plt.subplots(2,2)"
      ],
      "execution_count": 11,
      "outputs": [
        {
          "output_type": "display_data",
          "data": {
            "image/png": "[encoded data removed]",
            "text/plain": [
              "<Figure size 432x288 with 4 Axes>"
            ]
          },
          "metadata": {
            "tags": [],
            "needs_background": "light"
          }
        }
      ]
    },
    {
      "cell_type": "code",
      "metadata": {
        "id": "IFmW4LmGNNKS",
        "colab_type": "code",
        "outputId": "f89fe9d1-bc0a-4444-973a-2031f49e7651",
        "colab": {
          "base_uri": "https://localhost:8080/",
          "height": 269
        }
      },
      "source": [
        "fig, axs = plt.subplots(1,2)"
      ],
      "execution_count": 12,
      "outputs": [
        {
          "output_type": "display_data",
          "data": {
            "image/png": "[encoded data removed]",
            "text/plain": [
              "<Figure size 432x288 with 2 Axes>"
            ]
          },
          "metadata": {
            "tags": [],
            "needs_background": "light"
          }
        }
      ]
    },
    {
      "cell_type": "code",
      "metadata": {
        "id": "x1UpfldUO4i9",
        "colab_type": "code",
        "outputId": "cdad4d11-a45e-42dc-935d-c3b2963613a3",
        "colab": {
          "base_uri": "https://localhost:8080/",
          "height": 269
        }
      },
      "source": [
        "fig, axs = plt.subplots(2,3)"
      ],
      "execution_count": 13,
      "outputs": [
        {
          "output_type": "display_data",
          "data": {
            "image/png": "[encoded data removed]",
            "text/plain": [
              "<Figure size 432x288 with 6 Axes>"
            ]
          },
          "metadata": {
            "tags": [],
            "needs_background": "light"
          }
        }
      ]
    },
    {
      "cell_type": "code",
      "metadata": {
        "id": "Tv0eQPsjO43Z",
        "colab_type": "code",
        "outputId": "e35827c3-cae9-43e6-a27e-2a463bc1992c",
        "colab": {
          "base_uri": "https://localhost:8080/",
          "height": 269
        }
      },
      "source": [
        "fig, axs = plt.subplots( 1,3)"
      ],
      "execution_count": 14,
      "outputs": [
        {
          "output_type": "display_data",
          "data": {
            "image/png": "[encoded data removed]",
            "text/plain": [
              "<Figure size 432x288 with 3 Axes>"
            ]
          },
          "metadata": {
            "tags": [],
            "needs_background": "light"
          }
        }
      ]
    },
    {
      "cell_type": "code",
      "metadata": {
        "id": "ee4aiXhhPi0w",
        "colab_type": "code",
        "outputId": "e6f6344d-5e7c-48b2-cf1f-d96eb7283f88",
        "colab": {
          "base_uri": "https://localhost:8080/",
          "height": 108
        }
      },
      "source": [
        "print(np.random.rand(5,1))"
      ],
      "execution_count": 15,
      "outputs": [
        {
          "output_type": "stream",
          "text": [
            "[[0.51827143]\n",
            " [0.24602706]\n",
            " [0.86256622]\n",
            " [0.60619032]\n",
            " [0.30305739]]\n"
          ],
          "name": "stdout"
        }
      ]
    },
    {
      "cell_type": "code",
      "metadata": {
        "id": "tSp52RqKPjLV",
        "colab_type": "code",
        "outputId": "264bff09-ff3c-45f7-acda-4a83910e44ef",
        "colab": {
          "base_uri": "https://localhost:8080/",
          "height": 35
        }
      },
      "source": [
        "print(type(np.random.rand(3,7)))"
      ],
      "execution_count": 16,
      "outputs": [
        {
          "output_type": "stream",
          "text": [
            "<class 'numpy.ndarray'>\n"
          ],
          "name": "stdout"
        }
      ]
    },
    {
      "cell_type": "code",
      "metadata": {
        "id": "pGmtoa84PjaI",
        "colab_type": "code",
        "outputId": "9fbdd586-2669-48eb-fd5f-7218e19b0db8",
        "colab": {
          "base_uri": "https://localhost:8080/",
          "height": 53
        }
      },
      "source": [
        "print(np.zeros((2,3)))"
      ],
      "execution_count": 17,
      "outputs": [
        {
          "output_type": "stream",
          "text": [
            "[[0. 0. 0.]\n",
            " [0. 0. 0.]]\n"
          ],
          "name": "stdout"
        }
      ]
    },
    {
      "cell_type": "code",
      "metadata": {
        "id": "cYiEitnxTFhD",
        "colab_type": "code",
        "outputId": "ca5f9cf2-6352-41d4-f5a0-2f53a7fd3580",
        "colab": {
          "base_uri": "https://localhost:8080/",
          "height": 126
        }
      },
      "source": [
        "arr = np.ones((3,5))\n",
        "print(arr)\n",
        "print(type(arr))\n",
        "print('dim =', arr.ndim)\n",
        "print(arr.shape)\n"
      ],
      "execution_count": 18,
      "outputs": [
        {
          "output_type": "stream",
          "text": [
            "[[1. 1. 1. 1. 1.]\n",
            " [1. 1. 1. 1. 1.]\n",
            " [1. 1. 1. 1. 1.]]\n",
            "<class 'numpy.ndarray'>\n",
            "dim = 2\n",
            "(3, 5)\n"
          ],
          "name": "stdout"
        }
      ]
    },
    {
      "cell_type": "code",
      "metadata": {
        "id": "Yq-X_EHMTF9J",
        "colab_type": "code",
        "colab": {}
      },
      "source": [
        ""
      ],
      "execution_count": 0,
      "outputs": []
    },
    {
      "cell_type": "code",
      "metadata": {
        "id": "OsHexvRep38v",
        "colab_type": "code",
        "outputId": "e4e31852-eaf5-4fd0-cf97-08893bdae2b6",
        "colab": {
          "base_uri": "https://localhost:8080/",
          "height": 35
        }
      },
      "source": [
        "ax.plot(x,x,label = 'linear')"
      ],
      "execution_count": 19,
      "outputs": [
        {
          "output_type": "execute_result",
          "data": {
            "text/plain": [
              "[<matplotlib.lines.Line2D at 0x7f0218bc8940>]"
            ]
          },
          "metadata": {
            "tags": []
          },
          "execution_count": 19
        }
      ]
    },
    {
      "cell_type": "code",
      "metadata": {
        "id": "yT3iBiQcqd2x",
        "colab_type": "code",
        "outputId": "65f38383-9a07-4158-d221-14d008c5406c",
        "colab": {
          "base_uri": "https://localhost:8080/",
          "height": 35
        }
      },
      "source": [
        "ax.plot(x, x**2, label = 'quadratic')"
      ],
      "execution_count": 20,
      "outputs": [
        {
          "output_type": "execute_result",
          "data": {
            "text/plain": [
              "[<matplotlib.lines.Line2D at 0x7f0218a1b2e8>]"
            ]
          },
          "metadata": {
            "tags": []
          },
          "execution_count": 20
        }
      ]
    },
    {
      "cell_type": "code",
      "metadata": {
        "id": "7YfZXHxzq0GY",
        "colab_type": "code",
        "colab": {}
      },
      "source": [
        "def my_plotter(ax, data1, data2):\n",
        "  # ax : the axes to draw to\n",
        "  # data1 : x data array\n",
        "  # data2: y data array\n",
        "  out = ax.plot(data1,data2)\n",
        "  print(type(ax))\n",
        "  print(ax)\n",
        "  print(type(out)) #list, list of artists\n",
        "  return out"
      ],
      "execution_count": 0,
      "outputs": []
    },
    {
      "cell_type": "code",
      "metadata": {
        "id": "JSbdpZU37N4n",
        "colab_type": "code",
        "colab": {}
      },
      "source": [
        "def my_plotter1(ax, data1, data2, data3):\n",
        "  # ax : the axes to draw to\n",
        "  # data1 : x data array\n",
        "  # data2: y data array\n",
        "  out = ax.plot(data1,data2,data3)\n",
        "  print(type(out)) #list, list of artists\n",
        "  return out"
      ],
      "execution_count": 0,
      "outputs": []
    },
    {
      "cell_type": "code",
      "metadata": {
        "id": "2EiOYNd819QJ",
        "colab_type": "code",
        "outputId": "38e7a0a3-afa5-4c01-bfdf-9c11332f6258",
        "colab": {
          "base_uri": "https://localhost:8080/",
          "height": 1000
        }
      },
      "source": [
        "print(np.random.rand(4,100))"
      ],
      "execution_count": 23,
      "outputs": [
        {
          "output_type": "stream",
          "text": [
            "[[9.51257840e-01 6.60483115e-01 7.83116765e-01 8.18531109e-01\n",
            "  1.61493907e-01 8.21179870e-01 5.75655590e-01 3.09811835e-02\n",
            "  6.58964739e-01 8.71957439e-01 7.16661605e-01 4.32649164e-01\n",
            "  5.26565188e-01 8.26296219e-01 3.25534839e-01 8.49074896e-01\n",
            "  4.87651587e-01 2.38486767e-01 9.91775256e-01 1.79291940e-01\n",
            "  1.13055180e-01 6.97905019e-01 8.70567625e-01 1.12512618e-01\n",
            "  7.17669599e-01 9.58476679e-01 8.39155197e-01 9.63746357e-02\n",
            "  7.78155111e-02 1.49227673e-01 9.04646020e-01 8.01527450e-01\n",
            "  7.01932060e-01 6.17087123e-01 7.40995520e-01 5.20954951e-01\n",
            "  4.55293214e-01 4.97432115e-02 8.63876787e-01 8.28316825e-01\n",
            "  8.18409866e-01 3.98793069e-01 9.85652968e-01 6.37310383e-01\n",
            "  4.08371590e-01 1.39799280e-01 7.15697130e-01 9.57396220e-01\n",
            "  7.23830688e-01 5.68111440e-01 2.78747759e-01 2.98448586e-01\n",
            "  2.27289492e-01 3.00224675e-01 6.72671263e-02 7.60359051e-01\n",
            "  2.42933346e-02 3.82630826e-01 9.42387482e-01 5.88670488e-01\n",
            "  1.41098391e-01 9.94633715e-01 9.67671149e-01 7.91552473e-01\n",
            "  2.31263477e-01 2.50889096e-01 2.08756127e-01 3.22505596e-01\n",
            "  6.47384215e-01 8.73264330e-01 5.98808164e-01 3.91799451e-01\n",
            "  7.86769153e-01 2.08420623e-01 4.94749997e-01 7.74696169e-01\n",
            "  4.19025143e-01 2.25338680e-01 6.41948959e-01 9.73490944e-01\n",
            "  7.55480284e-01 4.07896718e-01 3.16109514e-01 2.70828112e-01\n",
            "  3.57857048e-01 7.20425474e-01 4.48313727e-01 9.19683898e-01\n",
            "  4.78853987e-01 5.40628753e-01 9.08978615e-01 2.36486292e-01\n",
            "  1.13564224e-01 5.52895478e-01 3.87667437e-01 8.35732826e-01\n",
            "  1.33222719e-01 4.75998118e-01 6.55959085e-01 9.18302758e-01]\n",
            " [9.26773566e-01 4.44390844e-01 7.23531396e-01 4.45412411e-02\n",
            "  5.07246418e-01 4.00412273e-01 3.35460227e-03 9.00163899e-01\n",
            "  5.19617765e-01 3.10329907e-01 8.67518522e-01 5.95947558e-01\n",
            "  4.46900546e-01 2.95072168e-01 9.04023815e-01 6.92808699e-01\n",
            "  2.46718054e-01 2.04371175e-01 6.16106190e-01 1.31824445e-01\n",
            "  3.60828353e-01 8.82718045e-01 9.99318471e-01 7.85816352e-01\n",
            "  3.94535334e-01 9.27985214e-01 5.04137179e-01 8.14933347e-01\n",
            "  2.85126553e-01 5.55310623e-01 8.53252373e-01 8.58991026e-02\n",
            "  8.87174878e-01 6.13251909e-01 1.09023042e-01 9.06709264e-01\n",
            "  2.62344304e-01 7.55840259e-01 7.90390251e-01 3.63294919e-01\n",
            "  9.43607816e-01 1.53053139e-01 6.41742552e-01 5.52944749e-01\n",
            "  9.68670083e-01 5.24267834e-01 1.27220519e-01 9.66965984e-01\n",
            "  1.81370829e-01 7.52305795e-01 9.17554223e-01 6.80143947e-01\n",
            "  5.44486593e-01 1.02722000e-01 1.22620546e-01 4.12969301e-01\n",
            "  2.62638834e-01 7.65744370e-01 7.76257251e-01 8.20956102e-01\n",
            "  1.75614409e-01 7.49607847e-01 7.99688338e-01 6.73559301e-01\n",
            "  2.59759102e-01 3.58000722e-01 6.91736751e-01 6.13098052e-01\n",
            "  6.66291384e-01 8.63079449e-01 5.05880983e-01 2.14834341e-02\n",
            "  1.24608265e-01 8.94357780e-01 9.14452865e-01 5.69309295e-01\n",
            "  9.00689211e-01 1.81761184e-02 6.39053095e-01 3.46691256e-01\n",
            "  3.77748913e-01 7.67135573e-02 4.48226175e-01 5.45674312e-01\n",
            "  6.88242005e-01 8.45919511e-01 7.12830404e-01 8.80620627e-01\n",
            "  5.98352432e-02 8.32273480e-01 6.98917311e-01 2.04045421e-01\n",
            "  8.46046022e-01 6.58273474e-01 7.75271778e-02 1.73348367e-01\n",
            "  9.43119564e-01 5.10443600e-01 1.23503551e-01 5.07101230e-01]\n",
            " [9.50396216e-01 5.52268284e-01 8.57471943e-01 8.52164678e-02\n",
            "  5.20825259e-01 9.92923287e-01 4.42711678e-01 9.01992221e-01\n",
            "  6.02346114e-01 6.44118216e-01 9.75504157e-01 7.47481250e-02\n",
            "  2.28535671e-01 1.19701528e-04 2.63711936e-01 7.00592984e-01\n",
            "  8.54377802e-02 4.57813807e-01 6.35741299e-01 6.32859339e-02\n",
            "  1.23187127e-01 7.22046556e-01 8.27520999e-01 7.94115325e-02\n",
            "  8.76615178e-01 2.62550192e-01 6.79059004e-01 7.73034235e-01\n",
            "  7.11934403e-01 8.18370509e-01 9.60751894e-01 6.97106858e-01\n",
            "  7.69186215e-02 2.33636024e-01 6.95953029e-01 1.38839914e-01\n",
            "  2.90632358e-01 1.93381622e-01 7.05581605e-01 3.30395957e-01\n",
            "  8.81526872e-01 8.91358107e-01 9.76614855e-01 6.93266070e-01\n",
            "  8.64935208e-01 9.38472783e-01 9.97372829e-01 4.15941484e-01\n",
            "  1.41237491e-01 4.73597529e-01 4.65640484e-01 3.51469526e-01\n",
            "  3.57508344e-01 5.78342495e-01 6.30064880e-01 1.63378912e-01\n",
            "  3.88674730e-01 7.85128406e-01 9.55170143e-01 8.23647597e-01\n",
            "  9.03749564e-01 4.36306624e-01 2.87392816e-01 4.78260526e-02\n",
            "  2.12555531e-01 8.57822966e-01 8.17651999e-01 5.91069259e-01\n",
            "  8.71239324e-01 2.52261377e-01 3.84947344e-02 9.34426223e-01\n",
            "  8.50305655e-01 2.68806718e-01 1.52818585e-01 4.43709461e-01\n",
            "  6.90695686e-01 9.81514897e-01 9.06175852e-03 7.69938879e-01\n",
            "  2.34533199e-01 1.88341567e-01 6.32591110e-02 1.69990518e-01\n",
            "  9.41594405e-01 3.23844290e-01 5.72880835e-01 3.76235157e-02\n",
            "  2.62099887e-01 7.92340245e-01 8.10908285e-01 2.82460988e-01\n",
            "  2.99625442e-01 5.32567928e-01 3.73102211e-02 5.06171222e-01\n",
            "  8.00945323e-01 1.00379429e-01 4.15540986e-01 2.28467154e-01]\n",
            " [4.30386861e-01 5.41051302e-01 7.73783147e-01 7.71035143e-01\n",
            "  7.28587392e-01 5.87825670e-02 9.71890808e-01 5.48508875e-01\n",
            "  5.97118729e-01 5.71985514e-01 5.94192231e-01 3.00475456e-01\n",
            "  2.03416091e-01 1.00581003e-01 3.14971789e-01 1.47235784e-01\n",
            "  7.27492843e-01 1.53194684e-02 7.92621296e-01 4.34661081e-01\n",
            "  4.34908721e-01 6.95365122e-01 7.68472303e-01 2.18054570e-01\n",
            "  7.68394412e-01 4.63470500e-01 5.94874701e-01 2.22325342e-01\n",
            "  3.66022364e-01 2.97203809e-01 3.26769341e-01 7.25965480e-01\n",
            "  9.62501760e-01 5.90878749e-01 4.24547473e-01 1.54720997e-01\n",
            "  2.76816699e-01 6.21599375e-01 7.16294265e-01 1.97475959e-01\n",
            "  8.71955852e-01 2.78395676e-01 2.87640274e-02 7.36413431e-01\n",
            "  3.58399308e-01 8.41757387e-01 5.14200018e-01 1.54198686e-02\n",
            "  7.28224387e-01 7.52751896e-01 9.34677178e-01 2.82756800e-01\n",
            "  1.85497592e-01 1.76558179e-01 7.68277185e-01 3.49078434e-01\n",
            "  4.30596032e-02 4.33111236e-01 9.16646582e-01 2.62259519e-01\n",
            "  3.60003774e-01 5.50201142e-01 3.30319964e-01 6.32762214e-02\n",
            "  8.07959190e-01 8.42220108e-01 9.78639597e-01 2.72205364e-01\n",
            "  8.77302393e-01 5.27897732e-01 9.08092234e-01 4.19096774e-01\n",
            "  1.56963670e-01 1.83646813e-01 2.84219884e-01 8.94696109e-02\n",
            "  8.90902783e-01 9.98524280e-01 8.00483770e-01 8.63584106e-01\n",
            "  6.21101312e-01 4.96835618e-01 7.58169110e-01 6.32387025e-01\n",
            "  7.17555177e-01 5.58351144e-01 1.23241458e-01 9.28555945e-01\n",
            "  5.01984442e-01 4.06652607e-01 4.53423019e-01 8.29591092e-01\n",
            "  4.75011981e-01 7.87467045e-01 8.16592002e-01 5.74387690e-01\n",
            "  7.89073257e-01 7.68908359e-01 8.42722455e-02 8.83575009e-01]]\n"
          ],
          "name": "stdout"
        }
      ]
    },
    {
      "cell_type": "code",
      "metadata": {
        "id": "p0E6P5Nq3Zt3",
        "colab_type": "code",
        "outputId": "bca999fa-d636-4094-8e46-06ee2ddeb749",
        "colab": {
          "base_uri": "https://localhost:8080/",
          "height": 1000
        }
      },
      "source": [
        "print(np.random.rand(4,100))"
      ],
      "execution_count": 24,
      "outputs": [
        {
          "output_type": "stream",
          "text": [
            "[[4.77949926e-01 1.77578198e-01 1.94608471e-01 5.40403827e-02\n",
            "  1.90458203e-01 6.21994361e-01 2.73369998e-01 2.45519881e-01\n",
            "  8.83626317e-01 6.74581658e-01 6.97653388e-01 9.86487576e-01\n",
            "  4.35407596e-01 8.92912446e-01 1.12252366e-01 2.76663103e-01\n",
            "  4.88045624e-02 6.70516129e-02 2.35017824e-01 9.33215192e-01\n",
            "  1.64659682e-01 5.96131113e-01 8.05458056e-01 5.66747040e-01\n",
            "  9.32934615e-01 1.93469807e-01 9.93471629e-01 7.30608111e-02\n",
            "  2.02995182e-01 7.23421471e-01 8.85171037e-02 2.04629953e-02\n",
            "  8.49341558e-01 1.05822186e-01 5.06612315e-01 5.83219576e-02\n",
            "  8.57394842e-01 6.45785954e-01 6.41217556e-01 6.20031522e-01\n",
            "  5.85052113e-01 4.51792412e-01 1.06945014e-01 7.78055268e-01\n",
            "  2.92637503e-01 7.92709876e-01 8.21353104e-01 6.99181667e-01\n",
            "  7.60977774e-02 7.98839932e-02 4.83117616e-01 3.73230634e-01\n",
            "  9.44216671e-01 1.83553539e-01 6.70308035e-02 3.16593201e-01\n",
            "  7.02815522e-01 2.49173600e-01 8.67532974e-01 1.02376523e-01\n",
            "  8.45670182e-01 9.64992449e-01 5.26723009e-01 4.83003078e-02\n",
            "  8.07267021e-01 7.54798292e-01 1.85291614e-01 2.10259699e-01\n",
            "  3.06503519e-01 3.95076020e-03 4.93473887e-01 7.75706519e-01\n",
            "  5.18939230e-02 4.85544676e-01 7.00413762e-01 8.59275577e-01\n",
            "  2.01378841e-01 6.34000309e-01 9.16008469e-02 4.41933446e-01\n",
            "  9.33432713e-02 1.98500584e-01 5.73454282e-01 1.68964420e-01\n",
            "  9.06671367e-01 4.25817679e-01 3.73031976e-02 2.88625528e-01\n",
            "  8.98805146e-01 9.51521464e-01 9.13704000e-01 1.01092684e-01\n",
            "  7.89622060e-01 7.00000860e-01 1.66478708e-01 7.27210078e-01\n",
            "  6.69387363e-01 2.46156951e-01 3.35985311e-01 5.46615759e-03]\n",
            " [6.58086672e-02 6.66061098e-01 6.74722836e-01 7.86755561e-01\n",
            "  2.74831973e-01 2.97295046e-01 3.28321146e-01 9.63540208e-01\n",
            "  9.27526975e-01 5.84357052e-01 3.59223825e-02 5.78999475e-01\n",
            "  3.73388620e-02 8.92292192e-02 3.01940644e-01 8.23032348e-02\n",
            "  3.95221039e-01 9.49925235e-01 1.82160465e-01 2.77554032e-01\n",
            "  5.23845944e-02 5.45434972e-01 8.37833437e-01 4.29191978e-01\n",
            "  5.50364520e-01 9.87197396e-01 5.17112888e-01 4.05824078e-01\n",
            "  1.04235149e-01 9.76214282e-01 4.31998394e-01 7.97868960e-02\n",
            "  2.91368229e-01 3.01792289e-01 4.51584768e-01 8.43176255e-01\n",
            "  2.27531630e-01 4.55330923e-01 2.13592095e-01 1.48653677e-01\n",
            "  3.92114488e-01 3.58144342e-01 4.61468545e-01 3.96397381e-01\n",
            "  3.64483041e-01 5.35643385e-01 3.85472408e-01 3.88330891e-02\n",
            "  4.85153816e-01 9.91622055e-01 6.56223774e-01 2.93717018e-01\n",
            "  6.00586341e-02 8.38198913e-01 2.97638811e-01 1.29192095e-01\n",
            "  6.04117056e-04 6.12547797e-01 3.18325196e-01 1.19935054e-01\n",
            "  1.20612821e-01 9.31314729e-01 7.00760854e-01 4.72368366e-01\n",
            "  2.49170792e-01 5.72841941e-01 2.71460308e-01 5.08020853e-01\n",
            "  4.46279746e-01 3.76223202e-01 4.68578284e-01 8.54850734e-01\n",
            "  3.15884274e-01 6.54349237e-01 2.85676675e-01 5.68903746e-01\n",
            "  9.72051969e-01 8.38262900e-01 2.24643600e-01 6.36229074e-01\n",
            "  5.81088683e-01 1.30330195e-01 3.79221311e-01 2.49892143e-01\n",
            "  1.42865333e-01 4.31157779e-01 8.07935091e-01 7.84486180e-01\n",
            "  5.61480990e-02 1.40678315e-01 3.22634850e-01 2.89546523e-01\n",
            "  9.92083868e-01 2.50728612e-01 8.09034968e-01 1.17453294e-01\n",
            "  6.52647988e-01 7.08629575e-01 6.35256603e-01 3.47487583e-02]\n",
            " [7.75681372e-01 9.25899754e-01 2.71457531e-01 8.72560351e-01\n",
            "  9.47950973e-01 2.73397952e-01 7.84671418e-01 6.08380732e-01\n",
            "  4.37031060e-01 6.98764446e-02 3.23099465e-01 9.69166364e-01\n",
            "  9.74402546e-01 1.80122229e-01 2.30442357e-01 9.82846339e-01\n",
            "  4.66841544e-01 7.05573628e-01 3.45477060e-01 9.79729685e-03\n",
            "  5.06619936e-01 1.26503990e-01 5.16033253e-01 9.78979105e-01\n",
            "  6.31876123e-02 2.52928395e-02 1.62242903e-01 9.17543419e-01\n",
            "  7.75579084e-01 7.80076688e-02 5.20981489e-02 8.54030632e-01\n",
            "  1.36959242e-01 2.85573777e-01 2.33110975e-01 4.01398249e-02\n",
            "  6.17542164e-01 8.67190590e-01 6.14335767e-01 4.56519952e-01\n",
            "  6.31930366e-01 8.48371443e-01 7.39662440e-01 1.70173392e-01\n",
            "  8.95851466e-01 5.34297621e-01 5.64443368e-01 9.21277632e-01\n",
            "  4.55289650e-02 2.92288909e-01 7.40791918e-01 6.73624368e-01\n",
            "  8.69204894e-01 4.94852561e-01 6.59680417e-01 5.33648292e-01\n",
            "  3.41796900e-01 3.37394228e-01 8.89631776e-01 4.51813608e-01\n",
            "  6.35770916e-01 5.77611133e-01 1.01663589e-01 9.54820678e-01\n",
            "  3.21446089e-01 9.87800569e-01 2.13770596e-01 6.25288462e-01\n",
            "  3.39306116e-01 2.83471788e-01 3.77272156e-02 4.92517747e-01\n",
            "  1.75809819e-01 3.72409872e-01 8.89927202e-01 1.57474737e-01\n",
            "  5.24834672e-01 8.42600225e-01 5.25200581e-01 7.26275821e-01\n",
            "  5.90326564e-01 7.27570993e-01 8.86720698e-01 2.15801374e-01\n",
            "  7.66176912e-01 3.12073731e-01 4.04977264e-01 5.72591266e-01\n",
            "  2.14001453e-01 2.62732772e-01 4.15509210e-01 9.02033163e-01\n",
            "  4.83568031e-01 2.21421555e-01 8.94235150e-01 6.02047166e-01\n",
            "  7.96135102e-01 6.44905459e-01 9.37005029e-02 9.72500865e-01]\n",
            " [5.46145529e-01 1.83194732e-01 3.34410624e-01 5.38485495e-01\n",
            "  8.13108058e-02 7.87691326e-01 5.36765842e-02 8.63629957e-01\n",
            "  3.88730397e-01 5.46059713e-01 3.66189846e-01 3.77848859e-01\n",
            "  8.30928504e-01 6.54986751e-01 6.02912768e-01 8.55135846e-01\n",
            "  5.90802544e-01 9.84253514e-01 2.86683939e-01 1.34844229e-01\n",
            "  1.35467067e-01 9.93337798e-02 4.01403908e-01 4.08260662e-01\n",
            "  7.48991252e-01 6.59374957e-01 8.65674649e-01 5.37144564e-01\n",
            "  7.03311417e-01 6.80950220e-02 3.85772444e-01 4.63288734e-01\n",
            "  2.50674371e-01 2.07133995e-01 1.81632300e-01 4.70398763e-01\n",
            "  1.25415589e-01 9.09256281e-01 9.27153584e-01 6.71176980e-01\n",
            "  2.30725749e-01 7.48047355e-01 8.68453495e-01 7.21008826e-01\n",
            "  1.83751253e-01 4.34243285e-02 3.90320274e-01 5.35030209e-01\n",
            "  9.07165475e-01 8.00839458e-01 8.46976205e-01 1.14407123e-01\n",
            "  5.88616066e-01 9.51374005e-01 8.34597065e-01 1.71734952e-01\n",
            "  7.02030058e-01 9.88208070e-01 5.94875469e-01 8.81032701e-02\n",
            "  9.67240797e-01 3.54519490e-01 6.71912320e-02 4.20482918e-01\n",
            "  7.61237095e-01 8.37770432e-01 1.32465917e-01 5.06260864e-01\n",
            "  5.75644403e-01 7.37400331e-01 5.21220997e-01 2.29962221e-01\n",
            "  4.01582661e-01 5.71056514e-01 5.60622297e-01 4.16787698e-01\n",
            "  6.23418225e-01 7.32631893e-01 7.16661845e-01 7.01723230e-02\n",
            "  7.02696244e-02 3.74785249e-01 2.56712313e-01 9.67170303e-01\n",
            "  7.33844670e-01 7.36930495e-01 7.93638407e-01 9.40767373e-01\n",
            "  8.73229981e-01 7.42410907e-01 6.03143841e-01 8.13091974e-01\n",
            "  6.18934194e-01 1.12955805e-01 5.50563962e-01 4.24807741e-01\n",
            "  6.01999917e-01 8.90208300e-01 1.52339861e-02 4.91995291e-01]]\n"
          ],
          "name": "stdout"
        }
      ]
    },
    {
      "cell_type": "code",
      "metadata": {
        "id": "38JBiGG-3nWP",
        "colab_type": "code",
        "outputId": "f47d8129-30b8-42f9-c8fb-12da95f8d3f9",
        "colab": {
          "base_uri": "https://localhost:8080/",
          "height": 108
        }
      },
      "source": [
        "data1,data2,data3,data4 = np.random.rand(4,5)\n",
        "print(type(data1))\n",
        "print('data1=', data1)\n",
        "print('data2=', data2)\n",
        "print('data3=', data3)\n",
        "print('data4=', data4)"
      ],
      "execution_count": 25,
      "outputs": [
        {
          "output_type": "stream",
          "text": [
            "<class 'numpy.ndarray'>\n",
            "data1= [0.18729414 0.40816788 0.67179963 0.51360214 0.0470772 ]\n",
            "data2= [0.61848344 0.02424018 0.01355591 0.384054   0.72007078]\n",
            "data3= [0.58915443 0.52728863 0.6352397  0.3531754  0.05132137]\n",
            "data4= [0.22389467 0.43235781 0.94027225 0.35219262 0.90510839]\n"
          ],
          "name": "stdout"
        }
      ]
    },
    {
      "cell_type": "code",
      "metadata": {
        "id": "nqYefyBb4d-t",
        "colab_type": "code",
        "outputId": "b2c91b74-1d39-41d6-94e0-67239978f32f",
        "colab": {
          "base_uri": "https://localhost:8080/",
          "height": 338
        }
      },
      "source": [
        "fig, ax = plt.subplots(1,1)\n",
        "my_plotter(ax, data1, data2)"
      ],
      "execution_count": 26,
      "outputs": [
        {
          "output_type": "stream",
          "text": [
            "<class 'matplotlib.axes._subplots.AxesSubplot'>\n",
            "AxesSubplot(0.125,0.125;0.775x0.755)\n",
            "<class 'list'>\n"
          ],
          "name": "stdout"
        },
        {
          "output_type": "execute_result",
          "data": {
            "text/plain": [
              "[<matplotlib.lines.Line2D at 0x7f02189dd2b0>]"
            ]
          },
          "metadata": {
            "tags": []
          },
          "execution_count": 26
        },
        {
          "output_type": "display_data",
          "data": {
            "image/png": "[encoded data removed]",
            "text/plain": [
              "<Figure size 432x288 with 1 Axes>"
            ]
          },
          "metadata": {
            "tags": [],
            "needs_background": "light"
          }
        }
      ]
    },
    {
      "cell_type": "code",
      "metadata": {
        "id": "frWGmCRT5YGa",
        "colab_type": "code",
        "outputId": "f69d3615-eaa5-46f9-a327-d6d945bc04d8",
        "colab": {
          "base_uri": "https://localhost:8080/",
          "height": 392
        }
      },
      "source": [
        "fig,(ax1,ax2) = plt.subplots(1,2)\n",
        "my_plotter(ax1, data1, data2)\n",
        "my_plotter(ax2, data3,data4)"
      ],
      "execution_count": 29,
      "outputs": [
        {
          "output_type": "stream",
          "text": [
            "<class 'matplotlib.axes._subplots.AxesSubplot'>\n",
            "AxesSubplot(0.125,0.125;0.352273x0.755)\n",
            "<class 'list'>\n",
            "<class 'matplotlib.axes._subplots.AxesSubplot'>\n",
            "AxesSubplot(0.547727,0.125;0.352273x0.755)\n",
            "<class 'list'>\n"
          ],
          "name": "stdout"
        },
        {
          "output_type": "execute_result",
          "data": {
            "text/plain": [
              "[<matplotlib.lines.Line2D at 0x7f02186b64a8>]"
            ]
          },
          "metadata": {
            "tags": []
          },
          "execution_count": 29
        },
        {
          "output_type": "display_data",
          "data": {
            "image/png": "[encoded data removed]",
            "text/plain": [
              "<Figure size 432x288 with 2 Axes>"
            ]
          },
          "metadata": {
            "tags": [],
            "needs_background": "light"
          }
        }
      ]
    },
    {
      "cell_type": "code",
      "metadata": {
        "id": "tkDsGl0G7eP2",
        "colab_type": "code",
        "colab": {}
      },
      "source": [
        ""
      ],
      "execution_count": 0,
      "outputs": []
    }
  ]
}