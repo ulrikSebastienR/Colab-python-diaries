{
  "nbformat": 4,
  "nbformat_minor": 0,
  "metadata": {
    "colab": {
      "name": "bb finance.ipynb",
      "provenance": [],
      "authorship_tag": "ABX9TyNLRiRJWbPF+YNL3QOsktvv",
      "include_colab_link": true
    },
    "kernelspec": {
      "name": "python3",
      "display_name": "Python 3"
    }
  },
  "cells": [
    {
      "cell_type": "markdown",
      "metadata": {
        "id": "view-in-github",
        "colab_type": "text"
      },
      "source": [
        "<a href=\"https://colab.research.google.com/github/ulrikSebastienR/Colab-python-diaries/blob/master/bb_finance.ipynb\" target=\"_parent\"><img src=\"https://colab.research.google.com/assets/colab-badge.svg\" alt=\"Open In Colab\"/></a>"
      ]
    },
    {
      "cell_type": "code",
      "metadata": {
        "id": "ofDpWKvfm3HN",
        "colab_type": "code",
        "colab": {}
      },
      "source": [
        "#installed packages with !pip install quandl but still couldn't import quandl here in colab\n",
        "#!pip install quandl\n",
        "#import datetime, qunadl\n",
        "#ndq = quandl.get()\n",
        "# this also doesn't work with colab\n",
        "#!pip install nsetools\n",
        "#from nsetools import Nse    "
      ],
      "execution_count": 0,
      "outputs": []
    },
    {
      "cell_type": "code",
      "metadata": {
        "id": "MRxZh0Htm_jB",
        "colab_type": "code",
        "colab": {
          "base_uri": "https://localhost:8080/",
          "height": 126
        },
        "outputId": "9cd69851-6754-46f4-9cfe-be0dd3cf176a"
      },
      "source": [
        ""
      ],
      "execution_count": 7,
      "outputs": [
        {
          "output_type": "stream",
          "text": [
            "Requirement already satisfied: nsetools in /usr/local/lib/python3.6/dist-packages (1.0.11)\n",
            "Requirement already satisfied: dateutils in /usr/local/lib/python3.6/dist-packages (from nsetools) (0.6.8)\n",
            "Requirement already satisfied: six in /usr/local/lib/python3.6/dist-packages (from nsetools) (1.12.0)\n",
            "Requirement already satisfied: python-dateutil in /usr/local/lib/python3.6/dist-packages (from dateutils->nsetools) (2.8.1)\n",
            "Requirement already satisfied: argparse in /usr/local/lib/python3.6/dist-packages (from dateutils->nsetools) (1.4.0)\n",
            "Requirement already satisfied: pytz in /usr/local/lib/python3.6/dist-packages (from dateutils->nsetools) (2018.9)\n"
          ],
          "name": "stdout"
        }
      ]
    },
    {
      "cell_type": "code",
      "metadata": {
        "id": "DQDvuVl06XR_",
        "colab_type": "code",
        "colab": {}
      },
      "source": [
        ""
      ],
      "execution_count": 0,
      "outputs": []
    }
  ]
}