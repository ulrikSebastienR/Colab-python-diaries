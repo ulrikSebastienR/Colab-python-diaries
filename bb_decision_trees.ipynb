{
  "nbformat": 4,
  "nbformat_minor": 0,
  "metadata": {
    "colab": {
      "name": "bb decision trees.ipynb",
      "provenance": [],
      "authorship_tag": "ABX9TyNjILnP480m75NKIMwrDSHT",
      "include_colab_link": true
    },
    "kernelspec": {
      "name": "python3",
      "display_name": "Python 3"
    }
  },
  "cells": [
    {
      "cell_type": "markdown",
      "metadata": {
        "id": "view-in-github",
        "colab_type": "text"
      },
      "source": [
        "<a href=\"https://colab.research.google.com/github/ulrikSebastienR/Colab-python-diaries/blob/master/bb_decision_trees.ipynb\" target=\"_parent\"><img src=\"https://colab.research.google.com/assets/colab-badge.svg\" alt=\"Open In Colab\"/></a>"
      ]
    },
    {
      "cell_type": "code",
      "metadata": {
        "id": "evDMkFFv021D",
        "colab_type": "code",
        "colab": {}
      },
      "source": [
        "\n",
        "#https://www.youtube.com/watch?v=LDRbO9a6XPU&t=501s Josh Gordon's "
      ],
      "execution_count": 0,
      "outputs": []
    },
    {
      "cell_type": "code",
      "metadata": {
        "id": "qabOIMrA2Vhb",
        "colab_type": "code",
        "colab": {}
      },
      "source": [
        "from __future__ import print_function"
      ],
      "execution_count": 0,
      "outputs": []
    },
    {
      "cell_type": "code",
      "metadata": {
        "id": "ZyT8khaY20n2",
        "colab_type": "code",
        "colab": {}
      },
      "source": [
        "training_data = [\n",
        "                 ['Green', 3, 'Apple'],\n",
        "                 ['Yellow', 3, 'Apple'],\n",
        "                 ['Red', 1, 'Grape'],\n",
        "                 ['Red', 1, 'Grape'],\n",
        "                 ['Yellow', 3, 'Lemon']\n",
        "] "
      ],
      "execution_count": 0,
      "outputs": []
    },
    {
      "cell_type": "code",
      "metadata": {
        "id": "V-xI6et46x_K",
        "colab_type": "code",
        "outputId": "cdfc4be7-3ae2-4883-b5f4-86f69cce61d5",
        "colab": {
          "base_uri": "https://localhost:8080/",
          "height": 35
        }
      },
      "source": [
        "print(type(training_data))"
      ],
      "execution_count": 4,
      "outputs": [
        {
          "output_type": "stream",
          "text": [
            "<class 'list'>\n"
          ],
          "name": "stdout"
        }
      ]
    },
    {
      "cell_type": "code",
      "metadata": {
        "id": "xtcnsSVF680p",
        "colab_type": "code",
        "outputId": "66c5f8af-e514-4de8-9655-6febbd19ee95",
        "colab": {
          "base_uri": "https://localhost:8080/",
          "height": 35
        }
      },
      "source": [
        "print(training_data[1])"
      ],
      "execution_count": 5,
      "outputs": [
        {
          "output_type": "stream",
          "text": [
            "['Yellow', 3, 'Apple']\n"
          ],
          "name": "stdout"
        }
      ]
    },
    {
      "cell_type": "code",
      "metadata": {
        "id": "LsILOPeH7A5Y",
        "colab_type": "code",
        "outputId": "ea564c34-6719-40cc-b85d-0ac988e7ad6b",
        "colab": {
          "base_uri": "https://localhost:8080/",
          "height": 35
        }
      },
      "source": [
        "print(len(training_data))"
      ],
      "execution_count": 6,
      "outputs": [
        {
          "output_type": "stream",
          "text": [
            "5\n"
          ],
          "name": "stdout"
        }
      ]
    },
    {
      "cell_type": "code",
      "metadata": {
        "id": "0xSnTu9s7Gb6",
        "colab_type": "code",
        "outputId": "4f35e78c-09d8-49bc-a2a9-37ad84334426",
        "colab": {
          "base_uri": "https://localhost:8080/",
          "height": 108
        }
      },
      "source": [
        "for i in range(len(training_data)):\n",
        "  print(\"training data sample no.\", i, \"is\", training_data[i])"
      ],
      "execution_count": 7,
      "outputs": [
        {
          "output_type": "stream",
          "text": [
            "training data sample no. 0 is ['Green', 3, 'Apple']\n",
            "training data sample no. 1 is ['Yellow', 3, 'Apple']\n",
            "training data sample no. 2 is ['Red', 1, 'Grape']\n",
            "training data sample no. 3 is ['Red', 1, 'Grape']\n",
            "training data sample no. 4 is ['Yellow', 3, 'Lemon']\n"
          ],
          "name": "stdout"
        }
      ]
    },
    {
      "cell_type": "code",
      "metadata": {
        "id": "oOu3yspb7XOH",
        "colab_type": "code",
        "outputId": "5573da8e-3a93-418d-cedb-f49ac4492e75",
        "colab": {
          "base_uri": "https://localhost:8080/",
          "height": 35
        }
      },
      "source": [
        "print(type(training_data[0]))"
      ],
      "execution_count": 8,
      "outputs": [
        {
          "output_type": "stream",
          "text": [
            "<class 'list'>\n"
          ],
          "name": "stdout"
        }
      ]
    },
    {
      "cell_type": "code",
      "metadata": {
        "id": "eZcL6nKy7g2K",
        "colab_type": "code",
        "colab": {}
      },
      "source": [
        "# column labels to print the tree\n",
        "header = ['color', 'diameter', 'label']"
      ],
      "execution_count": 0,
      "outputs": []
    },
    {
      "cell_type": "code",
      "metadata": {
        "id": "ZNFwCcAn7rNX",
        "colab_type": "code",
        "outputId": "40d8dbe7-9daa-4a88-82d1-810e91e97d07",
        "colab": {
          "base_uri": "https://localhost:8080/",
          "height": 35
        }
      },
      "source": [
        "print(header)"
      ],
      "execution_count": 10,
      "outputs": [
        {
          "output_type": "stream",
          "text": [
            "['color', 'diameter', 'label']\n"
          ],
          "name": "stdout"
        }
      ]
    },
    {
      "cell_type": "code",
      "metadata": {
        "id": "ko023abR738O",
        "colab_type": "code",
        "outputId": "843883c1-859d-4f63-8ffe-89784fc92e4d",
        "colab": {
          "base_uri": "https://localhost:8080/",
          "height": 35
        }
      },
      "source": [
        "print(type(header))"
      ],
      "execution_count": 11,
      "outputs": [
        {
          "output_type": "stream",
          "text": [
            "<class 'list'>\n"
          ],
          "name": "stdout"
        }
      ]
    },
    {
      "cell_type": "code",
      "metadata": {
        "id": "yDYmvjlD76e3",
        "colab_type": "code",
        "colab": {}
      },
      "source": [
        "def unique_vals(rows,col):\n",
        "  \"find out all the column values in the dataset\"\n",
        "  return set([row[col] for row in rows])"
      ],
      "execution_count": 0,
      "outputs": []
    },
    {
      "cell_type": "code",
      "metadata": {
        "id": "nCMZmFK-9c-3",
        "colab_type": "code",
        "outputId": "ca7cd4f6-e559-4fd9-b5d3-126e836b099e",
        "colab": {
          "base_uri": "https://localhost:8080/",
          "height": 35
        }
      },
      "source": [
        "print(set)"
      ],
      "execution_count": 13,
      "outputs": [
        {
          "output_type": "stream",
          "text": [
            "<class 'set'>\n"
          ],
          "name": "stdout"
        }
      ]
    },
    {
      "cell_type": "code",
      "metadata": {
        "id": "tcoxxcH89jtP",
        "colab_type": "code",
        "outputId": "356ff13c-1ee3-44d0-b5ed-41d7583d394c",
        "colab": {
          "base_uri": "https://localhost:8080/",
          "height": 35
        }
      },
      "source": [
        "unique_vals(training_data,0)"
      ],
      "execution_count": 14,
      "outputs": [
        {
          "output_type": "execute_result",
          "data": {
            "text/plain": [
              "{'Green', 'Red', 'Yellow'}"
            ]
          },
          "metadata": {
            "tags": []
          },
          "execution_count": 14
        }
      ]
    },
    {
      "cell_type": "code",
      "metadata": {
        "id": "PxdLhs8D_Nyu",
        "colab_type": "code",
        "outputId": "024ae57d-df2b-4583-c03c-8fc95c64b75d",
        "colab": {
          "base_uri": "https://localhost:8080/",
          "height": 35
        }
      },
      "source": [
        "unique_vals(training_data,1)"
      ],
      "execution_count": 15,
      "outputs": [
        {
          "output_type": "execute_result",
          "data": {
            "text/plain": [
              "{1, 3}"
            ]
          },
          "metadata": {
            "tags": []
          },
          "execution_count": 15
        }
      ]
    },
    {
      "cell_type": "code",
      "metadata": {
        "id": "v2u0A67w_UHR",
        "colab_type": "code",
        "outputId": "bb17b094-35f8-4f5b-8937-e5ce8ade383a",
        "colab": {
          "base_uri": "https://localhost:8080/",
          "height": 35
        }
      },
      "source": [
        "unique_vals(training_data,2)"
      ],
      "execution_count": 16,
      "outputs": [
        {
          "output_type": "execute_result",
          "data": {
            "text/plain": [
              "{'Apple', 'Grape', 'Lemon'}"
            ]
          },
          "metadata": {
            "tags": []
          },
          "execution_count": 16
        }
      ]
    },
    {
      "cell_type": "code",
      "metadata": {
        "id": "zeSmtuQ5_eIi",
        "colab_type": "code",
        "colab": {}
      },
      "source": [
        "def class_counts(rows):\n",
        "  \"Counts number of each type of example in the dataset\"\n",
        "  counts = {} # initialize count as an empty dictionary\n",
        "  for row in rows:\n",
        "    label = row[-1] # in our dataset the label is always in the last column\n",
        "    if label not in counts:\n",
        "      counts[label] = 0\n",
        "    counts[label] += 1\n",
        "\n",
        "  return counts"
      ],
      "execution_count": 0,
      "outputs": []
    },
    {
      "cell_type": "code",
      "metadata": {
        "id": "9iV8oykiEBBu",
        "colab_type": "code",
        "outputId": "3b388a22-682d-4a30-ee20-0f7b47635b86",
        "colab": {
          "base_uri": "https://localhost:8080/",
          "height": 35
        }
      },
      "source": [
        "class_counts(training_data) #when recalling the function, there's no need to type :(or colon) as colons are used only for writing a function or loop"
      ],
      "execution_count": 18,
      "outputs": [
        {
          "output_type": "execute_result",
          "data": {
            "text/plain": [
              "{'Apple': 2, 'Grape': 2, 'Lemon': 1}"
            ]
          },
          "metadata": {
            "tags": []
          },
          "execution_count": 18
        }
      ]
    },
    {
      "cell_type": "code",
      "metadata": {
        "id": "bJeYxDMSFFie",
        "colab_type": "code",
        "colab": {}
      },
      "source": [
        "def isnumeric(value):\n",
        "  \"Check if a value is numeric or not\"\n",
        "  return isinstance(value,int) or isinstance(value,float)"
      ],
      "execution_count": 0,
      "outputs": []
    },
    {
      "cell_type": "code",
      "metadata": {
        "id": "0XCtSYWwUr_B",
        "colab_type": "code",
        "outputId": "ba8eeab2-d8e7-4b8c-f31a-3077bc418bf7",
        "colab": {
          "base_uri": "https://localhost:8080/",
          "height": 35
        }
      },
      "source": [
        "isnumeric(3)"
      ],
      "execution_count": 20,
      "outputs": [
        {
          "output_type": "execute_result",
          "data": {
            "text/plain": [
              "True"
            ]
          },
          "metadata": {
            "tags": []
          },
          "execution_count": 20
        }
      ]
    },
    {
      "cell_type": "code",
      "metadata": {
        "id": "FoXrfiEWYTVX",
        "colab_type": "code",
        "outputId": "2b6caed9-c458-4393-8668-ea02aa13d08a",
        "colab": {
          "base_uri": "https://localhost:8080/",
          "height": 35
        }
      },
      "source": [
        "print(isnumeric(7.5))"
      ],
      "execution_count": 21,
      "outputs": [
        {
          "output_type": "stream",
          "text": [
            "True\n"
          ],
          "name": "stdout"
        }
      ]
    },
    {
      "cell_type": "code",
      "metadata": {
        "id": "nIkKz3eRYW2R",
        "colab_type": "code",
        "colab": {}
      },
      "source": [
        "class Question:\n",
        "  \" A QUESTION is used to partition a dataset\"\n",
        "  def __init__(self, column, value):\n",
        "    self.column = column\n",
        "    self.value = value\n",
        "    print(column)\n",
        "    print(value)\n",
        "\n",
        "  def match(self, example): \n",
        "    #compare the feature value in an example to the feature value in this question\n",
        "    val = example[self.column]\n",
        "    print(val)\n",
        "    print(is_numeric(val))\n",
        "    if is_numeric(val):\n",
        "      return val >= self.value\n",
        "    else:\n",
        "      return val == self.value\n",
        "    \n",
        "    def __repr__(self):\n",
        "      #helper method to print properly\n",
        "      condition = \"==\"\n",
        "      if is_numeric(self.value):\n",
        "        condition = \">=\"\n",
        "      return \"Is %s %s %s?\" %(\n",
        "          header[self.column], condition, str(self.value))\n"
      ],
      "execution_count": 0,
      "outputs": []
    },
    {
      "cell_type": "code",
      "metadata": {
        "id": "kjs7lEBIZPaW",
        "colab_type": "code",
        "outputId": "0969cc21-75b7-4c11-99a2-60f001141e18",
        "colab": {
          "base_uri": "https://localhost:8080/",
          "height": 72
        }
      },
      "source": [
        "Question(1,3) # so it's not working. let's check"
      ],
      "execution_count": 31,
      "outputs": [
        {
          "output_type": "stream",
          "text": [
            "1\n",
            "3\n"
          ],
          "name": "stdout"
        },
        {
          "output_type": "execute_result",
          "data": {
            "text/plain": [
              "<__main__.Question at 0x7fd03cf1ac88>"
            ]
          },
          "metadata": {
            "tags": []
          },
          "execution_count": 31
        }
      ]
    },
    {
      "cell_type": "code",
      "metadata": {
        "id": "DwuuP0ykHlNL",
        "colab_type": "code",
        "outputId": "07b2e4a4-1bb8-4ae5-92d1-ab0df2f4733f",
        "colab": {
          "base_uri": "https://localhost:8080/",
          "height": 72
        }
      },
      "source": [
        "q = Question(0,'Green')\n",
        "print(q)"
      ],
      "execution_count": 35,
      "outputs": [
        {
          "output_type": "stream",
          "text": [
            "0\n",
            "Green\n",
            "<__main__.Question object at 0x7fd03cf22c88>\n"
          ],
          "name": "stdout"
        }
      ]
    },
    {
      "cell_type": "code",
      "metadata": {
        "id": "SBYGrXZ7Hvgb",
        "colab_type": "code",
        "colab": {}
      },
      "source": [
        ""
      ],
      "execution_count": 0,
      "outputs": []
    }
  ]
}