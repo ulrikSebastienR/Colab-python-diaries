{
  "nbformat": 4,
  "nbformat_minor": 0,
  "metadata": {
    "colab": {
      "name": "bb decision trees.ipynb",
      "provenance": [],
      "authorship_tag": "ABX9TyPc/79JkGiJHujst2qUn5Dr",
      "include_colab_link": true
    },
    "kernelspec": {
      "name": "python3",
      "display_name": "Python 3"
    }
  },
  "cells": [
    {
      "cell_type": "markdown",
      "metadata": {
        "id": "view-in-github",
        "colab_type": "text"
      },
      "source": [
        "<a href=\"https://colab.research.google.com/github/ulrikSebastienR/Colab-python-diaries/blob/master/bb_decision_trees.ipynb\" target=\"_parent\"><img src=\"https://colab.research.google.com/assets/colab-badge.svg\" alt=\"Open In Colab\"/></a>"
      ]
    },
    {
      "cell_type": "code",
      "metadata": {
        "id": "evDMkFFv021D",
        "colab_type": "code",
        "colab": {}
      },
      "source": [
        "\n",
        "#https://www.youtube.com/watch?v=LDRbO9a6XPU&t=501s Josh Gordon's "
      ],
      "execution_count": 0,
      "outputs": []
    },
    {
      "cell_type": "code",
      "metadata": {
        "id": "qabOIMrA2Vhb",
        "colab_type": "code",
        "colab": {}
      },
      "source": [
        "from __future__ import print_function"
      ],
      "execution_count": 0,
      "outputs": []
    },
    {
      "cell_type": "code",
      "metadata": {
        "id": "ZyT8khaY20n2",
        "colab_type": "code",
        "colab": {}
      },
      "source": [
        "training_data = [\n",
        "                 ['Green', 3, 'Apple'],\n",
        "                 ['Yellow', 3, 'Apple'],\n",
        "                 ['Red', 1, 'Grape'],\n",
        "                 ['Red', 1, 'Grape'],\n",
        "                 ['Yellow', 3, 'Lemon']\n",
        "] "
      ],
      "execution_count": 0,
      "outputs": []
    },
    {
      "cell_type": "code",
      "metadata": {
        "id": "V-xI6et46x_K",
        "colab_type": "code",
        "outputId": "40a96002-bbad-4265-9043-befc49c7f579",
        "colab": {
          "base_uri": "https://localhost:8080/",
          "height": 35
        }
      },
      "source": [
        "print(type(training_data))"
      ],
      "execution_count": 48,
      "outputs": [
        {
          "output_type": "stream",
          "text": [
            "<class 'list'>\n"
          ],
          "name": "stdout"
        }
      ]
    },
    {
      "cell_type": "code",
      "metadata": {
        "id": "xtcnsSVF680p",
        "colab_type": "code",
        "outputId": "f76f90af-98c3-4ede-ac48-af860fa24a57",
        "colab": {
          "base_uri": "https://localhost:8080/",
          "height": 35
        }
      },
      "source": [
        "print(training_data[1])"
      ],
      "execution_count": 49,
      "outputs": [
        {
          "output_type": "stream",
          "text": [
            "['Yellow', 3, 'Apple']\n"
          ],
          "name": "stdout"
        }
      ]
    },
    {
      "cell_type": "code",
      "metadata": {
        "id": "LsILOPeH7A5Y",
        "colab_type": "code",
        "outputId": "8d43c304-a9f8-41a4-847c-1766c767dca2",
        "colab": {
          "base_uri": "https://localhost:8080/",
          "height": 35
        }
      },
      "source": [
        "print(len(training_data))"
      ],
      "execution_count": 50,
      "outputs": [
        {
          "output_type": "stream",
          "text": [
            "5\n"
          ],
          "name": "stdout"
        }
      ]
    },
    {
      "cell_type": "code",
      "metadata": {
        "id": "0xSnTu9s7Gb6",
        "colab_type": "code",
        "outputId": "b18c6711-68ee-4466-8b84-71d5d8bc7433",
        "colab": {
          "base_uri": "https://localhost:8080/",
          "height": 108
        }
      },
      "source": [
        "for i in range(len(training_data)):\n",
        "  print(\"training data sample no.\", i, \"is\", training_data[i])"
      ],
      "execution_count": 51,
      "outputs": [
        {
          "output_type": "stream",
          "text": [
            "training data sample no. 0 is ['Green', 3, 'Apple']\n",
            "training data sample no. 1 is ['Yellow', 3, 'Apple']\n",
            "training data sample no. 2 is ['Red', 1, 'Grape']\n",
            "training data sample no. 3 is ['Red', 1, 'Grape']\n",
            "training data sample no. 4 is ['Yellow', 3, 'Lemon']\n"
          ],
          "name": "stdout"
        }
      ]
    },
    {
      "cell_type": "code",
      "metadata": {
        "id": "oOu3yspb7XOH",
        "colab_type": "code",
        "outputId": "41f3e748-f67d-442f-bc31-e7a779d5162b",
        "colab": {
          "base_uri": "https://localhost:8080/",
          "height": 35
        }
      },
      "source": [
        "print(type(training_data[0]))"
      ],
      "execution_count": 52,
      "outputs": [
        {
          "output_type": "stream",
          "text": [
            "<class 'list'>\n"
          ],
          "name": "stdout"
        }
      ]
    },
    {
      "cell_type": "code",
      "metadata": {
        "id": "eZcL6nKy7g2K",
        "colab_type": "code",
        "colab": {}
      },
      "source": [
        "# column labels to print the tree\n",
        "header = ['color', 'diameter', 'label']"
      ],
      "execution_count": 0,
      "outputs": []
    },
    {
      "cell_type": "code",
      "metadata": {
        "id": "ZNFwCcAn7rNX",
        "colab_type": "code",
        "outputId": "2c21dbc2-a2e0-48c2-a58a-b309e2dd7752",
        "colab": {
          "base_uri": "https://localhost:8080/",
          "height": 35
        }
      },
      "source": [
        "print(header)"
      ],
      "execution_count": 54,
      "outputs": [
        {
          "output_type": "stream",
          "text": [
            "['color', 'diameter', 'label']\n"
          ],
          "name": "stdout"
        }
      ]
    },
    {
      "cell_type": "code",
      "metadata": {
        "id": "ko023abR738O",
        "colab_type": "code",
        "outputId": "cb426e30-1004-4e70-cbac-d28d5cd4dc5c",
        "colab": {
          "base_uri": "https://localhost:8080/",
          "height": 35
        }
      },
      "source": [
        "print(type(header))"
      ],
      "execution_count": 55,
      "outputs": [
        {
          "output_type": "stream",
          "text": [
            "<class 'list'>\n"
          ],
          "name": "stdout"
        }
      ]
    },
    {
      "cell_type": "code",
      "metadata": {
        "id": "yDYmvjlD76e3",
        "colab_type": "code",
        "colab": {}
      },
      "source": [
        "def unique_vals(rows,col):\n",
        "  \"find out all the column values in the dataset\"\n",
        "  return set([row[col] for row in rows])"
      ],
      "execution_count": 0,
      "outputs": []
    },
    {
      "cell_type": "code",
      "metadata": {
        "id": "nCMZmFK-9c-3",
        "colab_type": "code",
        "outputId": "00b4fc94-b651-464c-87a3-8aaa0dcb452d",
        "colab": {
          "base_uri": "https://localhost:8080/",
          "height": 35
        }
      },
      "source": [
        "print(set)"
      ],
      "execution_count": 57,
      "outputs": [
        {
          "output_type": "stream",
          "text": [
            "<class 'set'>\n"
          ],
          "name": "stdout"
        }
      ]
    },
    {
      "cell_type": "code",
      "metadata": {
        "id": "tcoxxcH89jtP",
        "colab_type": "code",
        "outputId": "5f417b8b-ba51-45e9-eae8-09a83f1b1380",
        "colab": {
          "base_uri": "https://localhost:8080/",
          "height": 35
        }
      },
      "source": [
        "unique_vals(training_data,0)"
      ],
      "execution_count": 58,
      "outputs": [
        {
          "output_type": "execute_result",
          "data": {
            "text/plain": [
              "{'Green', 'Red', 'Yellow'}"
            ]
          },
          "metadata": {
            "tags": []
          },
          "execution_count": 58
        }
      ]
    },
    {
      "cell_type": "code",
      "metadata": {
        "id": "PxdLhs8D_Nyu",
        "colab_type": "code",
        "outputId": "9ae4bf27-400b-481a-8d58-889275033e51",
        "colab": {
          "base_uri": "https://localhost:8080/",
          "height": 35
        }
      },
      "source": [
        "unique_vals(training_data,1)"
      ],
      "execution_count": 59,
      "outputs": [
        {
          "output_type": "execute_result",
          "data": {
            "text/plain": [
              "{1, 3}"
            ]
          },
          "metadata": {
            "tags": []
          },
          "execution_count": 59
        }
      ]
    },
    {
      "cell_type": "code",
      "metadata": {
        "id": "v2u0A67w_UHR",
        "colab_type": "code",
        "outputId": "5473fad8-8a61-4849-be46-5a570f46bff1",
        "colab": {
          "base_uri": "https://localhost:8080/",
          "height": 35
        }
      },
      "source": [
        "unique_vals(training_data,2)"
      ],
      "execution_count": 60,
      "outputs": [
        {
          "output_type": "execute_result",
          "data": {
            "text/plain": [
              "{'Apple', 'Grape', 'Lemon'}"
            ]
          },
          "metadata": {
            "tags": []
          },
          "execution_count": 60
        }
      ]
    },
    {
      "cell_type": "code",
      "metadata": {
        "id": "zeSmtuQ5_eIi",
        "colab_type": "code",
        "colab": {}
      },
      "source": [
        "def class_counts(rows):\n",
        "  \"Counts number of each type of example in the dataset\"\n",
        "  counts = {} # initialize count as an empty dictionary\n",
        "  for row in rows:\n",
        "    label = row[-1] # in our dataset the label is always in the last column\n",
        "    if label not in counts:\n",
        "      counts[label] = 0\n",
        "    counts[label] += 1\n",
        "\n",
        "  return counts"
      ],
      "execution_count": 0,
      "outputs": []
    },
    {
      "cell_type": "code",
      "metadata": {
        "id": "9iV8oykiEBBu",
        "colab_type": "code",
        "outputId": "eae826c0-111c-41c4-bb15-9768058b028b",
        "colab": {
          "base_uri": "https://localhost:8080/",
          "height": 35
        }
      },
      "source": [
        "class_counts(training_data) #when recalling the function, there's no need to type :(or colon) as colons are used only for writing a function or loop"
      ],
      "execution_count": 62,
      "outputs": [
        {
          "output_type": "execute_result",
          "data": {
            "text/plain": [
              "{'Apple': 2, 'Grape': 2, 'Lemon': 1}"
            ]
          },
          "metadata": {
            "tags": []
          },
          "execution_count": 62
        }
      ]
    },
    {
      "cell_type": "code",
      "metadata": {
        "id": "bJeYxDMSFFie",
        "colab_type": "code",
        "colab": {}
      },
      "source": [
        "def isnumeric(value):\n",
        "  \"Check if a value is numeric or not\"\n",
        "  return isinstance(value,int) or isinstance(value,float)"
      ],
      "execution_count": 0,
      "outputs": []
    },
    {
      "cell_type": "code",
      "metadata": {
        "id": "0XCtSYWwUr_B",
        "colab_type": "code",
        "outputId": "c99c7546-1069-4359-b5d3-0334100f5094",
        "colab": {
          "base_uri": "https://localhost:8080/",
          "height": 35
        }
      },
      "source": [
        "isnumeric(3)"
      ],
      "execution_count": 64,
      "outputs": [
        {
          "output_type": "execute_result",
          "data": {
            "text/plain": [
              "True"
            ]
          },
          "metadata": {
            "tags": []
          },
          "execution_count": 64
        }
      ]
    },
    {
      "cell_type": "code",
      "metadata": {
        "id": "FoXrfiEWYTVX",
        "colab_type": "code",
        "outputId": "08e0033f-eab9-481a-cdca-1f8200f2fa0a",
        "colab": {
          "base_uri": "https://localhost:8080/",
          "height": 35
        }
      },
      "source": [
        "print(isnumeric(7.5))"
      ],
      "execution_count": 65,
      "outputs": [
        {
          "output_type": "stream",
          "text": [
            "True\n"
          ],
          "name": "stdout"
        }
      ]
    },
    {
      "cell_type": "code",
      "metadata": {
        "id": "nIkKz3eRYW2R",
        "colab_type": "code",
        "colab": {}
      },
      "source": [
        "class Question:\n",
        "  \" A QUESTION is used to partition a dataset\"\n",
        "  def __init__(self, column, value):\n",
        "    self.column = column\n",
        "    self.value = value\n",
        "\n",
        "  def match(self, example): \n",
        "    #compare the feature value in an example to the feature value in this question\n",
        "    val = example[self.column]\n",
        "    if is_numeric(val):\n",
        "      return val >= self.value\n",
        "    else:\n",
        "      return val == self.value\n",
        "    \n",
        "    def __repr__(self):\n",
        "      #helper method to print properly\n",
        "      condition = \"==\"\n",
        "      if is_numeric(self.value):\n",
        "        condition = \">=\"\n",
        "      return \"Is %s %s %s?\" %(\n",
        "          header[self.column], condition, str(self.value))\n"
      ],
      "execution_count": 0,
      "outputs": []
    },
    {
      "cell_type": "code",
      "metadata": {
        "id": "kjs7lEBIZPaW",
        "colab_type": "code",
        "colab": {
          "base_uri": "https://localhost:8080/",
          "height": 35
        },
        "outputId": "10f25571-a5f6-4422-cd69-5f92bd9f5c7c"
      },
      "source": [
        "Question(1,3)"
      ],
      "execution_count": 67,
      "outputs": [
        {
          "output_type": "execute_result",
          "data": {
            "text/plain": [
              "<__main__.Question at 0x7f80a155a160>"
            ]
          },
          "metadata": {
            "tags": []
          },
          "execution_count": 67
        }
      ]
    },
    {
      "cell_type": "code",
      "metadata": {
        "id": "DwuuP0ykHlNL",
        "colab_type": "code",
        "colab": {
          "base_uri": "https://localhost:8080/",
          "height": 35
        },
        "outputId": "4b5b5b95-d70d-4eb7-f163-8c7e7e459598"
      },
      "source": [
        ""
      ],
      "execution_count": 68,
      "outputs": [
        {
          "output_type": "stream",
          "text": [
            "<__main__.Question object at 0x7f80a155a320>\n"
          ],
          "name": "stdout"
        }
      ]
    },
    {
      "cell_type": "code",
      "metadata": {
        "id": "SBYGrXZ7Hvgb",
        "colab_type": "code",
        "colab": {}
      },
      "source": [
        ""
      ],
      "execution_count": 0,
      "outputs": []
    }
  ]
}