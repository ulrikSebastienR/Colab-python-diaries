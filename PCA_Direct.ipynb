{
  "nbformat": 4,
  "nbformat_minor": 0,
  "metadata": {
    "colab": {
      "name": "PCA Direct.ipynb",
      "provenance": [],
      "authorship_tag": "ABX9TyOs7rXPiFZgh2KvRc6QZXZH",
      "include_colab_link": true
    },
    "kernelspec": {
      "name": "python3",
      "display_name": "Python 3"
    }
  },
  "cells": [
    {
      "cell_type": "markdown",
      "metadata": {
        "id": "view-in-github",
        "colab_type": "text"
      },
      "source": [
        "<a href=\"https://colab.research.google.com/github/ulrikSebastienR/Colab-python-diaries/blob/master/PCA_Direct.ipynb\" target=\"_parent\"><img src=\"https://colab.research.google.com/assets/colab-badge.svg\" alt=\"Open In Colab\"/></a>"
      ]
    },
    {
      "cell_type": "code",
      "metadata": {
        "id": "YhJKzdAoNKxn",
        "colab_type": "code",
        "colab": {}
      },
      "source": [
        "#PCA algorithm step by step with python code \n",
        "#https://www.youtube.com/watch?v=xebPVQ1f7nM&t=4s\n",
        "#https://github.com/minsuk-heo/python_tutorial/blob/master/data_science/pca/PCA.ipynb"
      ],
      "execution_count": 0,
      "outputs": []
    },
    {
      "cell_type": "code",
      "metadata": {
        "id": "AsPD43aYPAzy",
        "colab_type": "code",
        "colab": {}
      },
      "source": [
        "import pandas as pd"
      ],
      "execution_count": 0,
      "outputs": []
    },
    {
      "cell_type": "code",
      "metadata": {
        "id": "JhN1tufkPIIi",
        "colab_type": "code",
        "outputId": "9651b5d8-4e82-4a53-eb4e-d9f551c0b4b2",
        "colab": {
          "base_uri": "https://localhost:8080/",
          "height": 126
        }
      },
      "source": [
        "df = pd.DataFrame(columns= ['Calorie', 'breakfast', 'lunch', 'dinner', 'exercise', 'Body_shape'])\n",
        "print(df)\n",
        "print(df.head())"
      ],
      "execution_count": 3,
      "outputs": [
        {
          "output_type": "stream",
          "text": [
            "Empty DataFrame\n",
            "Columns: [Calorie, breakfast, lunch, dinner, exercise, Body_shape]\n",
            "Index: []\n",
            "Empty DataFrame\n",
            "Columns: [Calorie, breakfast, lunch, dinner, exercise, Body_shape]\n",
            "Index: []\n"
          ],
          "name": "stdout"
        }
      ]
    },
    {
      "cell_type": "code",
      "metadata": {
        "id": "N0jVMSUbP25D",
        "colab_type": "code",
        "outputId": "c0eef617-8e87-42e8-8eaa-df75fa66927a",
        "colab": {
          "base_uri": "https://localhost:8080/",
          "height": 326
        }
      },
      "source": [
        "df.loc[0] = [1200, 1, 0, 0, 2,'Skinny']\n",
        "df.loc[1] = [2800, 1,1,1,1,'Normal']\n",
        "df.loc[2] = [3500,2,1,1,0,'Fat']\n",
        "df.loc[3] = [1400, 0, 1, 0, 3, 'Skinny']\n",
        "df.loc[4] =  [5000, 2, 2, 2, 0, 'Fat']\n",
        "df.loc[5] = [1300, 0, 0, 1, 2, 'Skinny']\n",
        "df.loc[6] = [3000, 1, 0, 1, 1, 'Normal']\n",
        "df.loc[7] = [4000, 2, 2, 2, 0, 'Fat']\n",
        "df.loc[8] = [2600, 0, 2, 0, 0, 'Normal']\n",
        "df.loc[9] = [3000, 1, 2, 1, 1, 'Fat']\n",
        "print(df)\n",
        "print(df.head())"
      ],
      "execution_count": 4,
      "outputs": [
        {
          "output_type": "stream",
          "text": [
            "  Calorie breakfast lunch dinner exercise Body_shape\n",
            "0    1200         1     0      0        2     Skinny\n",
            "1    2800         1     1      1        1     Normal\n",
            "2    3500         2     1      1        0        Fat\n",
            "3    1400         0     1      0        3     Skinny\n",
            "4    5000         2     2      2        0        Fat\n",
            "5    1300         0     0      1        2     Skinny\n",
            "6    3000         1     0      1        1     Normal\n",
            "7    4000         2     2      2        0        Fat\n",
            "8    2600         0     2      0        0     Normal\n",
            "9    3000         1     2      1        1        Fat\n",
            "  Calorie breakfast lunch dinner exercise Body_shape\n",
            "0    1200         1     0      0        2     Skinny\n",
            "1    2800         1     1      1        1     Normal\n",
            "2    3500         2     1      1        0        Fat\n",
            "3    1400         0     1      0        3     Skinny\n",
            "4    5000         2     2      2        0        Fat\n"
          ],
          "name": "stdout"
        }
      ]
    },
    {
      "cell_type": "code",
      "metadata": {
        "id": "bjCuIFALQhGC",
        "colab_type": "code",
        "outputId": "690c2c00-d244-4c84-8fb3-d290e37976ec",
        "colab": {
          "base_uri": "https://localhost:8080/",
          "height": 235
        }
      },
      "source": [
        "#Split feature vectors : Representation is x\n",
        "x = df[['Calorie', 'breakfast', 'lunch', 'dinner', 'exercise']]\n",
        "print(type(x))\n",
        "print(x)"
      ],
      "execution_count": 5,
      "outputs": [
        {
          "output_type": "stream",
          "text": [
            "<class 'pandas.core.frame.DataFrame'>\n",
            "  Calorie breakfast lunch dinner exercise\n",
            "0    1200         1     0      0        2\n",
            "1    2800         1     1      1        1\n",
            "2    3500         2     1      1        0\n",
            "3    1400         0     1      0        3\n",
            "4    5000         2     2      2        0\n",
            "5    1300         0     0      1        2\n",
            "6    3000         1     0      1        1\n",
            "7    4000         2     2      2        0\n",
            "8    2600         0     2      0        0\n",
            "9    3000         1     2      1        1\n"
          ],
          "name": "stdout"
        }
      ]
    },
    {
      "cell_type": "code",
      "metadata": {
        "id": "8L7zmRpuMhSm",
        "colab_type": "code",
        "outputId": "13962a58-bda0-486f-f742-1822d8cec0db",
        "colab": {
          "base_uri": "https://localhost:8080/",
          "height": 344
        }
      },
      "source": [
        "#Split labels\n",
        "y = df['Body_shape']\n",
        "print(type(y))\n",
        "print(y.head())\n",
        "print(y)"
      ],
      "execution_count": 6,
      "outputs": [
        {
          "output_type": "stream",
          "text": [
            "<class 'pandas.core.series.Series'>\n",
            "0    Skinny\n",
            "1    Normal\n",
            "2       Fat\n",
            "3    Skinny\n",
            "4       Fat\n",
            "Name: Body_shape, dtype: object\n",
            "0    Skinny\n",
            "1    Normal\n",
            "2       Fat\n",
            "3    Skinny\n",
            "4       Fat\n",
            "5    Skinny\n",
            "6    Normal\n",
            "7       Fat\n",
            "8    Normal\n",
            "9       Fat\n",
            "Name: Body_shape, dtype: object\n"
          ],
          "name": "stdout"
        }
      ]
    },
    {
      "cell_type": "code",
      "metadata": {
        "id": "nHM3Z11FNf6M",
        "colab_type": "code",
        "outputId": "3213479a-db25-4f1b-ce90-1469d8cb1e3b",
        "colab": {
          "base_uri": "https://localhost:8080/",
          "height": 217
        }
      },
      "source": [
        "# rescaling all feature vectors to have the same scale\n",
        "from sklearn.preprocessing import StandardScaler\n",
        "x_std = StandardScaler().fit_transform(x)\n",
        "print(type(x_std))\n",
        "print(x_std)"
      ],
      "execution_count": 7,
      "outputs": [
        {
          "output_type": "stream",
          "text": [
            "<class 'numpy.ndarray'>\n",
            "[[-1.35205803  0.         -1.32424438 -1.28571429  1.        ]\n",
            " [ 0.01711466  0.         -0.12038585  0.14285714  0.        ]\n",
            " [ 0.61612771  1.29099445 -0.12038585  0.14285714 -1.        ]\n",
            " [-1.18091145 -1.29099445 -0.12038585 -1.28571429  2.        ]\n",
            " [ 1.89972711  1.29099445  1.08347268  1.57142857 -1.        ]\n",
            " [-1.26648474 -1.29099445 -1.32424438  0.14285714  1.        ]\n",
            " [ 0.18826125  0.         -1.32424438  0.14285714  0.        ]\n",
            " [ 1.04399418  1.29099445  1.08347268  1.57142857 -1.        ]\n",
            " [-0.15403193 -1.29099445  1.08347268 -1.28571429 -1.        ]\n",
            " [ 0.18826125  0.          1.08347268  0.14285714  0.        ]]\n"
          ],
          "name": "stdout"
        }
      ]
    },
    {
      "cell_type": "code",
      "metadata": {
        "id": "xVE5mpmLSPGC",
        "colab_type": "code",
        "outputId": "0b6e07a6-2a1d-407c-d9e5-37ad599ddc5a",
        "colab": {
          "base_uri": "https://localhost:8080/",
          "height": 283
        }
      },
      "source": [
        "import matplotlib.pyplot as plt\n",
        "plt.imshow(x_std)"
      ],
      "execution_count": 8,
      "outputs": [
        {
          "output_type": "execute_result",
          "data": {
            "text/plain": [
              "<matplotlib.image.AxesImage at 0x7f3508f97780>"
            ]
          },
          "metadata": {
            "tags": []
          },
          "execution_count": 8
        },
        {
          "output_type": "display_data",
          "data": {
            "image/png": "[encoded data removed]",
            "text/plain": [
              "<Figure size 432x288 with 1 Axes>"
            ]
          },
          "metadata": {
            "tags": [],
            "needs_background": "light"
          }
        }
      ]
    },
    {
      "cell_type": "code",
      "metadata": {
        "id": "NIZEW5fZTMdp",
        "colab_type": "code",
        "colab": {}
      },
      "source": [
        "import numpy as np"
      ],
      "execution_count": 0,
      "outputs": []
    },
    {
      "cell_type": "code",
      "metadata": {
        "id": "E29RHkR7n6UY",
        "colab_type": "code",
        "outputId": "6b7369ae-7769-4ef4-a4b9-99aebc9dbee0",
        "colab": {
          "base_uri": "https://localhost:8080/",
          "height": 199
        }
      },
      "source": [
        "# features are stored in the columns but numpy covariance function\n",
        "# numpy.cov applies only on rows so we need to transpose the standardized x.\n",
        "features = x_std.T # T is same as transpose of the array\n",
        "print(features)"
      ],
      "execution_count": 10,
      "outputs": [
        {
          "output_type": "stream",
          "text": [
            "[[-1.35205803  0.01711466  0.61612771 -1.18091145  1.89972711 -1.26648474\n",
            "   0.18826125  1.04399418 -0.15403193  0.18826125]\n",
            " [ 0.          0.          1.29099445 -1.29099445  1.29099445 -1.29099445\n",
            "   0.          1.29099445 -1.29099445  0.        ]\n",
            " [-1.32424438 -0.12038585 -0.12038585 -0.12038585  1.08347268 -1.32424438\n",
            "  -1.32424438  1.08347268  1.08347268  1.08347268]\n",
            " [-1.28571429  0.14285714  0.14285714 -1.28571429  1.57142857  0.14285714\n",
            "   0.14285714  1.57142857 -1.28571429  0.14285714]\n",
            " [ 1.          0.         -1.          2.         -1.          1.\n",
            "   0.         -1.         -1.          0.        ]]\n"
          ],
          "name": "stdout"
        }
      ]
    },
    {
      "cell_type": "code",
      "metadata": {
        "id": "lNDapVGrojp7",
        "colab_type": "code",
        "outputId": "9db617c9-2513-413a-ee40-56ad5413270e",
        "colab": {
          "base_uri": "https://localhost:8080/",
          "height": 126
        }
      },
      "source": [
        "covariance_matrix = np.cov(features)\n",
        "print(type(covariance_matrix))\n",
        "print(covariance_matrix)"
      ],
      "execution_count": 11,
      "outputs": [
        {
          "output_type": "stream",
          "text": [
            "<class 'numpy.ndarray'>\n",
            "[[ 1.11111111  0.88379717  0.72341627  0.89376551 -0.93179808]\n",
            " [ 0.88379717  1.11111111  0.34537215  0.81967902 -0.71721914]\n",
            " [ 0.72341627  0.34537215  1.11111111  0.40128618 -0.66881029]\n",
            " [ 0.89376551  0.81967902  0.40128618  1.11111111 -0.63492063]\n",
            " [-0.93179808 -0.71721914 -0.66881029 -0.63492063  1.11111111]]\n"
          ],
          "name": "stdout"
        }
      ]
    },
    {
      "cell_type": "code",
      "metadata": {
        "id": "hZZUK-MXKuiT",
        "colab_type": "code",
        "colab": {}
      },
      "source": [
        "# computing eigen vectors and eigen values.\n",
        "eig_vals, eig_vecs = np.linalg.eig(covariance_matrix)"
      ],
      "execution_count": 0,
      "outputs": []
    },
    {
      "cell_type": "code",
      "metadata": {
        "id": "x374O5y1NYtf",
        "colab_type": "code",
        "outputId": "f4fadd8b-364a-4af4-898d-6e211ac58782",
        "colab": {
          "base_uri": "https://localhost:8080/",
          "height": 35
        }
      },
      "source": [
        "print(eig_vals)"
      ],
      "execution_count": 13,
      "outputs": [
        {
          "output_type": "stream",
          "text": [
            "[3.96759543 0.89363477 0.06981086 0.24301862 0.38149587]\n"
          ],
          "name": "stdout"
        }
      ]
    },
    {
      "cell_type": "code",
      "metadata": {
        "id": "qlmzqXeNTR24",
        "colab_type": "code",
        "outputId": "3f95eb4c-b2cc-4d08-a51e-83eef9c7d0e9",
        "colab": {
          "base_uri": "https://localhost:8080/",
          "height": 53
        }
      },
      "source": [
        "print(\"\\n Eigen Values\", eig_vals) # Use of \\n only at begining"
      ],
      "execution_count": 15,
      "outputs": [
        {
          "output_type": "stream",
          "text": [
            "\n",
            " Eigen Values [3.96759543 0.89363477 0.06981086 0.24301862 0.38149587]\n"
          ],
          "name": "stdout"
        }
      ]
    },
    {
      "cell_type": "code",
      "metadata": {
        "id": "7sFhF1BAThro",
        "colab_type": "code",
        "colab": {
          "base_uri": "https://localhost:8080/",
          "height": 144
        },
        "outputId": "654d260f-c6ac-4aaa-daff-04f1d12ac331"
      },
      "source": [
        "print(\"\\n Eigen Vectors\\n\", eig_vecs) # Use of \\n or next line both begining and end"
      ],
      "execution_count": 16,
      "outputs": [
        {
          "output_type": "stream",
          "text": [
            "\n",
            " Eigen Vectors\n",
            " [[ 0.51666108  0.0141162   0.85406963  0.05384783  0.02296804]\n",
            " [ 0.44554192 -0.44578232 -0.21117277 -0.71162721 -0.2275155 ]\n",
            " [ 0.35492362  0.77322684 -0.21746298 -0.31322919  0.36158929]\n",
            " [ 0.44200397 -0.4017063  -0.30384922  0.42369238  0.60944644]\n",
            " [-0.46175258 -0.20452669  0.29386498 -0.46158355  0.66748587]]\n"
          ],
          "name": "stdout"
        }
      ]
    },
    {
      "cell_type": "code",
      "metadata": {
        "id": "eeN1gX7BWnhr",
        "colab_type": "code",
        "colab": {
          "base_uri": "https://localhost:8080/",
          "height": 108
        },
        "outputId": "18f3f88e-1c6e-451a-c813-03c5d09b3bdd"
      },
      "source": [
        "print(\"Eigen Vectors\", eig_vecs) # without any next line "
      ],
      "execution_count": 17,
      "outputs": [
        {
          "output_type": "stream",
          "text": [
            "Eigen Vectors [[ 0.51666108  0.0141162   0.85406963  0.05384783  0.02296804]\n",
            " [ 0.44554192 -0.44578232 -0.21117277 -0.71162721 -0.2275155 ]\n",
            " [ 0.35492362  0.77322684 -0.21746298 -0.31322919  0.36158929]\n",
            " [ 0.44200397 -0.4017063  -0.30384922  0.42369238  0.60944644]\n",
            " [-0.46175258 -0.20452669  0.29386498 -0.46158355  0.66748587]]\n"
          ],
          "name": "stdout"
        }
      ]
    },
    {
      "cell_type": "code",
      "metadata": {
        "id": "yOUGVKzWXCpy",
        "colab_type": "code",
        "colab": {
          "base_uri": "https://localhost:8080/",
          "height": 108
        },
        "outputId": "a3b5ad30-47a6-491b-9e2b-182fb2b14821"
      },
      "source": [
        "print(\" Eigen Vectors %s\" %eig_vecs) #using place holder %s however I didn't find any change in printed values"
      ],
      "execution_count": 18,
      "outputs": [
        {
          "output_type": "stream",
          "text": [
            " Eigen Vectors [[ 0.51666108  0.0141162   0.85406963  0.05384783  0.02296804]\n",
            " [ 0.44554192 -0.44578232 -0.21117277 -0.71162721 -0.2275155 ]\n",
            " [ 0.35492362  0.77322684 -0.21746298 -0.31322919  0.36158929]\n",
            " [ 0.44200397 -0.4017063  -0.30384922  0.42369238  0.60944644]\n",
            " [-0.46175258 -0.20452669  0.29386498 -0.46158355  0.66748587]]\n"
          ],
          "name": "stdout"
        }
      ]
    },
    {
      "cell_type": "code",
      "metadata": {
        "id": "VVqeZHG1Z2-W",
        "colab_type": "code",
        "colab": {
          "base_uri": "https://localhost:8080/",
          "height": 53
        },
        "outputId": "c08cd46a-bb42-45e3-90ac-89a4aa670821"
      },
      "source": [
        "projected_x = x_std.dot(eig_vecs.T[0]) # ? 6. Project data point onto selected Eigen Vector\n",
        "#dot product of standard scaler of features with first column of eigen vectors,\n",
        "# need to understand why and how does it projects all the points to the hyper plane axis \n",
        "print(projected_x)"
      ],
      "execution_count": 27,
      "outputs": [
        {
          "output_type": "stream",
          "text": [
            "[-2.19860477  0.02925812  1.37568957 -2.71984688  3.09758749 -2.09815029\n",
            " -0.30959493  2.65546359 -0.37676263  0.54496073]\n"
          ],
          "name": "stdout"
        }
      ]
    },
    {
      "cell_type": "code",
      "metadata": {
        "id": "upoX2mCHeTOv",
        "colab_type": "code",
        "colab": {
          "base_uri": "https://localhost:8080/",
          "height": 235
        },
        "outputId": "495f6a29-3fb1-4a9a-d182-15dd0c9374f5"
      },
      "source": [
        "result = pd.DataFrame(projected_x, columns= ['PC1']) \n",
        "print(type(result))\n",
        "print(result)"
      ],
      "execution_count": 30,
      "outputs": [
        {
          "output_type": "stream",
          "text": [
            "<class 'pandas.core.frame.DataFrame'>\n",
            "        PC1\n",
            "0 -2.198605\n",
            "1  0.029258\n",
            "2  1.375690\n",
            "3 -2.719847\n",
            "4  3.097587\n",
            "5 -2.098150\n",
            "6 -0.309595\n",
            "7  2.655464\n",
            "8 -0.376763\n",
            "9  0.544961\n"
          ],
          "name": "stdout"
        }
      ]
    },
    {
      "cell_type": "code",
      "metadata": {
        "id": "DM-WlAJxf0vP",
        "colab_type": "code",
        "colab": {}
      },
      "source": [
        "result['y-axis'] = 0.0\n",
        "result['label'] = y"
      ],
      "execution_count": 0,
      "outputs": []
    },
    {
      "cell_type": "code",
      "metadata": {
        "id": "KjWBamFqhn0U",
        "colab_type": "code",
        "colab": {
          "base_uri": "https://localhost:8080/",
          "height": 217
        },
        "outputId": "754413f9-bc5e-4f64-811e-a3afbe3cbaaa"
      },
      "source": [
        "print(result.head(10))"
      ],
      "execution_count": 37,
      "outputs": [
        {
          "output_type": "stream",
          "text": [
            "        PC1  y-axis   label\n",
            "0 -2.198605     0.0  Skinny\n",
            "1  0.029258     0.0  Normal\n",
            "2  1.375690     0.0     Fat\n",
            "3 -2.719847     0.0  Skinny\n",
            "4  3.097587     0.0     Fat\n",
            "5 -2.098150     0.0  Skinny\n",
            "6 -0.309595     0.0  Normal\n",
            "7  2.655464     0.0     Fat\n",
            "8 -0.376763     0.0  Normal\n",
            "9  0.544961     0.0     Fat\n"
          ],
          "name": "stdout"
        }
      ]
    },
    {
      "cell_type": "code",
      "metadata": {
        "id": "yslxSMrZh4aQ",
        "colab_type": "code",
        "colab": {
          "base_uri": "https://localhost:8080/",
          "height": 73
        },
        "outputId": "0c357abd-9a12-4b0a-e7a5-dfcce58fe07f"
      },
      "source": [
        "import matplotlib.pyplot as plt\n",
        "import seaborn as sns"
      ],
      "execution_count": 39,
      "outputs": [
        {
          "output_type": "stream",
          "text": [
            "/usr/local/lib/python3.6/dist-packages/statsmodels/tools/_testing.py:19: FutureWarning: pandas.util.testing is deprecated. Use the functions in the public API at pandas.testing instead.\n",
            "  import pandas.util.testing as tm\n"
          ],
          "name": "stderr"
        }
      ]
    },
    {
      "cell_type": "code",
      "metadata": {
        "id": "s1y7HcCOj83H",
        "colab_type": "code",
        "colab": {
          "base_uri": "https://localhost:8080/",
          "height": 387
        },
        "outputId": "84675253-4263-4da7-aadf-57dc8cfb607b"
      },
      "source": [
        "sns.lmplot('PC1','y-axis',data = result, fit_reg=False, hue  = 'label', scatter_kws= {'s':50})\n",
        "# scatter_kws is marker size"
      ],
      "execution_count": 41,
      "outputs": [
        {
          "output_type": "execute_result",
          "data": {
            "text/plain": [
              "<seaborn.axisgrid.FacetGrid at 0x7f3505ce6b00>"
            ]
          },
          "metadata": {
            "tags": []
          },
          "execution_count": 41
        },
        {
          "output_type": "display_data",
          "data": {
            "image/png": "[encoded data removed]",
            "text/plain": [
              "<Figure size 432.125x360 with 1 Axes>"
            ]
          },
          "metadata": {
            "tags": [],
            "needs_background": "light"
          }
        }
      ]
    },
    {
      "cell_type": "code",
      "metadata": {
        "id": "3lLFrbzFmgwK",
        "colab_type": "code",
        "colab": {
          "base_uri": "https://localhost:8080/",
          "height": 387
        },
        "outputId": "bef210a2-56f3-4546-fe49-51c9fc49475c"
      },
      "source": [
        "sns.lmplot('PC1','y-axis',data = result, fit_reg=False, hue  = 'label') # deleting scatter_kws= {'s':50} makes no impact"
      ],
      "execution_count": 42,
      "outputs": [
        {
          "output_type": "execute_result",
          "data": {
            "text/plain": [
              "<seaborn.axisgrid.FacetGrid at 0x7f3505ce6240>"
            ]
          },
          "metadata": {
            "tags": []
          },
          "execution_count": 42
        },
        {
          "output_type": "display_data",
          "data": {
            "image/png": "[encoded data removed]",
            "text/plain": [
              "<Figure size 432.125x360 with 1 Axes>"
            ]
          },
          "metadata": {
            "tags": [],
            "needs_background": "light"
          }
        }
      ]
    },
    {
      "cell_type": "code",
      "metadata": {
        "id": "Brgr7DYJm-fh",
        "colab_type": "code",
        "colab": {
          "base_uri": "https://localhost:8080/",
          "height": 387
        },
        "outputId": "a5891309-691f-464c-e479-12eee7f546ff"
      },
      "source": [
        "sns.lmplot('PC1','y-axis',data = result, fit_reg=True, hue  = 'label') # fit_reg = True performs regression."
      ],
      "execution_count": 43,
      "outputs": [
        {
          "output_type": "execute_result",
          "data": {
            "text/plain": [
              "<seaborn.axisgrid.FacetGrid at 0x7f35033768d0>"
            ]
          },
          "metadata": {
            "tags": []
          },
          "execution_count": 43
        },
        {
          "output_type": "display_data",
          "data": {
            "image/png": "[encoded data removed]",
            "text/plain": [
              "<Figure size 432.125x360 with 1 Axes>"
            ]
          },
          "metadata": {
            "tags": [],
            "needs_background": "light"
          }
        }
      ]
    },
    {
      "cell_type": "code",
      "metadata": {
        "id": "6oXopsd4nN1X",
        "colab_type": "code",
        "colab": {}
      },
      "source": [
        "# Now Let's try using scikit - learn"
      ],
      "execution_count": 0,
      "outputs": []
    },
    {
      "cell_type": "code",
      "metadata": {
        "id": "QGAfhnytnqn8",
        "colab_type": "code",
        "colab": {}
      },
      "source": [
        "from sklearn import decomposition\n",
        "pca = decomposition.PCA(n_components=1)\n",
        "sklearn_pca_x = pca.fit_transform(x_std)"
      ],
      "execution_count": 0,
      "outputs": []
    },
    {
      "cell_type": "code",
      "metadata": {
        "id": "veko2p7mntZJ",
        "colab_type": "code",
        "colab": {
          "base_uri": "https://localhost:8080/",
          "height": 387
        },
        "outputId": "b2e53f78-ec7a-48c6-a1e2-79515ada55f9"
      },
      "source": [
        "sklearn_result = pd.DataFrame(sklearn_pca_x, columns=['PC1'])\n",
        "sklearn_result['y-axis'] = 0.0\n",
        "sklearn_result['label'] = y\n",
        "\n",
        "sns.lmplot('PC1', 'y-axis', data=sklearn_result, fit_reg=False,  # x-axis, y-axis, data, no line\n",
        "           scatter_kws={\"s\": 50}, # marker size\n",
        "           hue=\"label\") # color"
      ],
      "execution_count": 47,
      "outputs": [
        {
          "output_type": "execute_result",
          "data": {
            "text/plain": [
              "<seaborn.axisgrid.FacetGrid at 0x7f350123b860>"
            ]
          },
          "metadata": {
            "tags": []
          },
          "execution_count": 47
        },
        {
          "output_type": "display_data",
          "data": {
            "image/png": "[encoded data removed]",
            "text/plain": [
              "<Figure size 432.125x360 with 1 Axes>"
            ]
          },
          "metadata": {
            "tags": [],
            "needs_background": "light"
          }
        }
      ]
    },
    {
      "cell_type": "code",
      "metadata": {
        "id": "XQvJZBS5nzNq",
        "colab_type": "code",
        "colab": {}
      },
      "source": [
        ""
      ],
      "execution_count": 0,
      "outputs": []
    }
  ]
}