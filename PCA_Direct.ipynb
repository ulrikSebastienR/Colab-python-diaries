{
  "nbformat": 4,
  "nbformat_minor": 0,
  "metadata": {
    "colab": {
      "name": "PCA Direct.ipynb",
      "provenance": [],
      "authorship_tag": "ABX9TyMF3HOI/NX4BNvZkhUM8kcL",
      "include_colab_link": true
    },
    "kernelspec": {
      "name": "python3",
      "display_name": "Python 3"
    }
  },
  "cells": [
    {
      "cell_type": "markdown",
      "metadata": {
        "id": "view-in-github",
        "colab_type": "text"
      },
      "source": [
        "<a href=\"https://colab.research.google.com/github/ulrikSebastienR/Colab-python-diaries/blob/master/PCA_Direct.ipynb\" target=\"_parent\"><img src=\"https://colab.research.google.com/assets/colab-badge.svg\" alt=\"Open In Colab\"/></a>"
      ]
    },
    {
      "cell_type": "code",
      "metadata": {
        "id": "YhJKzdAoNKxn",
        "colab_type": "code",
        "colab": {}
      },
      "source": [
        "#PCA algorithm step by step with python code \n",
        "#https://www.youtube.com/watch?v=xebPVQ1f7nM&t=4s\n",
        "#https://github.com/minsuk-heo/python_tutorial/blob/master/data_science/pca/PCA.ipynb"
      ],
      "execution_count": 0,
      "outputs": []
    },
    {
      "cell_type": "code",
      "metadata": {
        "id": "AsPD43aYPAzy",
        "colab_type": "code",
        "colab": {}
      },
      "source": [
        "import pandas as pd"
      ],
      "execution_count": 0,
      "outputs": []
    },
    {
      "cell_type": "code",
      "metadata": {
        "id": "JhN1tufkPIIi",
        "colab_type": "code",
        "outputId": "440b9ed2-2230-4df5-c0f4-91f2808e020c",
        "colab": {
          "base_uri": "https://localhost:8080/",
          "height": 126
        }
      },
      "source": [
        "df = pd.DataFrame(columns= ['Calorie', 'breakfast', 'lunch', 'dinner', 'exercise', 'Body_shape'])\n",
        "print(df)\n",
        "print(df.head())"
      ],
      "execution_count": 3,
      "outputs": [
        {
          "output_type": "stream",
          "text": [
            "Empty DataFrame\n",
            "Columns: [Calorie, breakfast, lunch, dinner, exercise, Body_shape]\n",
            "Index: []\n",
            "Empty DataFrame\n",
            "Columns: [Calorie, breakfast, lunch, dinner, exercise, Body_shape]\n",
            "Index: []\n"
          ],
          "name": "stdout"
        }
      ]
    },
    {
      "cell_type": "code",
      "metadata": {
        "id": "N0jVMSUbP25D",
        "colab_type": "code",
        "outputId": "6a2dcb2c-9fab-48cf-db01-a1a2f6b65929",
        "colab": {
          "base_uri": "https://localhost:8080/",
          "height": 326
        }
      },
      "source": [
        "df.loc[0] = [1200, 1, 0, 0, 2,'Skinny']\n",
        "df.loc[1] = [2800, 1,1,1,1,'Normal']\n",
        "df.loc[2] = [3500,2,1,1,0,'Fat']\n",
        "df.loc[3] = [1400, 0, 1, 0, 3, 'Skinny']\n",
        "df.loc[4] =  [5000, 2, 2, 2, 0, 'Fat']\n",
        "df.loc[5] = [1300, 0, 0, 1, 2, 'Skinny']\n",
        "df.loc[6] = [3000, 1, 0, 1, 1, 'Normal']\n",
        "df.loc[7] = [4000, 2, 2, 2, 0, 'Fat']\n",
        "df.loc[8] = [2600, 0, 2, 0, 0, 'Normal']\n",
        "df.loc[9] = [3000, 1, 2, 1, 1, 'Fat']\n",
        "print(df)\n",
        "print(df.head())"
      ],
      "execution_count": 4,
      "outputs": [
        {
          "output_type": "stream",
          "text": [
            "  Calorie breakfast lunch dinner exercise Body_shape\n",
            "0    1200         1     0      0        2     Skinny\n",
            "1    2800         1     1      1        1     Normal\n",
            "2    3500         2     1      1        0        Fat\n",
            "3    1400         0     1      0        3     Skinny\n",
            "4    5000         2     2      2        0        Fat\n",
            "5    1300         0     0      1        2     Skinny\n",
            "6    3000         1     0      1        1     Normal\n",
            "7    4000         2     2      2        0        Fat\n",
            "8    2600         0     2      0        0     Normal\n",
            "9    3000         1     2      1        1        Fat\n",
            "  Calorie breakfast lunch dinner exercise Body_shape\n",
            "0    1200         1     0      0        2     Skinny\n",
            "1    2800         1     1      1        1     Normal\n",
            "2    3500         2     1      1        0        Fat\n",
            "3    1400         0     1      0        3     Skinny\n",
            "4    5000         2     2      2        0        Fat\n"
          ],
          "name": "stdout"
        }
      ]
    },
    {
      "cell_type": "code",
      "metadata": {
        "id": "bjCuIFALQhGC",
        "colab_type": "code",
        "outputId": "810e3fc2-7706-4e5f-b68b-e3c30653257d",
        "colab": {
          "base_uri": "https://localhost:8080/",
          "height": 235
        }
      },
      "source": [
        "#Split feature vectors : Representation is x\n",
        "x = df[['Calorie', 'breakfast', 'lunch', 'dinner', 'exercise']]\n",
        "print(type(x))\n",
        "print(x)"
      ],
      "execution_count": 5,
      "outputs": [
        {
          "output_type": "stream",
          "text": [
            "<class 'pandas.core.frame.DataFrame'>\n",
            "  Calorie breakfast lunch dinner exercise\n",
            "0    1200         1     0      0        2\n",
            "1    2800         1     1      1        1\n",
            "2    3500         2     1      1        0\n",
            "3    1400         0     1      0        3\n",
            "4    5000         2     2      2        0\n",
            "5    1300         0     0      1        2\n",
            "6    3000         1     0      1        1\n",
            "7    4000         2     2      2        0\n",
            "8    2600         0     2      0        0\n",
            "9    3000         1     2      1        1\n"
          ],
          "name": "stdout"
        }
      ]
    },
    {
      "cell_type": "code",
      "metadata": {
        "id": "8L7zmRpuMhSm",
        "colab_type": "code",
        "outputId": "4ea61b57-02f1-4d37-b0db-d8cfa05d5251",
        "colab": {
          "base_uri": "https://localhost:8080/",
          "height": 344
        }
      },
      "source": [
        "#Split labels\n",
        "y = df['Body_shape']\n",
        "print(type(y))\n",
        "print(y.head())\n",
        "print(y)"
      ],
      "execution_count": 6,
      "outputs": [
        {
          "output_type": "stream",
          "text": [
            "<class 'pandas.core.series.Series'>\n",
            "0    Skinny\n",
            "1    Normal\n",
            "2       Fat\n",
            "3    Skinny\n",
            "4       Fat\n",
            "Name: Body_shape, dtype: object\n",
            "0    Skinny\n",
            "1    Normal\n",
            "2       Fat\n",
            "3    Skinny\n",
            "4       Fat\n",
            "5    Skinny\n",
            "6    Normal\n",
            "7       Fat\n",
            "8    Normal\n",
            "9       Fat\n",
            "Name: Body_shape, dtype: object\n"
          ],
          "name": "stdout"
        }
      ]
    },
    {
      "cell_type": "code",
      "metadata": {
        "id": "nHM3Z11FNf6M",
        "colab_type": "code",
        "outputId": "9bdf2eb1-29e1-4d44-af1f-2570d6b82981",
        "colab": {
          "base_uri": "https://localhost:8080/",
          "height": 217
        }
      },
      "source": [
        "# rescaling all feature vectors to have the same scale\n",
        "from sklearn.preprocessing import StandardScaler\n",
        "x_std = StandardScaler().fit_transform(x)\n",
        "print(type(x_std))\n",
        "print(x_std)"
      ],
      "execution_count": 7,
      "outputs": [
        {
          "output_type": "stream",
          "text": [
            "<class 'numpy.ndarray'>\n",
            "[[-1.35205803  0.         -1.32424438 -1.28571429  1.        ]\n",
            " [ 0.01711466  0.         -0.12038585  0.14285714  0.        ]\n",
            " [ 0.61612771  1.29099445 -0.12038585  0.14285714 -1.        ]\n",
            " [-1.18091145 -1.29099445 -0.12038585 -1.28571429  2.        ]\n",
            " [ 1.89972711  1.29099445  1.08347268  1.57142857 -1.        ]\n",
            " [-1.26648474 -1.29099445 -1.32424438  0.14285714  1.        ]\n",
            " [ 0.18826125  0.         -1.32424438  0.14285714  0.        ]\n",
            " [ 1.04399418  1.29099445  1.08347268  1.57142857 -1.        ]\n",
            " [-0.15403193 -1.29099445  1.08347268 -1.28571429 -1.        ]\n",
            " [ 0.18826125  0.          1.08347268  0.14285714  0.        ]]\n"
          ],
          "name": "stdout"
        }
      ]
    },
    {
      "cell_type": "code",
      "metadata": {
        "id": "xVE5mpmLSPGC",
        "colab_type": "code",
        "outputId": "5925accc-6ef9-4716-ed9b-336bf7fbd337",
        "colab": {
          "base_uri": "https://localhost:8080/",
          "height": 283
        }
      },
      "source": [
        "import matplotlib.pyplot as plt\n",
        "plt.imshow(x_std)"
      ],
      "execution_count": 8,
      "outputs": [
        {
          "output_type": "execute_result",
          "data": {
            "text/plain": [
              "<matplotlib.image.AxesImage at 0x7efc08e967f0>"
            ]
          },
          "metadata": {
            "tags": []
          },
          "execution_count": 8
        },
        {
          "output_type": "display_data",
          "data": {
            "image/png": "[encoded data removed]",
            "text/plain": [
              "<Figure size 432x288 with 1 Axes>"
            ]
          },
          "metadata": {
            "tags": [],
            "needs_background": "light"
          }
        }
      ]
    },
    {
      "cell_type": "code",
      "metadata": {
        "id": "NIZEW5fZTMdp",
        "colab_type": "code",
        "colab": {}
      },
      "source": [
        "import numpy as np"
      ],
      "execution_count": 0,
      "outputs": []
    },
    {
      "cell_type": "code",
      "metadata": {
        "id": "E29RHkR7n6UY",
        "colab_type": "code",
        "outputId": "6b9c5838-1779-4108-f987-e573032b3663",
        "colab": {
          "base_uri": "https://localhost:8080/",
          "height": 199
        }
      },
      "source": [
        "# features are stored in the columns but numpy covariance function\n",
        "# numpy.cov applies only on rows so we need to transpose the standardized x.\n",
        "features = x_std.T # T is same as transpose of the array\n",
        "print(features)"
      ],
      "execution_count": 10,
      "outputs": [
        {
          "output_type": "stream",
          "text": [
            "[[-1.35205803  0.01711466  0.61612771 -1.18091145  1.89972711 -1.26648474\n",
            "   0.18826125  1.04399418 -0.15403193  0.18826125]\n",
            " [ 0.          0.          1.29099445 -1.29099445  1.29099445 -1.29099445\n",
            "   0.          1.29099445 -1.29099445  0.        ]\n",
            " [-1.32424438 -0.12038585 -0.12038585 -0.12038585  1.08347268 -1.32424438\n",
            "  -1.32424438  1.08347268  1.08347268  1.08347268]\n",
            " [-1.28571429  0.14285714  0.14285714 -1.28571429  1.57142857  0.14285714\n",
            "   0.14285714  1.57142857 -1.28571429  0.14285714]\n",
            " [ 1.          0.         -1.          2.         -1.          1.\n",
            "   0.         -1.         -1.          0.        ]]\n"
          ],
          "name": "stdout"
        }
      ]
    },
    {
      "cell_type": "code",
      "metadata": {
        "id": "lNDapVGrojp7",
        "colab_type": "code",
        "colab": {
          "base_uri": "https://localhost:8080/",
          "height": 126
        },
        "outputId": "2aebee1f-b3f9-4213-d83d-d16d5b66e099"
      },
      "source": [
        "covariance_matrix = np.cov(features)\n",
        "print(type(covariance_matrix))\n",
        "print(covariance_matrix)"
      ],
      "execution_count": 12,
      "outputs": [
        {
          "output_type": "stream",
          "text": [
            "<class 'numpy.ndarray'>\n",
            "[[ 1.11111111  0.88379717  0.72341627  0.89376551 -0.93179808]\n",
            " [ 0.88379717  1.11111111  0.34537215  0.81967902 -0.71721914]\n",
            " [ 0.72341627  0.34537215  1.11111111  0.40128618 -0.66881029]\n",
            " [ 0.89376551  0.81967902  0.40128618  1.11111111 -0.63492063]\n",
            " [-0.93179808 -0.71721914 -0.66881029 -0.63492063  1.11111111]]\n"
          ],
          "name": "stdout"
        }
      ]
    },
    {
      "cell_type": "code",
      "metadata": {
        "id": "hZZUK-MXKuiT",
        "colab_type": "code",
        "colab": {}
      },
      "source": [
        "# computing eigen vectors and eigen values.\n",
        "eig_vals, eig_vecs = np.linalg.eig(covariance_matrix)"
      ],
      "execution_count": 0,
      "outputs": []
    },
    {
      "cell_type": "code",
      "metadata": {
        "id": "x374O5y1NYtf",
        "colab_type": "code",
        "colab": {
          "base_uri": "https://localhost:8080/",
          "height": 35
        },
        "outputId": "6124bd43-76ea-485e-f288-e8d9d4f5fd08"
      },
      "source": [
        "print(eig_vals)"
      ],
      "execution_count": 15,
      "outputs": [
        {
          "output_type": "stream",
          "text": [
            "[3.96759543 0.89363477 0.06981086 0.24301862 0.38149587]\n"
          ],
          "name": "stdout"
        }
      ]
    },
    {
      "cell_type": "code",
      "metadata": {
        "id": "qlmzqXeNTR24",
        "colab_type": "code",
        "colab": {
          "base_uri": "https://localhost:8080/",
          "height": 134
        },
        "outputId": "a5e6375e-2b06-43be-b21e-ac9a86c1bdac"
      },
      "source": [
        "print(\\n \"Eigen Values\", eig_vals)"
      ],
      "execution_count": 16,
      "outputs": [
        {
          "output_type": "error",
          "ename": "SyntaxError",
          "evalue": "ignored",
          "traceback": [
            "\u001b[0;36m  File \u001b[0;32m\"<ipython-input-16-1d934b1f5b6f>\"\u001b[0;36m, line \u001b[0;32m1\u001b[0m\n\u001b[0;31m    print(\\n \"Eigen Values\", eig_vals)\u001b[0m\n\u001b[0m                                      ^\u001b[0m\n\u001b[0;31mSyntaxError\u001b[0m\u001b[0;31m:\u001b[0m unexpected character after line continuation character\n"
          ]
        }
      ]
    },
    {
      "cell_type": "code",
      "metadata": {
        "id": "7sFhF1BAThro",
        "colab_type": "code",
        "colab": {}
      },
      "source": [
        ""
      ],
      "execution_count": 0,
      "outputs": []
    }
  ]
}