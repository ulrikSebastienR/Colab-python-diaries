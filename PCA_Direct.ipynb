{
  "nbformat": 4,
  "nbformat_minor": 0,
  "metadata": {
    "colab": {
      "name": "PCA Direct.ipynb",
      "provenance": [],
      "authorship_tag": "ABX9TyN31H/VSjFRJM7e7J/dr1c+",
      "include_colab_link": true
    },
    "kernelspec": {
      "name": "python3",
      "display_name": "Python 3"
    }
  },
  "cells": [
    {
      "cell_type": "markdown",
      "metadata": {
        "id": "view-in-github",
        "colab_type": "text"
      },
      "source": [
        "<a href=\"https://colab.research.google.com/github/ulrikSebastienR/Colab-python-diaries/blob/master/PCA_Direct.ipynb\" target=\"_parent\"><img src=\"https://colab.research.google.com/assets/colab-badge.svg\" alt=\"Open In Colab\"/></a>"
      ]
    },
    {
      "cell_type": "code",
      "metadata": {
        "id": "YhJKzdAoNKxn",
        "colab_type": "code",
        "colab": {}
      },
      "source": [
        "#PCA algorithm step by step with python code \n",
        "#https://www.youtube.com/watch?v=xebPVQ1f7nM&t=4s"
      ],
      "execution_count": 0,
      "outputs": []
    }
  ]
}