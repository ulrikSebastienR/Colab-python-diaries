{
  "nbformat": 4,
  "nbformat_minor": 0,
  "metadata": {
    "colab": {
      "name": "PCA Direct.ipynb",
      "provenance": [],
      "authorship_tag": "ABX9TyO/j8tKj/Ts3u6uxR4+6Gh9",
      "include_colab_link": true
    },
    "kernelspec": {
      "name": "python3",
      "display_name": "Python 3"
    }
  },
  "cells": [
    {
      "cell_type": "markdown",
      "metadata": {
        "id": "view-in-github",
        "colab_type": "text"
      },
      "source": [
        "<a href=\"https://colab.research.google.com/github/ulrikSebastienR/Colab-python-diaries/blob/master/PCA_Direct.ipynb\" target=\"_parent\"><img src=\"https://colab.research.google.com/assets/colab-badge.svg\" alt=\"Open In Colab\"/></a>"
      ]
    },
    {
      "cell_type": "code",
      "metadata": {
        "id": "YhJKzdAoNKxn",
        "colab_type": "code",
        "colab": {}
      },
      "source": [
        "#PCA algorithm step by step with python code \n",
        "#https://www.youtube.com/watch?v=xebPVQ1f7nM&t=4s\n",
        "#https://github.com/minsuk-heo/python_tutorial/blob/master/data_science/pca/PCA.ipynb"
      ],
      "execution_count": 0,
      "outputs": []
    },
    {
      "cell_type": "code",
      "metadata": {
        "id": "AsPD43aYPAzy",
        "colab_type": "code",
        "colab": {}
      },
      "source": [
        "import pandas as pd"
      ],
      "execution_count": 0,
      "outputs": []
    },
    {
      "cell_type": "code",
      "metadata": {
        "id": "JhN1tufkPIIi",
        "colab_type": "code",
        "colab": {
          "base_uri": "https://localhost:8080/",
          "height": 126
        },
        "outputId": "19c3ff22-e09c-48ec-e3ea-368db64a3778"
      },
      "source": [
        "df = pd.DataFrame(columns= ['Calorie', 'breakfast', 'lunch', 'dinner', 'exercise', 'Body_shape'])\n",
        "print(df)\n",
        "print(df.head())"
      ],
      "execution_count": 3,
      "outputs": [
        {
          "output_type": "stream",
          "text": [
            "Empty DataFrame\n",
            "Columns: [Calorie, breakfast, lunch, dinner, exercise, Body_shape]\n",
            "Index: []\n",
            "Empty DataFrame\n",
            "Columns: [Calorie, breakfast, lunch, dinner, exercise, Body_shape]\n",
            "Index: []\n"
          ],
          "name": "stdout"
        }
      ]
    },
    {
      "cell_type": "code",
      "metadata": {
        "id": "N0jVMSUbP25D",
        "colab_type": "code",
        "colab": {
          "base_uri": "https://localhost:8080/",
          "height": 326
        },
        "outputId": "71d913a2-0e6f-42a6-bc8d-62b4c9afef3b"
      },
      "source": [
        "df.loc[0] = [1200, 1, 0, 0, 2,'Skinny']\n",
        "df.loc[1] = [2800, 1,1,1,1,'Normal']\n",
        "df.loc[2] = [3500,2,1,1,0,'Fat']\n",
        "df.loc[3] = [1400, 0, 1, 0, 3, 'Skinny']\n",
        "df.loc[4] =  [5000, 2, 2, 2, 0, 'Fat']\n",
        "df.loc[5] = [1300, 0, 0, 1, 2, 'Skinny']\n",
        "df.loc[6] = [3000, 1, 0, 1, 1, 'Normal']\n",
        "df.loc[7] = [4000, 2, 2, 2, 0, 'Fat']\n",
        "df.loc[8] = [2600, 0, 2, 0, 0, 'Normal']\n",
        "df.loc[9] = [3000, 1, 2, 1, 1, 'Fat']\n",
        "print(df)\n",
        "print(df.head())"
      ],
      "execution_count": 7,
      "outputs": [
        {
          "output_type": "stream",
          "text": [
            "  Calorie breakfast lunch dinner exercise Body_shape\n",
            "0    1200         1     0      0        2     Skinny\n",
            "1    2800         1     1      1        1     Normal\n",
            "2    3500         2     1      1        0        Fat\n",
            "3    1400         0     1      0        3     Skinny\n",
            "4    5000         2     2      2        0        Fat\n",
            "5    1300         0     0      1        2     Skinny\n",
            "6    3000         1     0      1        1     Normal\n",
            "7    4000         2     2      2        0        Fat\n",
            "8    2600         0     2      0        0     Normal\n",
            "9    3000         1     2      1        1        Fat\n",
            "  Calorie breakfast lunch dinner exercise Body_shape\n",
            "0    1200         1     0      0        2     Skinny\n",
            "1    2800         1     1      1        1     Normal\n",
            "2    3500         2     1      1        0        Fat\n",
            "3    1400         0     1      0        3     Skinny\n",
            "4    5000         2     2      2        0        Fat\n"
          ],
          "name": "stdout"
        }
      ]
    },
    {
      "cell_type": "code",
      "metadata": {
        "id": "bjCuIFALQhGC",
        "colab_type": "code",
        "colab": {}
      },
      "source": [
        "#Split feature vectors : Representation is X\n",
        "features = []"
      ],
      "execution_count": 0,
      "outputs": []
    }
  ]
}