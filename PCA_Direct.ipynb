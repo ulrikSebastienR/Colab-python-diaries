{
  "nbformat": 4,
  "nbformat_minor": 0,
  "metadata": {
    "colab": {
      "name": "PCA Direct.ipynb",
      "provenance": [],
      "authorship_tag": "ABX9TyMSH8a2tZjCPDmLweAhdcho",
      "include_colab_link": true
    },
    "kernelspec": {
      "name": "python3",
      "display_name": "Python 3"
    }
  },
  "cells": [
    {
      "cell_type": "markdown",
      "metadata": {
        "id": "view-in-github",
        "colab_type": "text"
      },
      "source": [
        "<a href=\"https://colab.research.google.com/github/ulrikSebastienR/Colab-python-diaries/blob/master/PCA_Direct.ipynb\" target=\"_parent\"><img src=\"https://colab.research.google.com/assets/colab-badge.svg\" alt=\"Open In Colab\"/></a>"
      ]
    },
    {
      "cell_type": "code",
      "metadata": {
        "id": "YhJKzdAoNKxn",
        "colab_type": "code",
        "colab": {}
      },
      "source": [
        "#PCA algorithm step by step with python code \n",
        "#https://www.youtube.com/watch?v=xebPVQ1f7nM&t=4s\n",
        "#https://github.com/minsuk-heo/python_tutorial/blob/master/data_science/pca/PCA.ipynb"
      ],
      "execution_count": 0,
      "outputs": []
    },
    {
      "cell_type": "code",
      "metadata": {
        "id": "AsPD43aYPAzy",
        "colab_type": "code",
        "colab": {}
      },
      "source": [
        "import pandas as pd"
      ],
      "execution_count": 0,
      "outputs": []
    },
    {
      "cell_type": "code",
      "metadata": {
        "id": "JhN1tufkPIIi",
        "colab_type": "code",
        "outputId": "b3336da8-47dd-49a2-c874-564ac22cf0dd",
        "colab": {
          "base_uri": "https://localhost:8080/",
          "height": 126
        }
      },
      "source": [
        "df = pd.DataFrame(columns= ['Calorie', 'breakfast', 'lunch', 'dinner', 'exercise', 'Body_shape'])\n",
        "print(df)\n",
        "print(df.head())"
      ],
      "execution_count": 21,
      "outputs": [
        {
          "output_type": "stream",
          "text": [
            "Empty DataFrame\n",
            "Columns: [Calorie, breakfast, lunch, dinner, exercise, Body_shape]\n",
            "Index: []\n",
            "Empty DataFrame\n",
            "Columns: [Calorie, breakfast, lunch, dinner, exercise, Body_shape]\n",
            "Index: []\n"
          ],
          "name": "stdout"
        }
      ]
    },
    {
      "cell_type": "code",
      "metadata": {
        "id": "N0jVMSUbP25D",
        "colab_type": "code",
        "outputId": "2740671b-6710-4d14-b3b2-dee5f99c73ef",
        "colab": {
          "base_uri": "https://localhost:8080/",
          "height": 326
        }
      },
      "source": [
        "df.loc[0] = [1200, 1, 0, 0, 2,'Skinny']\n",
        "df.loc[1] = [2800, 1,1,1,1,'Normal']\n",
        "df.loc[2] = [3500,2,1,1,0,'Fat']\n",
        "df.loc[3] = [1400, 0, 1, 0, 3, 'Skinny']\n",
        "df.loc[4] =  [5000, 2, 2, 2, 0, 'Fat']\n",
        "df.loc[5] = [1300, 0, 0, 1, 2, 'Skinny']\n",
        "df.loc[6] = [3000, 1, 0, 1, 1, 'Normal']\n",
        "df.loc[7] = [4000, 2, 2, 2, 0, 'Fat']\n",
        "df.loc[8] = [2600, 0, 2, 0, 0, 'Normal']\n",
        "df.loc[9] = [3000, 1, 2, 1, 1, 'Fat']\n",
        "print(df)\n",
        "print(df.head())"
      ],
      "execution_count": 22,
      "outputs": [
        {
          "output_type": "stream",
          "text": [
            "  Calorie breakfast lunch dinner exercise Body_shape\n",
            "0    1200         1     0      0        2     Skinny\n",
            "1    2800         1     1      1        1     Normal\n",
            "2    3500         2     1      1        0        Fat\n",
            "3    1400         0     1      0        3     Skinny\n",
            "4    5000         2     2      2        0        Fat\n",
            "5    1300         0     0      1        2     Skinny\n",
            "6    3000         1     0      1        1     Normal\n",
            "7    4000         2     2      2        0        Fat\n",
            "8    2600         0     2      0        0     Normal\n",
            "9    3000         1     2      1        1        Fat\n",
            "  Calorie breakfast lunch dinner exercise Body_shape\n",
            "0    1200         1     0      0        2     Skinny\n",
            "1    2800         1     1      1        1     Normal\n",
            "2    3500         2     1      1        0        Fat\n",
            "3    1400         0     1      0        3     Skinny\n",
            "4    5000         2     2      2        0        Fat\n"
          ],
          "name": "stdout"
        }
      ]
    },
    {
      "cell_type": "code",
      "metadata": {
        "id": "bjCuIFALQhGC",
        "colab_type": "code",
        "outputId": "418b69e8-a51e-412b-8a8a-9284fe237246",
        "colab": {
          "base_uri": "https://localhost:8080/",
          "height": 235
        }
      },
      "source": [
        "#Split feature vectors : Representation is x\n",
        "x = df[['Calorie', 'breakfast', 'lunch', 'dinner', 'exercise']]\n",
        "print(type(x))\n",
        "print(x)"
      ],
      "execution_count": 23,
      "outputs": [
        {
          "output_type": "stream",
          "text": [
            "<class 'pandas.core.frame.DataFrame'>\n",
            "  Calorie breakfast lunch dinner exercise\n",
            "0    1200         1     0      0        2\n",
            "1    2800         1     1      1        1\n",
            "2    3500         2     1      1        0\n",
            "3    1400         0     1      0        3\n",
            "4    5000         2     2      2        0\n",
            "5    1300         0     0      1        2\n",
            "6    3000         1     0      1        1\n",
            "7    4000         2     2      2        0\n",
            "8    2600         0     2      0        0\n",
            "9    3000         1     2      1        1\n"
          ],
          "name": "stdout"
        }
      ]
    },
    {
      "cell_type": "code",
      "metadata": {
        "id": "8L7zmRpuMhSm",
        "colab_type": "code",
        "outputId": "9eaa48e7-8af7-4a86-b281-c8bcfdb513b9",
        "colab": {
          "base_uri": "https://localhost:8080/",
          "height": 344
        }
      },
      "source": [
        "#Split labels\n",
        "y = df['Body_shape']\n",
        "print(type(y))\n",
        "print(y.head())\n",
        "print(y)"
      ],
      "execution_count": 24,
      "outputs": [
        {
          "output_type": "stream",
          "text": [
            "<class 'pandas.core.series.Series'>\n",
            "0    Skinny\n",
            "1    Normal\n",
            "2       Fat\n",
            "3    Skinny\n",
            "4       Fat\n",
            "Name: Body_shape, dtype: object\n",
            "0    Skinny\n",
            "1    Normal\n",
            "2       Fat\n",
            "3    Skinny\n",
            "4       Fat\n",
            "5    Skinny\n",
            "6    Normal\n",
            "7       Fat\n",
            "8    Normal\n",
            "9       Fat\n",
            "Name: Body_shape, dtype: object\n"
          ],
          "name": "stdout"
        }
      ]
    },
    {
      "cell_type": "code",
      "metadata": {
        "id": "nHM3Z11FNf6M",
        "colab_type": "code",
        "outputId": "8df514aa-88cc-45fd-f98a-925c0df3b387",
        "colab": {
          "base_uri": "https://localhost:8080/",
          "height": 217
        }
      },
      "source": [
        "# rescaling all feature vectors to have the same scale\n",
        "from sklearn.preprocessing import StandardScaler\n",
        "x_std = StandardScaler().fit_transform(x)\n",
        "print(type(x_std))\n",
        "print(x_std)"
      ],
      "execution_count": 25,
      "outputs": [
        {
          "output_type": "stream",
          "text": [
            "<class 'numpy.ndarray'>\n",
            "[[-1.35205803  0.         -1.32424438 -1.28571429  1.        ]\n",
            " [ 0.01711466  0.         -0.12038585  0.14285714  0.        ]\n",
            " [ 0.61612771  1.29099445 -0.12038585  0.14285714 -1.        ]\n",
            " [-1.18091145 -1.29099445 -0.12038585 -1.28571429  2.        ]\n",
            " [ 1.89972711  1.29099445  1.08347268  1.57142857 -1.        ]\n",
            " [-1.26648474 -1.29099445 -1.32424438  0.14285714  1.        ]\n",
            " [ 0.18826125  0.         -1.32424438  0.14285714  0.        ]\n",
            " [ 1.04399418  1.29099445  1.08347268  1.57142857 -1.        ]\n",
            " [-0.15403193 -1.29099445  1.08347268 -1.28571429 -1.        ]\n",
            " [ 0.18826125  0.          1.08347268  0.14285714  0.        ]]\n"
          ],
          "name": "stdout"
        }
      ]
    },
    {
      "cell_type": "code",
      "metadata": {
        "id": "xVE5mpmLSPGC",
        "colab_type": "code",
        "outputId": "370f2cc1-765f-40a8-e26c-0d6ac8d8807c",
        "colab": {
          "base_uri": "https://localhost:8080/",
          "height": 283
        }
      },
      "source": [
        "import matplotlib.pyplot as plt\n",
        "plt.imshow(x_std)"
      ],
      "execution_count": 26,
      "outputs": [
        {
          "output_type": "execute_result",
          "data": {
            "text/plain": [
              "<matplotlib.image.AxesImage at 0x7feda54f9748>"
            ]
          },
          "metadata": {
            "tags": []
          },
          "execution_count": 26
        },
        {
          "output_type": "display_data",
          "data": {
            "image/png": "[encoded data removed]",
            "text/plain": [
              "<Figure size 432x288 with 1 Axes>"
            ]
          },
          "metadata": {
            "tags": [],
            "needs_background": "light"
          }
        }
      ]
    },
    {
      "cell_type": "code",
      "metadata": {
        "id": "NIZEW5fZTMdp",
        "colab_type": "code",
        "colab": {}
      },
      "source": [
        "import numpy as np"
      ],
      "execution_count": 0,
      "outputs": []
    },
    {
      "cell_type": "code",
      "metadata": {
        "id": "E29RHkR7n6UY",
        "colab_type": "code",
        "colab": {
          "base_uri": "https://localhost:8080/",
          "height": 199
        },
        "outputId": "ef51fc7b-c9f0-4d9a-9fa1-f4a0607d3a6c"
      },
      "source": [
        "features = x_std.T # T is same as transpose of the array\n",
        "print(features)"
      ],
      "execution_count": 28,
      "outputs": [
        {
          "output_type": "stream",
          "text": [
            "[[-1.35205803  0.01711466  0.61612771 -1.18091145  1.89972711 -1.26648474\n",
            "   0.18826125  1.04399418 -0.15403193  0.18826125]\n",
            " [ 0.          0.          1.29099445 -1.29099445  1.29099445 -1.29099445\n",
            "   0.          1.29099445 -1.29099445  0.        ]\n",
            " [-1.32424438 -0.12038585 -0.12038585 -0.12038585  1.08347268 -1.32424438\n",
            "  -1.32424438  1.08347268  1.08347268  1.08347268]\n",
            " [-1.28571429  0.14285714  0.14285714 -1.28571429  1.57142857  0.14285714\n",
            "   0.14285714  1.57142857 -1.28571429  0.14285714]\n",
            " [ 1.          0.         -1.          2.         -1.          1.\n",
            "   0.         -1.         -1.          0.        ]]\n"
          ],
          "name": "stdout"
        }
      ]
    },
    {
      "cell_type": "code",
      "metadata": {
        "id": "lNDapVGrojp7",
        "colab_type": "code",
        "colab": {}
      },
      "source": [
        ""
      ],
      "execution_count": 0,
      "outputs": []
    }
  ]
}