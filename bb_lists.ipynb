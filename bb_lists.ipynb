{
  "nbformat": 4,
  "nbformat_minor": 0,
  "metadata": {
    "colab": {
      "name": "bb lists.ipynb",
      "provenance": [],
      "authorship_tag": "ABX9TyOMH0WY9HUXKT3y6AgryJ+g",
      "include_colab_link": true
    },
    "kernelspec": {
      "name": "python3",
      "display_name": "Python 3"
    }
  },
  "cells": [
    {
      "cell_type": "markdown",
      "metadata": {
        "id": "view-in-github",
        "colab_type": "text"
      },
      "source": [
        "<a href=\"https://colab.research.google.com/github/ulrikSebastienR/Colab-python-diaries/blob/master/bb_lists.ipynb\" target=\"_parent\"><img src=\"https://colab.research.google.com/assets/colab-badge.svg\" alt=\"Open In Colab\"/></a>"
      ]
    },
    {
      "cell_type": "code",
      "metadata": {
        "id": "yjDMrU_Zb6w6",
        "colab_type": "code",
        "colab": {}
      },
      "source": [
        "#https://www.youtube.com/watch?v=lxsoox8Xb9s&list=LLNzsZNOL8ahph4IIYK2c9Pg&index=3\n",
        "#George boole's Python Convert String to List to Tuple"
      ],
      "execution_count": 0,
      "outputs": []
    },
    {
      "cell_type": "code",
      "metadata": {
        "id": "DUUfc-NmcsPP",
        "colab_type": "code",
        "colab": {
          "base_uri": "https://localhost:8080/",
          "height": 53
        },
        "outputId": "25054a95-9b04-4882-8ec4-1c7799dde831"
      },
      "source": [
        "x = \"usa, canada, england\"\n",
        "print(type(x))\n",
        "print(x)"
      ],
      "execution_count": 2,
      "outputs": [
        {
          "output_type": "stream",
          "text": [
            "<class 'str'>\n",
            "usa, canada, england\n"
          ],
          "name": "stdout"
        }
      ]
    },
    {
      "cell_type": "code",
      "metadata": {
        "id": "0GGotIpKc7aT",
        "colab_type": "code",
        "colab": {}
      },
      "source": [
        "y = "
      ],
      "execution_count": 0,
      "outputs": []
    }
  ]
}