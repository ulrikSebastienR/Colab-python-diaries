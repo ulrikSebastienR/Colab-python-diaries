{
  "nbformat": 4,
  "nbformat_minor": 0,
  "metadata": {
    "colab": {
      "name": "machine learning keith galli.ipynb",
      "provenance": [],
      "authorship_tag": "ABX9TyPxVPwgDCxtVbQQOrJwiyxE",
      "include_colab_link": true
    },
    "kernelspec": {
      "name": "python3",
      "display_name": "Python 3"
    }
  },
  "cells": [
    {
      "cell_type": "markdown",
      "metadata": {
        "id": "view-in-github",
        "colab_type": "text"
      },
      "source": [
        "<a href=\"https://colab.research.google.com/github/ulrikSebastienR/Colab-python-diaries/blob/master/machine_learning_keith_galli.ipynb\" target=\"_parent\"><img src=\"https://colab.research.google.com/assets/colab-badge.svg\" alt=\"Open In Colab\"/></a>"
      ]
    },
    {
      "cell_type": "code",
      "metadata": {
        "id": "5E1BvtmTp55G",
        "colab_type": "code",
        "colab": {}
      },
      "source": [
        "import numpy as np\n",
        "import random\n",
        "from sklearn.model_selection import train_test_split\n",
        "from sklearn.metrics import f1_score\n",
        "from sklearn.feature_extraction.text import CountVectorizer,TfidfVectorizer\n",
        "#https://www.youtube.com/watch?v=M9Itm95JzL0&t=26s\n",
        "\n",
        "\n",
        "import json"
      ],
      "execution_count": 0,
      "outputs": []
    },
    {
      "cell_type": "code",
      "metadata": {
        "id": "NVb9815lrlW-",
        "colab_type": "code",
        "colab": {}
      },
      "source": [
        "class Category:\n",
        "  ELECTRONICS = \"ELECTRONICS\"\n",
        "  BOOKS = \"BOOKS\""
      ],
      "execution_count": 0,
      "outputs": []
    },
    {
      "cell_type": "code",
      "metadata": {
        "id": "xuwOFDd81wuc",
        "colab_type": "code",
        "colab": {}
      },
      "source": [
        "class Sentiment:\n",
        "  POSITIVE = 'POSITIVE'\n",
        "  NEGATIVE = 'NEGATIVE'\n",
        "  NEUTRAL = 'NEUTRAL'"
      ],
      "execution_count": 0,
      "outputs": []
    },
    {
      "cell_type": "code",
      "metadata": {
        "id": "scBHs0HS4TGy",
        "colab_type": "code",
        "colab": {
          "base_uri": "https://localhost:8080/",
          "height": 35
        },
        "outputId": "d4365764-832c-46fd-d8ec-dd6c7dbf00f2"
      },
      "source": [
        "print(type(Sentiment))"
      ],
      "execution_count": 15,
      "outputs": [
        {
          "output_type": "stream",
          "text": [
            "<class 'type'>\n"
          ],
          "name": "stdout"
        }
      ]
    },
    {
      "cell_type": "code",
      "metadata": {
        "id": "SrcrxKdU1-2j",
        "colab_type": "code",
        "colab": {}
      },
      "source": [
        "class Review:\n",
        "  def __init__(self,category,text,score):\n",
        "    self.category = category\n",
        "    self.text = text\n",
        "    self.score = score\n",
        "    self.sentiment = get_sentiment()\n",
        "    print(type(self.sentiment))\n",
        "\n",
        "  def get_sentiment(self):\n",
        "    if self.score <= 2:\n",
        "      return Sentiment.NEGATIVE\n",
        "    elif self.score ==3:\n",
        "      return Sentiment.NEUTRAL\n",
        "    else:\n",
        "      return Sentiment.POSITIVE"
      ],
      "execution_count": 0,
      "outputs": []
    },
    {
      "cell_type": "code",
      "metadata": {
        "id": "pfAReqqk2nsS",
        "colab_type": "code",
        "colab": {}
      },
      "source": [
        "class ReviewContainer():\n",
        "  def __init__(self,reviews):\n",
        "    self.reviews = reviews\n",
        "  \n",
        "  def get_text(self):\n",
        "    return [x.text for x in self.reviews]"
      ],
      "execution_count": 0,
      "outputs": []
    },
    {
      "cell_type": "code",
      "metadata": {
        "id": "gfTKHztr41-s",
        "colab_type": "code",
        "colab": {}
      },
      "source": [
        ""
      ],
      "execution_count": 0,
      "outputs": []
    }
  ]
}