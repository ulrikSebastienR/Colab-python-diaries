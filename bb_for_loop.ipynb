{
  "nbformat": 4,
  "nbformat_minor": 0,
  "metadata": {
    "colab": {
      "name": "bb for loop.ipynb",
      "provenance": [],
      "authorship_tag": "ABX9TyMyuX9iiKfphPc674wLb/YO",
      "include_colab_link": true
    },
    "kernelspec": {
      "name": "python3",
      "display_name": "Python 3"
    }
  },
  "cells": [
    {
      "cell_type": "markdown",
      "metadata": {
        "id": "view-in-github",
        "colab_type": "text"
      },
      "source": [
        "<a href=\"https://colab.research.google.com/github/ulrikSebastienR/Colab-python-diaries/blob/master/bb_for_loop.ipynb\" target=\"_parent\"><img src=\"https://colab.research.google.com/assets/colab-badge.svg\" alt=\"Open In Colab\"/></a>"
      ]
    },
    {
      "cell_type": "code",
      "metadata": {
        "id": "yhbmQuyL3t08",
        "colab_type": "code",
        "colab": {}
      },
      "source": [
        "thislist = ['red','orange','green','pink']"
      ],
      "execution_count": 0,
      "outputs": []
    },
    {
      "cell_type": "code",
      "metadata": {
        "id": "hMhZsWpT4h77",
        "colab_type": "code",
        "colab": {
          "base_uri": "https://localhost:8080/",
          "height": 35
        },
        "outputId": "f34431b9-5224-4f4e-90de-c48823ae63b1"
      },
      "source": [
        "print(len(thislist))"
      ],
      "execution_count": 6,
      "outputs": [
        {
          "output_type": "stream",
          "text": [
            "4\n"
          ],
          "name": "stdout"
        }
      ]
    },
    {
      "cell_type": "code",
      "metadata": {
        "id": "Bc-6BX-x4rVa",
        "colab_type": "code",
        "colab": {
          "base_uri": "https://localhost:8080/",
          "height": 90
        },
        "outputId": "cba48e90-4ca5-4ac7-ca48-890eb7166f37"
      },
      "source": [
        "for i in range(len(thislist)):\n",
        "  print(i)"
      ],
      "execution_count": 8,
      "outputs": [
        {
          "output_type": "stream",
          "text": [
            "0\n",
            "1\n",
            "2\n",
            "3\n"
          ],
          "name": "stdout"
        }
      ]
    },
    {
      "cell_type": "code",
      "metadata": {
        "id": "HqDm337B5iYX",
        "colab_type": "code",
        "colab": {
          "base_uri": "https://localhost:8080/",
          "height": 90
        },
        "outputId": "a97ab53a-b24a-47e2-e04e-5dc5ebf38fd7"
      },
      "source": [
        "for value in thislist:\n",
        "  print(\"color at index\", value)"
      ],
      "execution_count": 11,
      "outputs": [
        {
          "output_type": "stream",
          "text": [
            "color at index red\n",
            "color at index orange\n",
            "color at index green\n",
            "color at index pink\n"
          ],
          "name": "stdout"
        }
      ]
    },
    {
      "cell_type": "code",
      "metadata": {
        "id": "FSwQi8g132NH",
        "colab_type": "code",
        "colab": {
          "base_uri": "https://localhost:8080/",
          "height": 90
        },
        "outputId": "c5c9755c-e5dc-470a-8920-092260bfaeea"
      },
      "source": [
        "for value in thislist:\n",
        "  print(\"color at index\", i, value) # nesting doesn't work "
      ],
      "execution_count": 9,
      "outputs": [
        {
          "output_type": "stream",
          "text": [
            "color at index 3 red\n",
            "color at index 3 orange\n",
            "color at index 3 green\n",
            "color at index 3 pink\n"
          ],
          "name": "stdout"
        }
      ]
    },
    {
      "cell_type": "code",
      "metadata": {
        "id": "u6fTIptm369J",
        "colab_type": "code",
        "colab": {
          "base_uri": "https://localhost:8080/",
          "height": 90
        },
        "outputId": "ccc9d5d1-03be-48e0-8191-93f5be705377"
      },
      "source": [
        "for i in range(len(thislist)):\n",
        "  print(\"color at index\", i, thislist[i])"
      ],
      "execution_count": 10,
      "outputs": [
        {
          "output_type": "stream",
          "text": [
            "color at index 0 red\n",
            "color at index 1 orange\n",
            "color at index 2 green\n",
            "color at index 3 pink\n"
          ],
          "name": "stdout"
        }
      ]
    },
    {
      "cell_type": "code",
      "metadata": {
        "id": "JzZwT8HM5e5s",
        "colab_type": "code",
        "colab": {}
      },
      "source": [
        ""
      ],
      "execution_count": 0,
      "outputs": []
    }
  ]
}